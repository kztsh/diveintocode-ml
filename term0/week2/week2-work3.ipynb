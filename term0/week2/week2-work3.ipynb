{
 "cells": [
  {
   "cell_type": "markdown",
   "metadata": {},
   "source": [
    "# Term0 Week2 授業前課題3\n",
    "## コーディング課題：内積"
   ]
  },
  {
   "cell_type": "markdown",
   "metadata": {},
   "source": [
    "## 1. 内積を手計算\n",
    "以下のような行列A,Bを考える。\n",
    "$$A =\n",
    "\\begin{pmatrix}\n",
    "-1 & 2 & 3 \\\\\n",
    "4 & -5 & 6 \\\\\n",
    "7 & 8 & -9 \\\\\n",
    "\\end{pmatrix}, \n",
    "B=\n",
    "\\begin{pmatrix}\n",
    "0 & 2 & 1 \\\\\n",
    "0 & 2 & -8 \\\\\n",
    "2 & 9 & -1 \\\\\n",
    "\\end{pmatrix}$$\n",
    "行列の内積$A*B$を手計算で解く。"
   ]
  },
  {
   "cell_type": "markdown",
   "metadata": {},
   "source": [
    "$$A*B=\n",
    "\\begin{pmatrix}\n",
    "(-1)*0+2*0+3*2 & (-1)*2+2*2+3*9 & (-1)*1+2*(-8)+3*(-1) \\\\\n",
    "4*0+(-5)*0+6*2 & 4*2+(-5)*2+6*9 & 4*1+(-5)*(-8)+6*(-1) \\\\\n",
    "7*0+8*0+(-9)*2 & 7*2+8*2+(-9)*9 & 7*1+8*(-8)+(-9)*(-1) \\\\\n",
    "\\end{pmatrix}\n",
    "=\n",
    "\\begin{pmatrix}\n",
    "6 & 29 & -20 \\\\\n",
    "12 & 52 & 38 \\\\\n",
    "-18 & -51 & -48 \\\\\n",
    "\\end{pmatrix}$$"
   ]
  },
  {
   "cell_type": "markdown",
   "metadata": {},
   "source": [
    "## 2. 1次元配列の内積をfor文で計算\n",
    "行列Aの(0,0)の要素と行列Bの(0,0)の要素を掛け合わせる  \n",
    "行列Aの(0,1)の要素と行列Bの(1,0)の要素を掛け合わせる  \n",
    "行列Aの(0,2)の要素と行列Bの(2,0)の要素を掛け合わせる  \n",
    "それらの値を全て足し合わせる  \n",
    "というフローを得て、ようやく一つ目の要素が求まる。\n",
    "\n",
    "次の要素を計算するには、行列のindexを増やし、上の過程を再度繰り返して行けばよい。配列のindexを指定し、  \n",
    "行列Aの(0,0)の要素と行列Bの(0,1)の要素を掛け合わせる  \n",
    "行列Aの(0,1)の要素と行列Bの(1,1)の要素を掛け合わせる  \n",
    "行列Aの(0,2)の要素と行列Bの(2,1)の要素を掛け合わせる  \n",
    "それらの値を全て足し合わせる  \n",
    "のフローをfor文を使って計算する。"
   ]
  },
  {
   "cell_type": "code",
   "execution_count": 24,
   "metadata": {},
   "outputs": [
    {
     "name": "stdout",
     "output_type": "stream",
     "text": [
      "(0, 0)要素： 6\n",
      "(0, 1)要素： 29\n"
     ]
    }
   ],
   "source": [
    "import numpy as np\n",
    "A=np.array([[-1,2,3],[4,-5,6],[7,8,-9]])\n",
    "B=np.array([[0,2,1],[0,2,-8],[2,9,-1]])\n",
    "\n",
    "# (0, 0)要素を計算\n",
    "index00=0\n",
    "for i, j in zip(A[0, :], B[:, 0]):\n",
    "    index00+=i * j\n",
    "print(\"(0, 0)要素：\", index00)\n",
    "\n",
    "# (0, 1)要素を計算\n",
    "index01=0\n",
    "for i, j in zip(A[0, :], B[:, 1]):\n",
    "    index01+=i * j\n",
    "print(\"(0, 1)要素：\", index01)"
   ]
  },
  {
   "cell_type": "markdown",
   "metadata": {},
   "source": [
    "## 3. 多次元配列の内積をfor文で計算\n",
    "2.ではA*Bの(0,0)だけ計算するコードを実装したが、全要素を求めるにはどうしたらよいか。\n",
    "\n",
    "行列A*Bの(0,1)を求めるには\n",
    "\n",
    "行列Aのインデックスは固定（0行目を選択したまま）で、行列Bのインデックスを0列目から1列目に指定しなおせばよい。\n",
    "\n",
    "行列Aの(0,0)の要素と行列Bの(0,1)の要素を掛け合わせる  \n",
    "行列Aの(0,1)の要素と行列Bの(1,1)の要素を掛け合わせる  \n",
    "行列Aの(0,2)の要素と行列Bの(2,1)の要素を掛け合わせる  \n",
    "1、2、3で求めた値を足し合わせる  \n",
    "とすればA*Bの(0,1)の要素が求まる。  \n",
    "\n",
    "このように同じ計算を順次インデックスを増やして行けば、全要素の計算ができる。\n",
    "以下では、for文を使って行列A、Bの積を計算する。"
   ]
  },
  {
   "cell_type": "code",
   "execution_count": 25,
   "metadata": {},
   "outputs": [
    {
     "name": "stdout",
     "output_type": "stream",
     "text": [
      "for文での行列計算結果：\n",
      " [[  6.  29. -20.]\n",
      " [ 12.  52.  38.]\n",
      " [-18. -51. -48.]]\n"
     ]
    }
   ],
   "source": [
    "Answer_for = np.zeros((3,3))\n",
    "for r in range(A.shape[0]):\n",
    "    for c in range(B.shape[1]):\n",
    "        for i, j in zip(A[r,:], B[:,c]):\n",
    "            Answer_for[r,c] += i*j\n",
    "print(\"for文での行列計算結果：\\n\", Answer_for)"
   ]
  },
  {
   "cell_type": "markdown",
   "metadata": {},
   "source": [
    "## 4. 内積をnp.dotで計算\n",
    "np.dot(A,B)を計算して、【課題3】と同じになることを試す。"
   ]
  },
  {
   "cell_type": "code",
   "execution_count": 26,
   "metadata": {},
   "outputs": [
    {
     "name": "stdout",
     "output_type": "stream",
     "text": [
      "numpy.dotでの行列計算結果：\n",
      " [[  6  29 -20]\n",
      " [ 12  52  38]\n",
      " [-18 -51 -48]]\n",
      "for文計算結果とnumpy.dot計算結果は一致しているか： 一致\n"
     ]
    }
   ],
   "source": [
    "Answer_np = np.dot(A,B)\n",
    "print(\"numpy.dotでの行列計算結果：\\n\", Answer_np)\n",
    "print(\"for文計算結果とnumpy.dot計算結果は一致しているか：\", \"一致\" if np.unique(Answer_for==Answer_np)==[1,] else \"不一致\")"
   ]
  },
  {
   "cell_type": "markdown",
   "metadata": {},
   "source": [
    "## 5. 内積ができないときはどうするか\n",
    "以下のような例を考える。\n",
    "$$A =\n",
    "\\begin{pmatrix}\n",
    "-1 & 2 & 3 \\\\\n",
    "4 & -5 & 6 \\\\\n",
    "\\end{pmatrix}, \n",
    "B=\n",
    "\\begin{pmatrix}\n",
    "-9 & 8 & 7 \\\\\n",
    "6 & -5 & 4 \\\\\n",
    "\\end{pmatrix}$$\n",
    "\n",
    "行列A\\*Bを計算しようとすると、エラーが出て計算できない理由は何か。  \n",
    "そして、行列A、Bのどちらかにある操作をするとエラーが出ずに計算できる。  \n",
    "自分である操作を施し、内積を計算する。"
   ]
  },
  {
   "cell_type": "code",
   "execution_count": 27,
   "metadata": {},
   "outputs": [
    {
     "name": "stdout",
     "output_type": "stream",
     "text": [
      "A転置の場合：\n",
      " [[ 33 -28   9]\n",
      " [-48  41  -6]\n",
      " [  9  -6  45]]\n",
      "B転置の場合：\n",
      " [[ 46  -4]\n",
      " [-34  73]]\n"
     ]
    }
   ],
   "source": [
    "A = np.array([[-1,2,3],[4,-5,6]])\n",
    "B = np.array([[-9,8,7],[6,-5,4]])\n",
    "# この場合、行列Aの列数と行列Bの行数が一致していないので、A*Bではエラーが出る。\n",
    "# AまたはBのどちらかを転値して行列計算する。\n",
    "\n",
    "# A転置の場合\n",
    "print(\"A転置の場合：\\n\", A.T.dot(B))\n",
    "\n",
    "# B転置の場合\n",
    "print(\"B転置の場合：\\n\", A.dot(B.T))"
   ]
  },
  {
   "cell_type": "code",
   "execution_count": null,
   "metadata": {},
   "outputs": [],
   "source": []
  }
 ],
 "metadata": {
  "kernelspec": {
   "display_name": "Python 3",
   "language": "python",
   "name": "python3"
  },
  "language_info": {
   "codemirror_mode": {
    "name": "ipython",
    "version": 3
   },
   "file_extension": ".py",
   "mimetype": "text/x-python",
   "name": "python",
   "nbconvert_exporter": "python",
   "pygments_lexer": "ipython3",
   "version": "3.7.1"
  }
 },
 "nbformat": 4,
 "nbformat_minor": 2
}
