{
 "cells": [
  {
   "cell_type": "markdown",
   "metadata": {},
   "source": [
    "# Term0 Week2 授業前課題2\n",
    "## コーディング課題：微分法、勾配降下法"
   ]
  },
  {
   "cell_type": "markdown",
   "metadata": {},
   "source": [
    "## 1. 1次元配列を作る\n",
    "0~1の範囲で0.01ごとにデータをNumPy配列で作成する。  \n",
    "データは[0, 0.01, 0.02・・・0.98, 0.99, 1]という形式の配列になる。"
   ]
  },
  {
   "cell_type": "code",
   "execution_count": 2,
   "metadata": {},
   "outputs": [
    {
     "name": "stdout",
     "output_type": "stream",
     "text": [
      "x：\n",
      " [0.   0.01 0.02 0.03 0.04 0.05 0.06 0.07 0.08 0.09 0.1  0.11 0.12 0.13\n",
      " 0.14 0.15 0.16 0.17 0.18 0.19 0.2  0.21 0.22 0.23 0.24 0.25 0.26 0.27\n",
      " 0.28 0.29 0.3  0.31 0.32 0.33 0.34 0.35 0.36 0.37 0.38 0.39 0.4  0.41\n",
      " 0.42 0.43 0.44 0.45 0.46 0.47 0.48 0.49 0.5  0.51 0.52 0.53 0.54 0.55\n",
      " 0.56 0.57 0.58 0.59 0.6  0.61 0.62 0.63 0.64 0.65 0.66 0.67 0.68 0.69\n",
      " 0.7  0.71 0.72 0.73 0.74 0.75 0.76 0.77 0.78 0.79 0.8  0.81 0.82 0.83\n",
      " 0.84 0.85 0.86 0.87 0.88 0.89 0.9  0.91 0.92 0.93 0.94 0.95 0.96 0.97\n",
      " 0.98 0.99 1.  ]\n"
     ]
    }
   ],
   "source": [
    "import numpy as np\n",
    "x = np.arange(0,1.01,0.01)\n",
    "print(\"x：\\n\", x)"
   ]
  },
  {
   "cell_type": "markdown",
   "metadata": {},
   "source": [
    "## 2. 2次元配列を作る\n",
    "単純な$y=\\frac{1}{2}x+1$の関数について考える。  \n",
    "xの範囲を[0,1]、xの刻み幅を0.01としてyの値を計算する。  \n",
    "そして計算結果をNumPy配列の0列目にx、1列目にyの値がくるように2次元のarrayで表現する。\n",
    "計算する際は、上の1. で作成したNumPy配列を用いること。\n"
   ]
  },
  {
   "cell_type": "code",
   "execution_count": 3,
   "metadata": {},
   "outputs": [
    {
     "name": "stdout",
     "output_type": "stream",
     "text": [
      "y: \n",
      " [1.    1.005 1.01  1.015 1.02  1.025 1.03  1.035 1.04  1.045 1.05  1.055\n",
      " 1.06  1.065 1.07  1.075 1.08  1.085 1.09  1.095 1.1   1.105 1.11  1.115\n",
      " 1.12  1.125 1.13  1.135 1.14  1.145 1.15  1.155 1.16  1.165 1.17  1.175\n",
      " 1.18  1.185 1.19  1.195 1.2   1.205 1.21  1.215 1.22  1.225 1.23  1.235\n",
      " 1.24  1.245 1.25  1.255 1.26  1.265 1.27  1.275 1.28  1.285 1.29  1.295\n",
      " 1.3   1.305 1.31  1.315 1.32  1.325 1.33  1.335 1.34  1.345 1.35  1.355\n",
      " 1.36  1.365 1.37  1.375 1.38  1.385 1.39  1.395 1.4   1.405 1.41  1.415\n",
      " 1.42  1.425 1.43  1.435 1.44  1.445 1.45  1.455 1.46  1.465 1.47  1.475\n",
      " 1.48  1.485 1.49  1.495 1.5  ]\n",
      "X: \n",
      " [[0.    1.   ]\n",
      " [0.01  1.005]\n",
      " [0.02  1.01 ]\n",
      " [0.03  1.015]\n",
      " [0.04  1.02 ]\n",
      " [0.05  1.025]\n",
      " [0.06  1.03 ]\n",
      " [0.07  1.035]\n",
      " [0.08  1.04 ]\n",
      " [0.09  1.045]\n",
      " [0.1   1.05 ]\n",
      " [0.11  1.055]\n",
      " [0.12  1.06 ]\n",
      " [0.13  1.065]\n",
      " [0.14  1.07 ]\n",
      " [0.15  1.075]\n",
      " [0.16  1.08 ]\n",
      " [0.17  1.085]\n",
      " [0.18  1.09 ]\n",
      " [0.19  1.095]\n",
      " [0.2   1.1  ]\n",
      " [0.21  1.105]\n",
      " [0.22  1.11 ]\n",
      " [0.23  1.115]\n",
      " [0.24  1.12 ]\n",
      " [0.25  1.125]\n",
      " [0.26  1.13 ]\n",
      " [0.27  1.135]\n",
      " [0.28  1.14 ]\n",
      " [0.29  1.145]\n",
      " [0.3   1.15 ]\n",
      " [0.31  1.155]\n",
      " [0.32  1.16 ]\n",
      " [0.33  1.165]\n",
      " [0.34  1.17 ]\n",
      " [0.35  1.175]\n",
      " [0.36  1.18 ]\n",
      " [0.37  1.185]\n",
      " [0.38  1.19 ]\n",
      " [0.39  1.195]\n",
      " [0.4   1.2  ]\n",
      " [0.41  1.205]\n",
      " [0.42  1.21 ]\n",
      " [0.43  1.215]\n",
      " [0.44  1.22 ]\n",
      " [0.45  1.225]\n",
      " [0.46  1.23 ]\n",
      " [0.47  1.235]\n",
      " [0.48  1.24 ]\n",
      " [0.49  1.245]\n",
      " [0.5   1.25 ]\n",
      " [0.51  1.255]\n",
      " [0.52  1.26 ]\n",
      " [0.53  1.265]\n",
      " [0.54  1.27 ]\n",
      " [0.55  1.275]\n",
      " [0.56  1.28 ]\n",
      " [0.57  1.285]\n",
      " [0.58  1.29 ]\n",
      " [0.59  1.295]\n",
      " [0.6   1.3  ]\n",
      " [0.61  1.305]\n",
      " [0.62  1.31 ]\n",
      " [0.63  1.315]\n",
      " [0.64  1.32 ]\n",
      " [0.65  1.325]\n",
      " [0.66  1.33 ]\n",
      " [0.67  1.335]\n",
      " [0.68  1.34 ]\n",
      " [0.69  1.345]\n",
      " [0.7   1.35 ]\n",
      " [0.71  1.355]\n",
      " [0.72  1.36 ]\n",
      " [0.73  1.365]\n",
      " [0.74  1.37 ]\n",
      " [0.75  1.375]\n",
      " [0.76  1.38 ]\n",
      " [0.77  1.385]\n",
      " [0.78  1.39 ]\n",
      " [0.79  1.395]\n",
      " [0.8   1.4  ]\n",
      " [0.81  1.405]\n",
      " [0.82  1.41 ]\n",
      " [0.83  1.415]\n",
      " [0.84  1.42 ]\n",
      " [0.85  1.425]\n",
      " [0.86  1.43 ]\n",
      " [0.87  1.435]\n",
      " [0.88  1.44 ]\n",
      " [0.89  1.445]\n",
      " [0.9   1.45 ]\n",
      " [0.91  1.455]\n",
      " [0.92  1.46 ]\n",
      " [0.93  1.465]\n",
      " [0.94  1.47 ]\n",
      " [0.95  1.475]\n",
      " [0.96  1.48 ]\n",
      " [0.97  1.485]\n",
      " [0.98  1.49 ]\n",
      " [0.99  1.495]\n",
      " [1.    1.5  ]]\n"
     ]
    }
   ],
   "source": [
    "y = 1/2*x+1\n",
    "X = np.hstack((x.reshape(-1,1), y.reshape(-1,1)))\n",
    "print(\"y: \\n\", y)\n",
    "print(\"X: \\n\", X)"
   ]
  },
  {
   "cell_type": "markdown",
   "metadata": {},
   "source": [
    "## 3. 勾配を求める  \n",
    "yの変化量 / xの変化量  \n",
    "  \n",
    "上の公式を使って、各x座標における勾配を求める。  \n",
    "ここでも1. で作成したNumPy配列を用いて計算する。\n",
    "  \n",
    "- 厳密に各点における勾配を求めるには極限（微分）を利用する必要があるが、ここでは各x座標=隣り合うx座標の間隔と考える。\n",
    "- 勾配はx座標の間隔を使うので、xの点の数に対して一つ少なくなる。\n",
    "- 普通に求めると100個の勾配が出てくるが、残りの一つの勾配は、自分で考えて値を埋める。\n"
   ]
  },
  {
   "cell_type": "code",
   "execution_count": 4,
   "metadata": {},
   "outputs": [
    {
     "name": "stdout",
     "output_type": "stream",
     "text": [
      "各x座標における勾配：\n",
      " [0.49999999999998934, 0.5000000000000115, 0.4999999999999894, 0.5000000000000114, 0.49999999999998923, 0.5000000000000118, 0.4999999999999889, 0.5000000000000118, 0.49999999999998956, 0.5000000000000111, 0.49999999999998956, 0.5000000000000118, 0.4999999999999889, 0.5000000000000111, 0.4999999999999903, 0.5000000000000111, 0.4999999999999889, 0.5000000000000125, 0.4999999999999889, 0.5000000000000111, 0.4999999999999903, 0.5000000000000111, 0.4999999999999889, 0.5000000000000125, 0.4999999999999889, 0.4999999999999889, 0.5000000000000111, 0.5000000000000111, 0.4999999999999917, 0.4999999999999889, 0.5000000000000111, 0.4999999999999889, 0.5000000000000111, 0.4999999999999889, 0.5000000000000111, 0.4999999999999917, 0.5000000000000111, 0.4999999999999889, 0.5000000000000111, 0.4999999999999889, 0.5000000000000111, 0.4999999999999917, 0.5000000000000111, 0.4999999999999889, 0.5000000000000111, 0.4999999999999889, 0.5000000000000111, 0.4999999999999917, 0.5000000000000111, 0.4999999999999889, 0.4999999999999889, 0.5000000000000111, 0.5000000000000111, 0.4999999999999889, 0.4999999999999889, 0.5000000000000111, 0.5000000000000111, 0.49999999999999445, 0.4999999999999889, 0.5000000000000111, 0.4999999999999889, 0.5000000000000111, 0.4999999999999889, 0.5000000000000111, 0.4999999999999889, 0.5000000000000111, 0.4999999999999889, 0.5000000000000111, 0.4999999999999889, 0.5000000000000111, 0.49999999999999445, 0.4999999999999889, 0.5000000000000111, 0.5000000000000111, 0.4999999999999889, 0.4999999999999889, 0.5000000000000111, 0.5000000000000111, 0.4999999999999889, 0.4999999999999889, 0.5000000000000111, 0.5000000000000111, 0.4999999999999889, 0.49999999999999445, 0.5000000000000111, 0.4999999999999889, 0.5000000000000111, 0.4999999999999889, 0.5000000000000111, 0.4999999999999889, 0.5000000000000111, 0.4999999999999889, 0.5000000000000111, 0.4999999999999889, 0.5000000000000111, 0.49999999999999445, 0.4999999999999889, 0.5000000000000111, 0.5000000000000111, 0.4999999999999889]\n"
     ]
    }
   ],
   "source": [
    "gradient=[]\n",
    "for i in range(x.shape[0]-1):\n",
    "    g = (X[i+1,1]-X[i,1])/(X[i+1,0]-X[i,0])\n",
    "    gradient.append(g)\n",
    "print(\"各x座標における勾配：\\n\", gradient)"
   ]
  },
  {
   "cell_type": "markdown",
   "metadata": {},
   "source": [
    "## 4. 配列、勾配、グラフを作る\n",
    "次に$y=x^2$について考える（xの範囲は[0,1]）。  \n",
    "2., 3. と同様に、2次元配列を作り、勾配を求める。  \n",
    "さらに、求めた勾配をMatplotlibを用いてグラフで描画する。"
   ]
  },
  {
   "cell_type": "code",
   "execution_count": 6,
   "metadata": {},
   "outputs": [
    {
     "name": "stdout",
     "output_type": "stream",
     "text": [
      "[0.01, 0.030000000000000002, 0.05000000000000001, 0.06999999999999999, 0.09000000000000002, 0.11, 0.12999999999999998, 0.15000000000000002, 0.17, 0.19000000000000006, 0.20999999999999988, 0.23000000000000012, 0.25, 0.26999999999999985, 0.2900000000000002, 0.30999999999999994, 0.3300000000000001, 0.3499999999999999, 0.3699999999999999, 0.3900000000000004, 0.4099999999999993, 0.43000000000000016, 0.45, 0.4700000000000005, 0.4899999999999997, 0.5100000000000002, 0.5299999999999995, 0.55, 0.570000000000001, 0.5899999999999997, 0.6100000000000003, 0.6299999999999994, 0.65, 0.6700000000000006, 0.6899999999999997, 0.7100000000000001, 0.7299999999999994, 0.75, 0.7700000000000006, 0.7900000000000011, 0.8099999999999989, 0.8299999999999985, 0.85, 0.8700000000000006, 0.8900000000000011, 0.9099999999999989, 0.9300000000000023, 0.9499999999999997, 0.9699999999999978, 0.9900000000000011, 1.009999999999999, 1.0300000000000022, 1.05, 1.0699999999999978, 1.0900000000000012, 1.109999999999999, 1.1300000000000021, 1.1500000000000017, 1.1699999999999977, 1.190000000000001, 1.2099999999999989, 1.2300000000000022, 1.25, 1.2699999999999978, 1.2900000000000011, 1.309999999999999, 1.3300000000000023, 1.35, 1.3699999999999979, 1.390000000000001, 1.4100000000000035, 1.4299999999999966, 1.4499999999999944, 1.4700000000000033, 1.490000000000001, 1.509999999999999, 1.5299999999999967, 1.5500000000000056, 1.5700000000000034, 1.5900000000000012, 1.609999999999999, 1.6299999999999966, 1.6499999999999944, 1.6699999999999997, 1.690000000000001, 1.7099999999999989, 1.7300000000000078, 1.7499999999999944, 1.7700000000000033, 1.7900000000000011, 1.809999999999999, 1.8299999999999967, 1.8500000000000056, 1.8700000000000034, 1.88999999999999, 1.910000000000009, 1.9299999999999966, 1.9499999999999944, 1.9700000000000033, 1.990000000000001]\n"
     ]
    },
    {
     "data": {
      "image/png": "[encoded data removed]",
      "text/plain": [
       "<Figure size 432x288 with 1 Axes>"
      ]
     },
     "metadata": {
      "needs_background": "light"
     },
     "output_type": "display_data"
    }
   ],
   "source": [
    "import matplotlib.pyplot as plt\n",
    "x = np.arange(0,1.01,0.01)\n",
    "\n",
    "y = x**2\n",
    "X = np.hstack((x.reshape(-1,1), y.reshape(-1,1)))\n",
    "\n",
    "gradient=[]\n",
    "for i in range(x.shape[0]-1):\n",
    "    g = (X[i+1,1]-X[i,1])/(X[i+1,0]-X[i,0])\n",
    "    gradient.append(g)\n",
    "\n",
    "plt.figure()\n",
    "plt.plot(x[:100], gradient, label=\"gradient of y=x^2\")\n",
    "plt.xlabel(\"x\")\n",
    "plt.ylabel(\"y\")\n",
    "plt.legend(loc=\"best\")\n",
    "plt.show()"
   ]
  },
  {
   "cell_type": "markdown",
   "metadata": {},
   "source": [
    "## 5. 最小値の求め方を説明\n",
    "勾配を使用して$y=x^2$の最小値を求める方法を説明する。  \n",
    "勾配降下法というワードを使用して、記述する。  \n",
    "実装ではなく、アルゴリズムのフローチャートを記述する（図でも文章でも可）。"
   ]
  },
  {
   "cell_type": "markdown",
   "metadata": {},
   "source": [
    "### 勾配降下法とは\n",
    "微分可能な目的関数のある一点において勾配を計算し、その勾配に基づいて次の勾配計算のための点を更新していくことで、目的関数の最小値（極小値）を求める方法のこと。以下の流れにおいて、初期値として探索時の移動の大きさ（$\\alpha$）、終了条件（$\\epsilon$）に加え、探索の開始点、探索回数が無限大に発散した場合に備えた最大探索回数などを設定しておく必要がある。\n",
    "1. パラメータの設定\n",
    " - 探索時の移動の大きさ：$\\alpha$（例：0.01）\n",
    " - アルゴリズムの終了条件：$\\epsilon$（例：1e-6）\n",
    "2. 初期点$x_k$を決める\n",
    "3. kを0から1ずつ増やしながら以下を繰り返す\n",
    " - $\\|{\\Delta}f(x_k)\\leq\\epsilon\\|$であれば終了\n",
    " - $x_{k+1}=x_k-{\\alpha}{\\Delta}f(x_k)$を計算"
   ]
  },
  {
   "cell_type": "markdown",
   "metadata": {},
   "source": [
    "## 6. 最小値を求める\n",
    "最後に具体例を計算してもらって締めくくり。  \n",
    "$y=x^2+5x$の最小値を勾配降下法ではなく、微分法を使って求める。"
   ]
  },
  {
   "cell_type": "markdown",
   "metadata": {},
   "source": [
    "$$y=x^2+5x\\cdots(1)$$  \n",
    "$$y{\\prime}=2x+5=0\\cdots(2)$$\n",
    "(2)を解いて、  \n",
    "$$x=-\\frac{5}{2}$$\n",
    "(1)に代入して、  \n",
    "$$y=(-\\frac{5}{2})^2+5(-\\frac{5}{2})=-\\frac{25}{4}$$\n",
    "よって最小値は$-\\frac{25}{4}$"
   ]
  },
  {
   "cell_type": "code",
   "execution_count": null,
   "metadata": {},
   "outputs": [],
   "source": []
  }
 ],
 "metadata": {
  "kernelspec": {
   "display_name": "Python 3",
   "language": "python",
   "name": "python3"
  },
  "language_info": {
   "codemirror_mode": {
    "name": "ipython",
    "version": 3
   },
   "file_extension": ".py",
   "mimetype": "text/x-python",
   "name": "python",
   "nbconvert_exporter": "python",
   "pygments_lexer": "ipython3",
   "version": "3.7.1"
  }
 },
 "nbformat": 4,
 "nbformat_minor": 2
}
