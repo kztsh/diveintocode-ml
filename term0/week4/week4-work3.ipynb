{
 "cells": [
  {
   "cell_type": "markdown",
   "metadata": {},
   "source": [
    "# Term0 Week4 授業前課題3 \n",
    "## コーディング課題：オブジェクト指向"
   ]
  },
  {
   "cell_type": "markdown",
   "metadata": {},
   "source": [
    "課題1で利用したscikit-learnに用意されている標準化を行うためのクラスStandardScalerを例に見ていく。以下のサンプルコードを利用しながら理解していく。"
   ]
  },
  {
   "cell_type": "code",
   "execution_count": 38,
   "metadata": {},
   "outputs": [
    {
     "name": "stdout",
     "output_type": "stream",
     "text": [
      "平均 : [4.86 3.31 1.45 0.22]\n",
      "分散 : [0.0764 0.0849 0.0105 0.0056]\n"
     ]
    }
   ],
   "source": [
    "import numpy as np\n",
    "from sklearn.preprocessing import StandardScaler\n",
    "from sklearn.datasets import load_iris\n",
    "\n",
    "data = load_iris()\n",
    "X = data.data[:10]\n",
    "\n",
    "scaler = StandardScaler()\n",
    "scaler.fit(X)\n",
    "print(\"平均 :\", scaler.mean_)\n",
    "print(\"分散 :\", scaler.var_)\n",
    "X_std = scaler.transform(X)\n"
   ]
  },
  {
   "cell_type": "markdown",
   "metadata": {},
   "source": [
    "# 1. これまで利用してきたクラスの列挙\n",
    "クラスを使う際はインスタンス化を行うことと、クラスの命名法が分かった。この情報を元に、これまでの課題で利用してきたコードの中でどのようなクラスがあったかを答える。最低でもPandas、matplotlib、scikit-learnからそれぞれ1つ以上見つける。"
   ]
  },
  {
   "cell_type": "markdown",
   "metadata": {},
   "source": [
    "**Pandas**\n",
    "- DataFrame: ラベル化された行と列を伴う2次元データのこと。Pandasの基本的なデータ構造となる。同じPandasの複数のSeriesオブジェクトの辞書的な（つまりcolumnsをキーとして複数のSeries取り出せる）格納庫として考えることができる。\n",
    "- Series: 軸ラベルとindexを伴う1次元配列(ndarray)のこと。\n",
    "\n",
    "\n",
    "**matplotlib**\n",
    "- pyplot.figure: グラフを作成するウィンドウのこと。\n",
    "- pyplot.Axes: グラフそのもの。インスタンス化したaxesからaxes.plot, axes.scatterなどでプロットや散布図作成を実行する。\n",
    "\n",
    "**scikit-learn**\n",
    "- KNeighborsClassifier: k近傍法アルゴリズムによる分類を行うクラス\n",
    "- StandardScaler: 標準化を行うクラス\n",
    "- LinearRegression: 線形回帰を行うクラス\n"
   ]
  },
  {
   "cell_type": "markdown",
   "metadata": {},
   "source": [
    "# 2. これまで利用してきたメソッドやインスタンス変数の列挙\n",
    "これまでの課題で利用してきたコードの中でどのようなメソッドやインスタンス変数があったかを答える。最低でもそれぞれ5つ以上答える。"
   ]
  },
  {
   "cell_type": "markdown",
   "metadata": {},
   "source": [
    "**インスタンス変数**  \n",
    "- np.array.shape: ndarrayの行列数のタプル　　　\n",
    "- StandardScaler().mean_: fittingしたデータの平均値　　\n",
    "- StandardScaler().var_: fittingしたデータの分散の値　　\n",
    "- pd.Series.dtypes: 格納されているデータのデータ型　　\n",
    "- sklearn.linear_model.LinearRegression().coef_: 回帰直線の傾きの値　　\n",
    "- sklearn.linear_model.LinearRegression().intercept_: 回帰直線の切片の値\n",
    "\n",
    "**メソッド**  \n",
    "- np.array().sum(): ndarrayの合計値を返す。合算する方向はaxisパラメータ(0 or 1)で指定する　　\n",
    "- StandardScaler().fit(): 渡されたデータを標準化し、平均値と分散をインスタンス変数として保持する　　\n",
    "- StandardScaler().transform(): fittingしたインスタンスにて、新たに渡されたデータを標準化する　　\n",
    "- pd.DataFrame.head(): DataFrameの冒頭行（デフォルトは5行）を返す　　\n",
    "- sklearn.linear_model.LinearRegression().score(): 決定係数$R^2$の値を返す"
   ]
  },
  {
   "cell_type": "markdown",
   "metadata": {},
   "source": [
    "# 3. 標準化クラスをスクラッチで作成\n",
    "理解をより深めるため、StandardScalerをスクラッチで作成する。scikit-learnは使わず、NumPyなどを活用して標準化の計算を記述する。  \n",
    "具体的にはfitメソッドとtransformメソッドを作る。  \n",
    "作成後、scikit-learnの公式ドキュメントの右上にソースコードへのリンクがあるので確認してみる。  \n",
    "スクラッチで作成したものよりも全体的にコードが長く、今回はスクラッチしなかったinverse_transformメソッドやwarning文等が記述されている。"
   ]
  },
  {
   "cell_type": "code",
   "execution_count": 39,
   "metadata": {},
   "outputs": [],
   "source": [
    "class ScratchStandardScaler():\n",
    "    \"\"\"\n",
    "    標準化のためのクラス\n",
    "\n",
    "    Attributes\n",
    "    ----------\n",
    "    mean_ : 次の形のndarray, shape(n_features,)\n",
    "        平均\n",
    "    var_ : 次の形のndarray, shape(n_features,)\n",
    "        分散\n",
    "    \"\"\"\n",
    "\n",
    "    def fit(self, X):\n",
    "        \"\"\"\n",
    "        標準化のために平均と標準偏差を計算する。\n",
    "\n",
    "        Parameters\n",
    "        ----------\n",
    "        X : 次の形のndarray, shape (n_samples, n_features)\n",
    "            学習データ\n",
    "        \"\"\"\n",
    "\n",
    "        self.mean_ = X.mean(axis=0)\n",
    "        self.var_ = X.var(axis=0)\n",
    "\n",
    "\n",
    "    def transform(self, X):\n",
    "        \"\"\"\n",
    "        fitで求めた値を使い標準化を行う。\n",
    "\n",
    "        Parameters\n",
    "        ----------\n",
    "        X : 次の形のndarray, shape (n_samples, n_features)\n",
    "            特徴量\n",
    "\n",
    "        Returns\n",
    "        ----------\n",
    "        X_scaled : 次の形のndarray, shape (n_samples, n_features)\n",
    "            標準化された特緒量\n",
    "        \"\"\"\n",
    "        \n",
    "        X_scaled = (X - self.mean_)/np.sqrt(self.var_)\n",
    "        return X_scaled"
   ]
  },
  {
   "cell_type": "markdown",
   "metadata": {},
   "source": [
    "以下のコードが実行できるようにする。"
   ]
  },
  {
   "cell_type": "code",
   "execution_count": 40,
   "metadata": {},
   "outputs": [
    {
     "name": "stdout",
     "output_type": "stream",
     "text": [
      "平均 : [4.86 3.31 1.45 0.22]\n",
      "分散 : [0.0764 0.0849 0.0105 0.0056]\n"
     ]
    }
   ],
   "source": [
    "import numpy as np\n",
    "from sklearn.datasets import load_iris\n",
    "\n",
    "data = load_iris()\n",
    "X = data.data[:10]\n",
    "\n",
    "scratch_scaler = ScratchStandardScaler()\n",
    "scratch_scaler.fit(X)\n",
    "print(\"平均 :\", scratch_scaler.mean_)\n",
    "print(\"分散 :\", scratch_scaler.var_)\n",
    "X_std = scratch_scaler.transform(X)\n"
   ]
  },
  {
   "cell_type": "markdown",
   "metadata": {},
   "source": [
    "# （補足）特殊メソッド\n",
    "ソースコードの中に含まれる、まだ説明されていない重要な部分が以下。  \n",
    "このような\\_\\_init\\_\\_というメソッドは、どのクラスにも共通して置かれるコンストラクタと呼ばれるメソッドのこと。"
   ]
  },
  {
   "cell_type": "code",
   "execution_count": 41,
   "metadata": {},
   "outputs": [],
   "source": [
    "def __init__(self, copy=True, with_mean=True, with_std=True):\n",
    "    self.with_mean = with_mean\n",
    "    self.with_std = with_std\n",
    "    self.copy = copy"
   ]
  },
  {
   "cell_type": "markdown",
   "metadata": {},
   "source": [
    "コンストラクタの動作を確認するためのサンプルコードは下記の通り。  \n",
    "コンストラクタは、インスタンス化が行われる時に自動的に実行されるという働きがある。  \n",
    "こういった特殊な動作をするメソッドを、特殊メソッドと呼ぶ。"
   ]
  },
  {
   "cell_type": "code",
   "execution_count": 42,
   "metadata": {},
   "outputs": [
    {
     "name": "stdout",
     "output_type": "stream",
     "text": [
      "初期値5が設定されました\n",
      "value : 5\n",
      "value : 8\n"
     ]
    }
   ],
   "source": [
    "class ExampleClass():\n",
    "    \"\"\"\n",
    "    説明用の簡単なクラス\n",
    "\n",
    "    Parameters\n",
    "    ----------\n",
    "    value : float or int\n",
    "        初期値\n",
    "\n",
    "    Attributes\n",
    "    ----------\n",
    "    value : float or int\n",
    "        計算結果\n",
    "    \"\"\"\n",
    "    def __init__(self, value):\n",
    "        self.value = value\n",
    "        print(\"初期値{}が設定されました\".format(self.value))\n",
    "    def add(self, value2):\n",
    "        \"\"\"\n",
    "        受け取った引数をself.valueに加える\n",
    "        \"\"\"\n",
    "        self.value += value2\n",
    "\n",
    "example = ExampleClass(5)\n",
    "print(\"value :\", example.value)\n",
    "example.add(3)\n",
    "print(\"value :\", example.value)"
   ]
  },
  {
   "cell_type": "markdown",
   "metadata": {},
   "source": [
    "# 4. 四則演算を行うクラスの作成\n",
    "上記ExampleClassは足し算のメソッドを持っているが、これに引き算、掛け算、割り算のメソッドを加える。  \n",
    "また、コンストラクタに入力されたvalueが文字列や配列など数値以外だった場合には警告文を出し、self.value=0とするコードを追加する。  \n",
    "クラス名や説明文も適切に書き換える。"
   ]
  },
  {
   "cell_type": "code",
   "execution_count": 2,
   "metadata": {},
   "outputs": [
    {
     "name": "stdout",
     "output_type": "stream",
     "text": [
      "初期値4.0が設定されました\n",
      "初期値 : 4.0\n",
      "3を足した結果 : 7.0\n",
      "3を引いた結果 : 4.0\n",
      "3を掛けた結果 : 12.0\n",
      "3で割った結果 : 4.0\n"
     ]
    }
   ],
   "source": [
    "import warnings\n",
    "\n",
    "class CalculateClass():\n",
    "    \"\"\"\n",
    "    四則演算のクラス。\n",
    "    入力された値が文字列や配列など数値以外だった場合には警告文を出す。\n",
    "\n",
    "    Parameters\n",
    "    ----------\n",
    "    value : float or int\n",
    "        初期値\n",
    "\n",
    "    Attributes\n",
    "    ----------\n",
    "    value : float or int\n",
    "        計算結果\n",
    "    \"\"\"\n",
    "    \n",
    "    def __init__(self, value):\n",
    "        if type(value) == int or type(value) == float:\n",
    "            self.value = value\n",
    "            print(\"初期値{}が設定されました\".format(self.value))\n",
    "        else:\n",
    "            warnings.warn(\"\\n引数が数値ではありません。初期値は0とします。\")\n",
    "            self.value = 0\n",
    "        \n",
    "    def add(self, value2):\n",
    "        \"\"\"\n",
    "        受け取った引数をself.valueに加える\n",
    "        \"\"\"\n",
    "        self.value += value2\n",
    "    \n",
    "    def subtract(self, value2):\n",
    "        \"\"\"\n",
    "        受け取った引数をself.valueから引く\n",
    "        \"\"\"\n",
    "        self.value -= value2\n",
    "    \n",
    "    def multiply(self, value2):\n",
    "        \"\"\"\n",
    "        受け取った引数をself.valueに掛ける\n",
    "        \"\"\"\n",
    "        self.value *= value2\n",
    "    \n",
    "    def divide(self, value2):\n",
    "        \"\"\"\n",
    "        受け取った引数でself.valueを割る\n",
    "        \"\"\"\n",
    "        self.value /= value2\n",
    "    \n",
    "\n",
    "calc = CalculateClass(4.0)\n",
    "print(\"初期値 :\", calc.value)\n",
    "calc.add(3)\n",
    "print(\"3を足した結果 :\", calc.value)\n",
    "calc.subtract(3)\n",
    "print(\"3を引いた結果 :\", calc.value)\n",
    "calc.multiply(3)\n",
    "print(\"3を掛けた結果 :\", calc.value)\n",
    "calc.divide(3)\n",
    "print(\"3で割った結果 :\", calc.value)"
   ]
  },
  {
   "cell_type": "code",
   "execution_count": null,
   "metadata": {},
   "outputs": [],
   "source": []
  }
 ],
 "metadata": {
  "kernelspec": {
   "display_name": "Python 3",
   "language": "python",
   "name": "python3"
  },
  "language_info": {
   "codemirror_mode": {
    "name": "ipython",
    "version": 3
   },
   "file_extension": ".py",
   "mimetype": "text/x-python",
   "name": "python",
   "nbconvert_exporter": "python",
   "pygments_lexer": "ipython3",
   "version": "3.6.8"
  }
 },
 "nbformat": 4,
 "nbformat_minor": 2
}
