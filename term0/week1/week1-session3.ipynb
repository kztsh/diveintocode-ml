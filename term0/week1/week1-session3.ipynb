{
 "cells": [
  {
   "cell_type": "markdown",
   "metadata": {},
   "source": [
    "# Term0 Week1 授業課題3\n",
    "## コーディング課題：栗まんじゅう問題"
   ]
  },
  {
   "cell_type": "code",
   "execution_count": 29,
   "metadata": {},
   "outputs": [],
   "source": [
    "# 関数の定義\n",
    "import math\n",
    "manju = 1e-4 # まんじゅうの体積（立方メートル）\n",
    "space = 3e+80 # 宇宙の体積（立方メートル）\n",
    "\n",
    "def calc(m, s):\n",
    "    # 「まんじゅう体積(m) * 2^拡大する回数(multiple_time) = 宇宙の体積(s)」と考え、式変形\n",
    "    multiple_time = math.log(s/m) / math.log(2) # 拡大する回数\n",
    "    return int(multiple_time * 5) # 5分ごとに拡大するので、×5\n"
   ]
  },
  {
   "cell_type": "code",
   "execution_count": 30,
   "metadata": {},
   "outputs": [
    {
     "name": "stdout",
     "output_type": "stream",
     "text": [
      "宇宙を埋め尽くすまでの時間： 1403 （分）\n",
      "東京ドームを埋め尽くすまでの時間： 167 （分）\n"
     ]
    }
   ],
   "source": [
    "# 宇宙の場合\n",
    "print(\"宇宙を埋め尽くすまでの時間：\" , calc(manju, space), \"（分）\")\n",
    "\n",
    "# 東京ドームの場合\n",
    "tokyo_dome=124*(10**4) #（立方メートル）\n",
    "print(\"東京ドームを埋め尽くすまでの時間：\" , calc(manju, tokyo_dome), \"（分）\")"
   ]
  },
  {
   "cell_type": "code",
   "execution_count": null,
   "metadata": {},
   "outputs": [],
   "source": []
  },
  {
   "cell_type": "code",
   "execution_count": null,
   "metadata": {},
   "outputs": [],
   "source": []
  }
 ],
 "metadata": {
  "kernelspec": {
   "display_name": "Python 3",
   "language": "python",
   "name": "python3"
  },
  "language_info": {
   "codemirror_mode": {
    "name": "ipython",
    "version": 3
   },
   "file_extension": ".py",
   "mimetype": "text/x-python",
   "name": "python",
   "nbconvert_exporter": "python",
   "pygments_lexer": "ipython3",
   "version": "3.7.1"
  }
 },
 "nbformat": 4,
 "nbformat_minor": 2
}
