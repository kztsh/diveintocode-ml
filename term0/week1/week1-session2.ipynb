{
 "cells": [
  {
   "cell_type": "markdown",
   "metadata": {},
   "source": [
    "# Term0 Week1 授業課題2 \n",
    "## コーディング課題：何回折ったら富士山を超えるか問題"
   ]
  },
  {
   "cell_type": "markdown",
   "metadata": {},
   "source": [
    "## 富士山を超える最小の折る回数"
   ]
  },
  {
   "cell_type": "code",
   "execution_count": 35,
   "metadata": {},
   "outputs": [
    {
     "name": "stdout",
     "output_type": "stream",
     "text": [
      "厚さ： 5368.70912メートル、回数： 26回\n"
     ]
    }
   ],
   "source": [
    "\"\"\"\n",
    "厚さが富士山を超えるのは\n",
    "\"\"\"\n",
    "\n",
    "folded_thickness = 0.00008\n",
    "num = 0\n",
    "\n",
    "while folded_thickness <= 3776:\n",
    "    folded_thickness *= 2\n",
    "    num += 1\n",
    "\n",
    "print('厚さ： {}メートル、回数： {}回'.format(folded_thickness, num))\n"
   ]
  },
  {
   "cell_type": "markdown",
   "metadata": {},
   "source": [
    "## 任意の厚さに対応した関数を作成"
   ]
  },
  {
   "cell_type": "code",
   "execution_count": 36,
   "metadata": {},
   "outputs": [],
   "source": [
    "def folded_thickness_over(distance, thickness=0.00008):\n",
    "    num=0\n",
    "    while thickness <= distance:\n",
    "        thickness *= 2\n",
    "        num += 1\n",
    "    return thickness, num"
   ]
  },
  {
   "cell_type": "markdown",
   "metadata": {},
   "source": [
    "## 必要な紙の長さ"
   ]
  },
  {
   "cell_type": "code",
   "execution_count": 37,
   "metadata": {},
   "outputs": [],
   "source": [
    "import math\n",
    "def paper(distance, thickness=0.00008):\n",
    "    thickness, num = folded_thickness_over(distance, thickness)\n",
    "    l = (math.pi * thickness / 6) * (2**num + 4) * (2**num - 1)\n",
    "    return l"
   ]
  },
  {
   "cell_type": "code",
   "execution_count": 38,
   "metadata": {},
   "outputs": [
    {
     "name": "stdout",
     "output_type": "stream",
     "text": [
      "必要な紙の長さ 2.850742890840884e+34 メートル\n"
     ]
    }
   ],
   "source": [
    "#月の場合（距離：384,400キロメートル）\n",
    "print(\"必要な紙の長さ\", paper(distance=3.844e+8), \"メートル\")"
   ]
  },
  {
   "cell_type": "code",
   "execution_count": 39,
   "metadata": {},
   "outputs": [
    {
     "name": "stdout",
     "output_type": "stream",
     "text": [
      "必要な紙の長さ 1.2659842144726807e+19 メートル\n"
     ]
    }
   ],
   "source": [
    "#富士山の場合（距離：3776メートル）\n",
    "print(\"必要な紙の長さ\", paper(distance=3776), \"メートル\")"
   ]
  },
  {
   "cell_type": "code",
   "execution_count": 40,
   "metadata": {},
   "outputs": [
    {
     "name": "stdout",
     "output_type": "stream",
     "text": [
      "必要な紙の長さ 8.615841714548044e+57 メートル\n"
     ]
    }
   ],
   "source": [
    "#プロキシマケンタウリの場合（距離：4.243 * 9.461e+15メートル）\n",
    "print(\"必要な紙の長さ\", paper(distance=4.243 * 9.461e+15), \"メートル\")"
   ]
  },
  {
   "cell_type": "code",
   "execution_count": null,
   "metadata": {},
   "outputs": [],
   "source": []
  }
 ],
 "metadata": {
  "kernelspec": {
   "display_name": "Python 3",
   "language": "python",
   "name": "python3"
  },
  "language_info": {
   "codemirror_mode": {
    "name": "ipython",
    "version": 3
   },
   "file_extension": ".py",
   "mimetype": "text/x-python",
   "name": "python",
   "nbconvert_exporter": "python",
   "pygments_lexer": "ipython3",
   "version": "3.7.1"
  }
 },
 "nbformat": 4,
 "nbformat_minor": 2
}
