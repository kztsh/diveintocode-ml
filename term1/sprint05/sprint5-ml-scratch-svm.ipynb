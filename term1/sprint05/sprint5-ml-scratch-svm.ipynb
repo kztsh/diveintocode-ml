{
 "cells": [
  {
   "cell_type": "markdown",
   "metadata": {},
   "source": [
    "# Term1 Sprint5 授業課題 \n",
    "## コーディング課題：SVM分類器スクラッチ"
   ]
  },
  {
   "cell_type": "markdown",
   "metadata": {},
   "source": [
    "NumPyなど最低限のライブラリのみを使いアルゴリズムを実装していく。  \n",
    "SVMは分類と回帰双方に使用できるが、分類のみを扱う。  \n",
    "SVMで重要な要素としてカーネルがあるが、まずは線形カーネルを作成する。他のカーネルの作成はアドバンス課題とする。"
   ]
  },
  {
   "cell_type": "markdown",
   "metadata": {},
   "source": [
    "## 1. SVM分類器のクラスを作成する\n",
    "SVM分類器のクラスを作成し、Sprint0で作成した分類のパイプラインに組み込む。  \n",
    "クラスの基本構造はSprint3の線形回帰を参考にし、名前はScratchSVMClassifierとする。\n",
    "メソッドやパラメータなどはscikit-learnを参考にする。\n",
    "[sklearn.svm.SVC — scikit-learn 0.20.2 documentation](https://scikit-learn.org/stable/modules/generated/sklearn.svm.SVC.html \"sklearn.svm.SVC — scikit-learn 0.20.2 documentation\")\n",
    "\n",
    "**scikit-learnにおけるパラメータについて**\n",
    "\n",
    "scikit-learnの実装はソフトマージンSVMになっている。  \n",
    "ハードマージンSVMを再現するには、パラメータCをC=1e+10のように非常に大きな値を設定する。  \n",
    "無限大に向けてCを大きくするほどハードマージンSVMに近づく。  \n",
    "また、線形カーネルをscikit-learnで使う場合はkernel=\"linear\"と指定する。  \n",
    "デフォルトではkernel=\"rbf\"になっており、放射基底関数(Radial Basis Function)と呼ばれるものになっている。\n",
    "\n",
    "**ラグランジュの未定乗数法による最急降下**\n",
    "\n",
    "SVMの最適化問題は、ラグランジュの未定乗数法により解くことができる。  \n",
    "サンプル数分のラグランジュ乗数$\\lambda$を用意して、以下の式により更新していく。\n",
    "$$\\lambda_i^{new} = \\lambda_i + \\alpha(1 - \\sum_{j=1}^{n}{\\lambda_j y_i y_j k(x_i, x_j)})$$\n",
    "\n",
    "ここで$k(x_i,x_j)$はカーネル関数であり、線形カーネルの場合は次のようになる。  \n",
    "他のカーネル関数にも対応できるように、この部分はメソッド化しておく。\n",
    "$$k(x_i, x_j) = x_{i}^{T} x_j$$\n",
    "\n",
    "条件として、更新毎に$\\lambda_i\\geq0$を満たす必要がある。満たさない場合は$\\lambda_i\\geq0$とする。\n",
    "\n",
    "$i,j$ : サンプルのインデックス  \n",
    "$\\lambda_i^{new}$ : 更新後の$i$番目のサンプルのラグランジュ乗数  \n",
    "$\\lambda_i$ : 更新前の$i$番目のサンプルのラグランジュ乗数  \n",
    "$\\alpha$ : 学習率  \n",
    "$\\lambda_j$ : $j$番目のサンプルのラグランジュ乗数  \n",
    "$y_i$ : $i$番目のサンプルのラベル  \n",
    "$y_j$ : $j$番目のサンプルのラベル  \n",
    "$x_i$ : $i$番目のサンプルの特徴量ベクトル  \n",
    "$x_j$ : $j$番目のサンプルの特徴量ベクトル  \n",
    "\n",
    "**サポートベクターの決定**\n",
    "\n",
    "計算したラグランジュ乗数$\\lambda$が設定した閾値より大きいサンプルをサポートベクターとして扱う。推定時にサポートベクターが必要となる。  \n",
    "閾値はハイパーパラメータで、1e-5程度からはじめるとよい。\n",
    "\n",
    "**推定**\n",
    "\n",
    "推定時には、推定したいデータの特徴量とサポートベクターの特徴量をカーネル関数によって計算する。求めた$y(x)$の符号が分類結果となる。\n",
    "$$y(x) = \\sum_{n=1}^{N}\\lambda_n y_n k(x, s_n)$$\n",
    "\n",
    "$x$ : 推定したいデータの特徴量ベクトル  \n",
    "$N$ : サポートベクターの数  \n",
    "$n$ : サポートベクターのインデックス  \n",
    "$\\lambda_n$ : $n$番目のサポートベクターのラグランジュ乗数  \n",
    "$y_n$ : $n$番目のサポートベクターのラベル  \n",
    "$k()$ : カーネル関数  \n",
    "$s_n$ : $n$番目のサポートベクターの特徴量  \n",
    "\n",
    "**これまでのまとめ**\n",
    "\n",
    "SVMによるマージン最大化問題が以下の式の双対表現に帰着できる。\n",
    "$$\\mathrm{argmin}_{w,b}\\frac{1}{2}||w||^2$$\n",
    "この制約付き最小化問題を解くために、ラグランジュ乗数$\\lambda$を導入し、$w$と$b$の制約条件を用いて、$\\theta$と$\\theta_0$を消去すれば、\n",
    "$$L(\\lambda) = \\sum_{i=1}^{n} \\lambda_i -\\frac{1}{2}\\sum_{i=1}^{n}\\sum_{j=1}^{n}\\lambda_{i}\\lambda_{j}y_{i}y_{j}x_i^Tx_j$$\n",
    "という関数が得られ、この関数を$\\lambda$に対して最大化すればよい。この$\\lambda$の最適解を求める方法はこれまで学んだ勾配降下法を用いる。  \n",
    "$\\lambda$がわかれば$\\theta$と$\\theta_0$が求まるので、分類境界線が求まる。  \n"
   ]
  },
  {
   "cell_type": "markdown",
   "metadata": {},
   "source": [
    "## 2. 多項式カーネル関数の作成（アドバンス課題）\n",
    "1. では線形カーネルを使用するが、多項式カーネルにも切り替えられるようにする。\n",
    "\n",
    "「線形カーネルの式」\n",
    "$$k(x_i, x_j) = x_{i}^{T} x_j$$\n",
    "\n",
    "「多項式カーネルの式」\n",
    "$$k(x_i, x_j) = \\gamma(x_{i}^{T} x_j + \\theta_0)^{d}$$\n",
    "\n",
    "$\\gamma, \\theta_0, d$はハイパーパラメータを示す。  \n",
    "線形カーネルは$\\gamma=1, \\theta_0=0, d=1$の場合の多項式カーネルと等しいと言える。"
   ]
  },
  {
   "cell_type": "markdown",
   "metadata": {},
   "source": [
    "## 3. 指標値の算出\n",
    "分類に関する指標値で精度を確認する。"
   ]
  },
  {
   "cell_type": "markdown",
   "metadata": {},
   "source": [
    "## 4. 決定領域の可視化\n",
    "2値分類のデータセットに対して決定領域を可視化する。  \n",
    "これまで使用してきた関数に、サポートベクターを色を変えて表示する機能を加える。  \n",
    "特にSprint0で作成したシンプルデータセット1に対して分類ができるかを検証する。"
   ]
  },
  {
   "cell_type": "markdown",
   "metadata": {},
   "source": [
    "## 5. 時間の計測\n",
    "SVMの学習には時間がかかるため、効率的な実装が望まれる。  \n",
    "事前学習期間に行なったように、時間を計測して改善していく。  \n",
    "特に$\\lambda$の更新部分は繰り返し処理が多いため、効率的なコードを目指す。"
   ]
  },
  {
   "cell_type": "code",
   "execution_count": null,
   "metadata": {},
   "outputs": [],
   "source": [
    "# 雛形\n",
    "mport time\n",
    "t0 = time.time()\n",
    "# 何らかの処理\n",
    "t1 = time.time()\n",
    "print('time : {}s'.format(t1-t0))\n"
   ]
  },
  {
   "cell_type": "markdown",
   "metadata": {},
   "source": [
    "## 6. Logistic回帰とSVM\n",
    "最終発表時に以下の内容についてディスカッションを行う。自分なりの意見を用意しておく。  \n",
    "\n",
    "- ロジスティック回帰とSVMは本質的に何が異なっているか  \n",
    "\n",
    "**注意点**  \n",
    "答えがある問いではない。いろいろな視点から見て理解を深めていく。"
   ]
  },
  {
   "cell_type": "code",
   "execution_count": 96,
   "metadata": {},
   "outputs": [],
   "source": [
    "import numpy as np\n",
    "\n",
    "class ScratchSVMClassifier:\n",
    "    def __init__(self, n_iter=50, lr=0.1):\n",
    "        self.n_iter = n_iter\n",
    "        self.lr = lr\n",
    "    \n",
    "    def fit(self, X, y):\n",
    "        # 初期値設定\n",
    "        lam = np.zeros(X.shape[0]) # ラグランジュ未定乗数ラムダの初期値（要素数：サンプル数）\n",
    "        lamy = 0 # lamとyの内積の初期値\n",
    "        lamyx = np.zeros(X.shape[1]) # lamとyとXの内積の初期値（要素数：特徴量数）\n",
    "        \n",
    "        # 固定値算出（最初から作れる）\n",
    "        yx = y.reshape(-1,1) * X # X^T * y\n",
    "        # データ点識別用の番号生成\n",
    "        indices = np.arange(X.shape[0])\n",
    "        \n",
    "        # 勾配学習\n",
    "        for g in range(self.n_iter):\n",
    "            # データ番号列（0列目）とy * 勾配の列（1列目）の行列index_y_gradを生成\n",
    "            gradient = 1 - np.dot(yx, lamyx.T) # 勾配計算（サンプル数,）\n",
    "            y_grad = y * gradient # y * 勾配（サンプル数,）\n",
    "            index_y_grad = np.c_[indices, y_grad] # indexを0列目に追加（サンプル数, 2）\n",
    "            \n",
    "            # i（ラベル-1の点のうちy * 勾配が最小のデータ番号）を決定\n",
    "            row_minus = index_y_grad[((y<0) | (lam>0)), :] # y = -1またはlam>0の行を抽出\n",
    "            min_row_minus = np.argmin(row_minus[:, 1]) # その中でy * 勾配が最小の行インデックスを決定\n",
    "            i = int(row_minus[min_row_minus, 0]) # その行インデックスに該当するデータ番号を格納\n",
    "            # j（ラベル+1の点のうちy * 勾配が最大のデータ番号）を決定\n",
    "            row_plus = index_y_grad[((y>0) | (lam>0)), :] # y = +1またはlam>0の行を抽出\n",
    "            max_row_plus = np.argmax(row_plus[:, 1]) # その中でy * 勾配が最大の行インデックスを決定\n",
    "            j = int(row_plus[max_row_plus, 0]) # その行インデックスに該当するデータ番号を格納\n",
    "            \n",
    "            # KKT条件から導出する最適解の条件式を満たしているか確認\n",
    "            if y_grad[i] >= y_grad[j]:\n",
    "                break\n",
    "            \n",
    "            # 満たしていなければパラメータ更新フローに入る\n",
    "            lamy2 = lamy - lam[i] * y[i] - lam[j] * y[j] # lamyの現在の仮変数を計算\n",
    "            lamyx2 = lamyx - lam[i] * y[i] * X[i, :] - lam[j] * y[j] * X[j, :] # lamyxの現在の仮変数を計算\n",
    "            \n",
    "            # lamy2とlamyx2を使い、制約条件を無視したlam_iをまず作成\n",
    "            lam_i = (1 - y[i] * y[j] + y[i] * np.dot(X[i, :] - X[j, :], X[j, :] * lamy2 - lamyx2)) / (((X[i] - X[j])**2).sum())\n",
    "            # 制約条件から、lamの値は0以上がマスト\n",
    "            if lam_i < 0:\n",
    "                lam_i = 0\n",
    "            # lam_iが決まればlam_jが決まる\n",
    "            lam_j = y[j] * (-lam_i * y[i] - lamy2)\n",
    "            # 制約条件から、lamの値は0以上がマスト\n",
    "            if lam_j < 0:\n",
    "                lam_j = 0\n",
    "                lam_i = y[i] * (-lam_j * y[j] - lamy2) # lam_jが変わる場合は改めて計算\n",
    "            \n",
    "            # lamyとlamyxの変化分で更新\n",
    "            lamy += (lam_i - lam[i]) * y[i] + (lam_j - lam[j]) * y[j]\n",
    "            lamyx += (lam_i - lam[i]) * y[i] * X[i, :] + (lam_j - lam[j]) * y[j] * X[j, :]\n",
    "            \n",
    "            # 計算されたlam_iに変化がなければ終了、あれば更新\n",
    "            if lam_i == lam[i]:\n",
    "                break\n",
    "            lam[i] = lam_i\n",
    "            lam[j] = lam_j\n",
    "            print(g)\n",
    "        \n",
    "        # 学習が終わったらラグランジュ乗数と学習係数をインスタンス変数に格納\n",
    "        self.lam_ = lam\n",
    "        ind = lam != 0. # ラグランジュ乗数が更新されたサンプルのインデックス\n",
    "        self.w_ = ((lam[ind] * y[ind]).reshape(-1,1) * X[ind, :]).sum(axis=0) # lam*y*Xのサンプル方向の和（要素数：特徴量数）\n",
    "        # lam!=0の全サンプルでy * f(x)=1となることを利用して算出したw_0値の平均をとる\n",
    "        self.w0_ = (y[ind] - np.dot(X[ind, :], self.w_)).sum() / ind.sum()\n",
    "        \n",
    "    def predict(self, X):\n",
    "        return np.sign(self.w0_ + np.dot(X, self.w_))\n",
    "        "
   ]
  },
  {
   "cell_type": "code",
   "execution_count": 14,
   "metadata": {},
   "outputs": [],
   "source": [
    "# シンプルデータセット1\n",
    "import numpy as np\n",
    "\n",
    "np.random.seed(seed=0)\n",
    "n_samples = 500\n",
    "f0 = [-1, 2]\n",
    "f1 = [2, -1]\n",
    "cov = [[1.0,0.8], [0.8, 1.0]]\n",
    "\n",
    "f0 = np.random.multivariate_normal(f0, cov, int(n_samples/2))\n",
    "f1 = np.random.multivariate_normal(f1, cov, int(n_samples/2))\n",
    "\n",
    "X = np.concatenate((f0, f1))\n",
    "y = np.concatenate((np.ones((int(n_samples/2))), np.ones((int(n_samples/2))) *(-1))).astype(np.int)\n",
    "\n",
    "random_index = np.random.permutation(np.arange(n_samples))\n",
    "X = X[random_index]\n",
    "y = y[random_index]"
   ]
  },
  {
   "cell_type": "code",
   "execution_count": 15,
   "metadata": {},
   "outputs": [
    {
     "data": {
      "text/plain": [
       "<module 'pipe_clf' from '../ml-scratch/models/pipe_clf.py'>"
      ]
     },
     "execution_count": 15,
     "metadata": {},
     "output_type": "execute_result"
    }
   ],
   "source": [
    "import sys\n",
    "sys.path.append(\"../ml-scratch/models/\")\n",
    "import pipe_clf\n",
    "from importlib import reload\n",
    "reload(pipe_clf)"
   ]
  },
  {
   "cell_type": "code",
   "execution_count": 97,
   "metadata": {},
   "outputs": [
    {
     "name": "stdout",
     "output_type": "stream",
     "text": [
      "0\n",
      "1\n",
      "2\n",
      "3\n",
      "4\n",
      "5\n",
      "6\n",
      "7\n",
      "8\n",
      "9\n",
      "10\n",
      "11\n",
      "12\n",
      "13\n",
      "14\n",
      "15\n",
      "16\n",
      "17\n",
      "18\n",
      "19\n",
      "20\n",
      "21\n",
      "22\n",
      "23\n",
      "24\n",
      "25\n",
      "26\n",
      "27\n",
      "28\n",
      "29\n",
      "30\n",
      "31\n",
      "32\n",
      "33\n",
      "34\n",
      "35\n",
      "36\n",
      "37\n"
     ]
    },
    {
     "data": {
      "image/png": "[encoded data removed]",
      "text/plain": [
       "<Figure size 432x288 with 1 Axes>"
      ]
     },
     "metadata": {
      "needs_background": "light"
     },
     "output_type": "display_data"
    }
   ],
   "source": [
    "import matplotlib.pyplot as plt\n",
    "\n",
    "model = ScratchSVMClassifier()\n",
    "model.fit(X, y)\n",
    "\n",
    "pipe_clf.decision_region(X, y, model, target_names=[\"-1\",\"+1\"], model_name=\"ScratchSVMClassifier\", feature_names=[\"f0\",\"f1\"])\n",
    "plt.scatter(X[model.lam_!=0.][:, 0], X[model.lam_!=0.][:, 1], \n",
    "                    s=80, color=\"yellow\", alpha=1.0, label=\"support vector\", marker='o')\n",
    "plt.legend()\n",
    "plt.show()"
   ]
  },
  {
   "cell_type": "code",
   "execution_count": null,
   "metadata": {},
   "outputs": [],
   "source": []
  }
 ],
 "metadata": {
  "kernelspec": {
   "display_name": "Python 3",
   "language": "python",
   "name": "python3"
  },
  "language_info": {
   "codemirror_mode": {
    "name": "ipython",
    "version": 3
   },
   "file_extension": ".py",
   "mimetype": "text/x-python",
   "name": "python",
   "nbconvert_exporter": "python",
   "pygments_lexer": "ipython3",
   "version": "3.6.8"
  }
 },
 "nbformat": 4,
 "nbformat_minor": 2
}
