{
 "cells": [
  {
   "cell_type": "markdown",
   "metadata": {},
   "source": [
    "# Term1 Sprint9 授業課題 \n",
    "## コーディング課題：アンサンブル学習"
   ]
  },
  {
   "cell_type": "markdown",
   "metadata": {},
   "source": [
    "3種類のアンサンブル学習の効果を小さめのデータセットで確認していく。\n",
    "- ブレンディング\n",
    "- バギング\n",
    "- スタッキング\n",
    "\n",
    "**小さなデータセットの用意**  \n",
    "以前も利用した回帰のデータセットを用意する。\n",
    "\n",
    "[House Prices: Advanced Regression Techniques](https://www.kaggle.com/c/house-prices-advanced-regression-techniques/data \"House Prices: Advanced Regression Techniques\")\n",
    "\n",
    "この中のtrain.csvをダウンロードし、目的変数としてSalePrice、説明変数として、GrLivAreaとYearBuiltを使う。  \n",
    "train.csvを学習用（train）8割、検証用（val）2割に分割する。\n",
    "\n",
    "**scikit-learn**  \n",
    "単一のモデルはスクラッチ実装ではなく、scikit-learnなどのライブラリの使用を推奨する。\n",
    "\n",
    "[sklearn.linear_model.LinearRegression — scikit-learn 0.20.0 documentation](https://scikit-learn.org/stable/modules/generated/sklearn.linear_model.LinearRegression.html \"sklearn.linear_model.LinearRegression — scikit-learn 0.20.0 documentation\")\n",
    "\n",
    "[sklearn.svm.SVR — scikit-learn 0.20.0 documentation](https://scikit-learn.org/stable/modules/generated/sklearn.svm.SVR.html \"sklearn.svm.SVR — scikit-learn 0.20.0 documentation\")\n",
    "\n",
    "[sklearn.tree.DecisionTreeRegressor — scikit-learn 0.20.0 documentation](https://scikit-learn.org/stable/modules/generated/sklearn.tree.DecisionTreeRegressor.html \"sklearn.tree.DecisionTreeRegressor — scikit-learn 0.20.0 documentation\")"
   ]
  },
  {
   "cell_type": "code",
   "execution_count": 132,
   "metadata": {},
   "outputs": [
    {
     "name": "stderr",
     "output_type": "stream",
     "text": [
      "/Users/arimoto/anaconda3/envs/python37/lib/python3.6/site-packages/scipy/stats/stats.py:1713: FutureWarning: Using a non-tuple sequence for multidimensional indexing is deprecated; use `arr[tuple(seq)]` instead of `arr[seq]`. In the future this will be interpreted as an array index, `arr[np.array(seq)]`, which will result either in an error or a different result.\n",
      "  return np.add.reduce(sorted[indexer] * weights, axis=axis) / sumval\n"
     ]
    },
    {
     "data": {
      "image/png": "[encoded data removed]",
      "text/plain": [
       "<Figure size 432x288 with 1 Axes>"
      ]
     },
     "metadata": {
      "needs_background": "light"
     },
     "output_type": "display_data"
    },
    {
     "name": "stdout",
     "output_type": "stream",
     "text": [
      "目的変数の尖度 0    6.536282\n",
      "dtype: float64\n",
      "目的変数の歪度 0    1.882876\n",
      "dtype: float64\n"
     ]
    },
    {
     "data": {
      "image/png": "[encoded data removed]",
      "text/plain": [
       "<Figure size 432x288 with 1 Axes>"
      ]
     },
     "metadata": {
      "needs_background": "light"
     },
     "output_type": "display_data"
    },
    {
     "name": "stdout",
     "output_type": "stream",
     "text": [
      "目的変数（logスケール）の尖度 0    0.809532\n",
      "dtype: float64\n",
      "目的変数（logスケール）の歪度 0    0.121335\n",
      "dtype: float64\n"
     ]
    }
   ],
   "source": [
    "import numpy as np\n",
    "import pandas as pd\n",
    "import seaborn as sns\n",
    "import matplotlib.pyplot as plt\n",
    "from sklearn.model_selection import train_test_split\n",
    "from sklearn.preprocessing import StandardScaler\n",
    "from sklearn.linear_model import LinearRegression\n",
    "from sklearn.tree import DecisionTreeRegressor\n",
    "from sklearn.svm import SVR\n",
    "from sklearn.ensemble import RandomForestRegressor\n",
    "from sklearn.metrics import mean_squared_error\n",
    "\n",
    "# データ生成\n",
    "df_train = pd.read_csv(\"train.csv\")\n",
    "df_train = df_train[[\"SalePrice\", \"GrLivArea\", \"YearBuilt\"]]\n",
    "X = df_train[[\"SalePrice\", \"GrLivArea\"]].values.astype(np.float)\n",
    "y = df_train[\"SalePrice\"].values.astype(np.float)\n",
    "\n",
    "# 目的変数の分布、尖度、歪度\n",
    "sns.distplot(y)\n",
    "plt.show()\n",
    "print(\"目的変数の尖度\", pd.DataFrame(y).kurt())\n",
    "print(\"目的変数の歪度\", pd.DataFrame(y).skew())\n",
    "\n",
    "# 目的変数を正規分布近似するために対数変換\n",
    "y = np.log(y)\n",
    "\n",
    "# 目的変数（logスケール）の分布、尖度、歪度\n",
    "sns.distplot(y, color=\"g\")\n",
    "plt.show()\n",
    "print(\"目的変数（logスケール）の尖度\", pd.DataFrame(y).kurt())\n",
    "print(\"目的変数（logスケール）の歪度\", pd.DataFrame(y).skew())\n",
    "\n",
    "# データを訓練用と検証用に分割\n",
    "X_train, X_val, y_train, y_val = train_test_split(X, y, test_size=0.20, shuffle=True, random_state=0)\n",
    "\n",
    "# スケーリング\n",
    "sc_X = StandardScaler()\n",
    "sc_X.fit(X_train)\n",
    "X_train = sc_X.transform(X_train)\n",
    "X_val = sc_X.transform(X_val)\n",
    "\n",
    "sc_y = StandardScaler()\n",
    "sc_y.fit(y_train[:, np.newaxis])\n",
    "y_train = sc_y.transform(y_train[:, np.newaxis]).ravel()\n",
    "y_val = sc_y.transform(y_val[:, np.newaxis]).ravel()"
   ]
  },
  {
   "cell_type": "markdown",
   "metadata": {},
   "source": [
    "## 1. ブレンディング\n",
    "ブレンディングを実装し、単一モデルより精度があがる例を最低3つ示す。  \n",
    "精度があがるとは、検証用データに対する平均二乗誤差（MSE）が小さくなることを示す。\n",
    "\n",
    "ブレンディングとは、N個の多様なモデルを独立して学習させ、推定結果を重み付けした上で足し合わせる方法のこと。  \n",
    "最も単純には平均をとる。多様なモデルとは、以下のような条件を変化させることで作り出す。\n",
    "- 手法（例：線形回帰、SVM、決定木、ニューラルネットワークなど）\n",
    "- ハイパーパラメータ（例：SVMのカーネルの種類、重みの初期値など）\n",
    "- 入力データの前処理の仕方（例：標準化、対数変換、PCAなど）\n",
    "\n",
    "重要なのはそれぞれのモデルが大きく異なること。必ずしも単一モデルの精度が高い必要はない。  \n",
    "回帰問題でのブレンディングは非常に単純であるため、scikit-learnには用意されていない。\n",
    "\n",
    "**補足**  \n",
    "分類問題の場合は、多数決を行う。回帰問題に比べると複雑なため、scikit-learnにはVotingClassifierが用意されている。\n",
    "\n",
    "[sklearn.ensemble.VotingClassifier — scikit-learn 0.20.0 documentation](https://scikit-learn.org/stable/modules/generated/sklearn.ensemble.VotingClassifier.html \"sklearn.ensemble.VotingClassifier — scikit-learn 0.20.0 documentation\")\n",
    "\n",
    "**考察**  \n",
    "どういった組み合わせが良いか、どのようにすると多様なモデルが作れるかを考えてみる。"
   ]
  },
  {
   "cell_type": "code",
   "execution_count": 145,
   "metadata": {},
   "outputs": [
    {
     "name": "stdout",
     "output_type": "stream",
     "text": [
      "Single Linear-Regression MSE:  0.09758987180975483\n",
      "Single SVR MSE:  0.019306319995671086\n",
      "Single Decision-Tree-Regressor MSE:  0.045585191744854175\n",
      "Blended MSE:  0.011729114929173026\n"
     ]
    }
   ],
   "source": [
    "def blending_func(X_train, X_val, y_train, y_val, models, weights):\n",
    "    \"\"\"\n",
    "    ブレンディングの実装関数。\n",
    "\n",
    "    Parameters\n",
    "    ----------------\n",
    "    X_train : ndarray, shape(n_samples, n_features)\n",
    "        学習用データの特徴量\n",
    "    X_val : ndarray, shape(n_samples, n_features)\n",
    "        検証用データの特徴量\n",
    "    y_train : ndarray, shape(m_samples,)\n",
    "        学習用データの正解値\n",
    "    y_val : ndarray, shape(m_samples,)\n",
    "        検証用データの正解値\n",
    "    models : list of instances\n",
    "        学習するモデルのインスンタスのリスト\n",
    "    weights : list of float\n",
    "        各モデルのy_pred（予測値）に掛けるウェイトのリスト\n",
    "    \n",
    "    Returns\n",
    "    ----------------\n",
    "    mse_list : list of MSE(float)\n",
    "        単一モデルのMSE値のリスト\n",
    "    mse_blended : float\n",
    "        単一モデルの各y_pred（予測値）にウェイトを掛けてブレンドした値で算出したMSE値\n",
    "    \"\"\"\n",
    "    mse_list = []\n",
    "    y_pred_list = []\n",
    "    for i, model, weight in zip(np.arange(len(models)), models, weights):\n",
    "        model.fit(X_train, y_train)\n",
    "        # y_predにウェイトを掛けたものをリストに溜めていく\n",
    "        y_pred = model.predict(X_val)\n",
    "        y_pred_list.append(y_pred * weight)\n",
    "        # mseもリストに溜めていく\n",
    "        mse = mean_squared_error(y_val, y_pred)\n",
    "        mse_list.append(mse)\n",
    "    # 溜めたy_predのweighted値を合計(ブレンド)\n",
    "    y_pred_blended = sum(y_pred_list)\n",
    "    # ブレンドしたy_predでMSEを算出\n",
    "    mse_blended = mean_squared_error(y_val, y_pred_blended)\n",
    "    # 単一モデルのMSE値のリストと、ウェイトしてブレンドしたMSE値を返す\n",
    "    return mse_list, mse_blended\n",
    "\n",
    "\n",
    "# 実際に実行\n",
    "# 必要な要素を用意 \n",
    "models = [LinearRegression(), SVR(), DecisionTreeRegressor(max_depth=3)]\n",
    "weights = [0.4, 0.3, 0.3]\n",
    "model_names = [\"Single Linear-Regression\",\n",
    "               \"Single SVR\",\n",
    "               \"Single Decision-Tree-Regressor\"]\n",
    "\n",
    "# MSEを計算\n",
    "mse_list, mse_blended = blending_func(X_train, X_val, y_train, y_val, models, weights)\n",
    "\n",
    "# 各MSEを出力\n",
    "for model_name, mse in zip(model_names, mse_list):\n",
    "    print(model_name + \" MSE: \", mse)\n",
    "print(\"Blended MSE: \", mse_blended)"
   ]
  },
  {
   "cell_type": "code",
   "execution_count": 134,
   "metadata": {},
   "outputs": [
    {
     "name": "stdout",
     "output_type": "stream",
     "text": [
      "Single Linear-Regression MSE:  0.09758987180975483\n",
      "Single SVR MSE:  0.019306319995671086\n",
      "Single Decision-Tree-Regressor MSE:  0.045585191744854175\n",
      "Blended MSE:  0.009953140472495377\n"
     ]
    }
   ],
   "source": [
    "# weightsを変えて実行\n",
    "weights = [0.1, 0.8, 0.1]\n",
    "mse_list, mse_blended = blending_func(X_train, X_val, y_train, y_val, models, weights)\n",
    "for model_name, mse in zip(model_names, mse_list):\n",
    "    print(model_name + \" MSE: \", mse)\n",
    "print(\"Blended MSE: \", mse_blended)"
   ]
  },
  {
   "cell_type": "code",
   "execution_count": 135,
   "metadata": {},
   "outputs": [
    {
     "name": "stdout",
     "output_type": "stream",
     "text": [
      "Single Linear-Regression MSE:  0.09758987180975483\n",
      "Single SVR MSE:  0.019306319995671086\n",
      "Single Decision-Tree-Regressor MSE:  0.0024996940237750048\n",
      "Blended MSE:  0.001980157035013706\n"
     ]
    }
   ],
   "source": [
    "# modelsとweightsを変えて実行\n",
    "models = [LinearRegression(), SVR(), DecisionTreeRegressor(max_depth=5)]\n",
    "weights = [0.1, 0.1, 0.8]\n",
    "mse_list, mse_blended = blending_func(X_train, X_val, y_train, y_val, models, weights)\n",
    "for model_name, mse in zip(model_names, mse_list):\n",
    "    print(model_name + \" MSE: \", mse)\n",
    "print(\"Blended MSE: \", mse_blended)"
   ]
  },
  {
   "cell_type": "markdown",
   "metadata": {},
   "source": [
    "いずれもBlended MSEが最小値となっている"
   ]
  },
  {
   "cell_type": "markdown",
   "metadata": {},
   "source": [
    "## 2. バギング\n",
    "バギングを実装し、単一モデルより精度があがる例を最低1つ示す。  \n",
    "バギングは入力データの選び方を多様化する方法。  \n",
    "学習データから重複を許した上でランダムに抜き出すことで、N種類のサブセット（ブートストラップサンプル）を作り出す。  \n",
    "それらによってモデルをN個学習し、推定結果の平均をとる。  \n",
    "ブレンディングと異なり、それぞれの重み付けを変えることはない。\n",
    "\n",
    "[sklearn.model_selection.train_test_split — scikit-learn 0.20.0 documentation](https://scikit-learn.org/stable/modules/generated/sklearn.model_selection.train_test_split.html \"sklearn.model_selection.train_test_split — scikit-learn 0.20.0 documentation\")\n",
    "\n",
    "scikit-learnのtrain_test_splitを、shuffleパラメータをTrueにして使うことで、ランダムにデータを分割することができる。  \n",
    "これによりブートストラップサンプルが手に入る。  \n",
    "推定結果の平均をとる部分はブースティングと同様の実装になる。"
   ]
  },
  {
   "cell_type": "code",
   "execution_count": 167,
   "metadata": {},
   "outputs": [
    {
     "name": "stdout",
     "output_type": "stream",
     "text": [
      "Single Linear-Regression MSE:  0.01880436441890866\n",
      "Single SVR MSE:  0.16653375269716916\n",
      "Single Decision-Tree-Regressor MSE:  0.07573724863940992\n",
      "Mean MSE:  0.1352784487420621\n"
     ]
    },
    {
     "name": "stderr",
     "output_type": "stream",
     "text": [
      "/Users/arimoto/anaconda3/envs/python37/lib/python3.6/site-packages/sklearn/svm/base.py:196: FutureWarning: The default value of gamma will change from 'auto' to 'scale' in version 0.22 to account better for unscaled features. Set gamma explicitly to 'auto' or 'scale' to avoid this warning.\n",
      "  \"avoid this warning.\", FutureWarning)\n"
     ]
    }
   ],
   "source": [
    "def bagging_func(X, y, models):\n",
    "    \"\"\"\n",
    "    バギングの実装関数。\n",
    "\n",
    "    Parameters\n",
    "    ----------------\n",
    "    X : ndarray, shape(n_samples, n_features)\n",
    "        特徴量データ\n",
    "    y : ndarray, shape(m_samples,)\n",
    "        正解値データ\n",
    "    models : list of instances\n",
    "        学習するモデルのインスンタスのリスト\n",
    "    \n",
    "    Returns\n",
    "    ----------------\n",
    "    mse_list : list of MSE(float)\n",
    "        単一モデルのMSE値のリスト\n",
    "    mse_mean : float\n",
    "        各単一モデルのy_pred（予測値）の平均で計算したMSE値\n",
    "    \"\"\"\n",
    "    mse_list = []\n",
    "    y_pred_list = []\n",
    "    for i, model in enumerate(models):\n",
    "        # データを訓練用と検証用に分割(バギングなのでrandom_stateは指定しない)\n",
    "        X_train, X_val, y_train, y_val = train_test_split(X, y, test_size=0.20, shuffle=True)\n",
    "        model.fit(X_train, y_train)\n",
    "        # y_predをリストに溜めていく\n",
    "        y_pred = model.predict(X_val)\n",
    "        y_pred_list.append(y_pred)\n",
    "        # mseをリストに溜めていく\n",
    "        mse = mean_squared_error(y_val, y_pred)\n",
    "        mse_list.append(mse)\n",
    "    # 溜めたy_predの平均値を計算\n",
    "    y_pred_mean = sum(y_pred_list) / len(y_pred_list)\n",
    "    # y_predの平均値でMSEを算出\n",
    "    mse_mean = mean_squared_error(y_val, y_pred_mean)\n",
    "    # 単一モデルのy_predで計算したMSE値のリストと、y_pred平均で計算したMSE値を返す\n",
    "    return mse_list, mse_mean\n",
    "\n",
    "\n",
    "# 実際に実行\n",
    "# 必要な要素を用意 \n",
    "models = [LinearRegression(), SVR(), DecisionTreeRegressor(max_depth=1)]\n",
    "model_names = [\"Single Linear-Regression\",\n",
    "               \"Single SVR\",\n",
    "               \"Single Decision-Tree-Regressor\"]\n",
    "\n",
    "# MSEを計算\n",
    "mse_list, mse_mean = bagging_func(X, y, models)\n",
    "\n",
    "# 各MSEを出力\n",
    "for model_name, mse in zip(model_names, mse_list):\n",
    "    print(model_name + \" MSE: \", mse)\n",
    "print(\"Mean MSE: \", mse_mean)"
   ]
  },
  {
   "cell_type": "markdown",
   "metadata": {},
   "source": [
    "## 3. スタッキング\n",
    "スタッキングを実装し、単一モデルより精度があがる例を最低1つ示す。  \n",
    "スタッキングの手順は以下の通り。  \n",
    "最低限ステージ0とステージ1があればスタッキングは成立するため、それを実装する。  \n",
    "まずは$K_0=3,M_0=2$程度にする。\n",
    "\n",
    "**学習時**  \n",
    "（ステージ0）  \n",
    "- 学習データを$K_0$個に分割する。\n",
    "- 分割した内の$(K_0-1)$個をまとめて学習用データ、残り$1$個を推定用データとする組み合わせが$K_0$個作れる。\n",
    "- あるモデルのインスタンスを$K_0$個用意し、異なる学習用データを使い学習する。\n",
    "- それぞれの学習済みモデルに対して、使っていない残り$1$個の推定用データを入力し、推定値を得る。（これをブレンドデータと呼ぶ）\n",
    "- さらに、異なるモデルのインスタンスも$K_0$個用意し、同様のことを行う。モデルが$M_0$個あれば、$M_0$個のブレンドデータが得られる。\n",
    "\n",
    "（ステージ$n$）\n",
    "- ステージ$n-1$のブレンドデータを$M_{n-1}$次元の特徴量を持つ学習用データと考え、$K_n$個に分割する。以下同様である。\n",
    "\n",
    "（ステージ$N$ ）＊最後のステージ\n",
    "\n",
    "- ステージ$N-1$の$M_{N-1}$個のブレンドデータを$M_{N-1}$次元の特徴量の入力として、$1$種類のモデルの学習を行う。これが最終的な推定を行うモデルとなる。\n",
    "\n",
    "**推定時**  \n",
    "（ステージ$0$）\n",
    "- テストデータを$K_0*M_0$個の学習済みモデルに入力し、$K_0*M_0$個の推定値を得る。これを$K_0$の軸で平均値を求め$M_0$次元の特徴量を持つデータを得る。（ブレンドテストと呼ぶ）\n",
    "\n",
    "（ステージ$n$）\n",
    "- ステージ$n-1$で得たブレンドテストを$K_n*M_n$個の学習済みモデルに入力し、$K_n*M_n$個の推定値を得る。これを$K_n$の軸で平均値を求め$M_0$次元の特徴量を持つデータを得る。（ブレンドテストと呼ぶ）\n",
    "\n",
    "（ステージ$N$）＊最後のステージ\n",
    "- ステージ$N-1$で得たブレンドテストを学習済みモデルに入力し、推定値を得る。"
   ]
  },
  {
   "cell_type": "markdown",
   "metadata": {},
   "source": [
    "交差検証用のsimple_scratch_KFoldクラスをまず実装する。"
   ]
  },
  {
   "cell_type": "code",
   "execution_count": 186,
   "metadata": {},
   "outputs": [
    {
     "name": "stdout",
     "output_type": "stream",
     "text": [
      "〜sk-learn〜\n",
      "------TRAIN------:\n",
      " [ 0  1  3  5  7  9 10 12 13]\n",
      "------TEST------:\n",
      " [ 2  4  6  8 11]\n",
      "------TRAIN------:\n",
      " [ 0  2  3  4  5  6  8 11 12]\n",
      "------TEST------:\n",
      " [ 1  7  9 10 13]\n",
      "------TRAIN------:\n",
      " [ 1  2  4  6  7  8  9 10 11 13]\n",
      "------TEST------:\n",
      " [ 0  3  5 12]\n",
      "\n",
      "〜scratch〜\n",
      "------TRAIN------:\n",
      " [ 0  1  3  5  7  9 10 12 13]\n",
      "------TEST------:\n",
      " [ 2  4  6  8 11]\n",
      "------TRAIN------:\n",
      " [ 0  2  3  4  5  6  8 11 12]\n",
      "------TEST------:\n",
      " [ 1  7  9 10 13]\n",
      "------TRAIN------:\n",
      " [ 1  2  4  6  7  8  9 10 11 13]\n",
      "------TEST------:\n",
      " [ 0  3  5 12]\n"
     ]
    }
   ],
   "source": [
    "import numpy as np\n",
    "from sklearn.model_selection import KFold\n",
    "\n",
    "class Simple_Scratch_KFold:\n",
    "    \"\"\"\n",
    "    スクラッチKFoldクラス\n",
    "    y, groupsの引数入力は想定しておらず、stratify機能はなし。\n",
    "    データ分割前にシャッフルする。\n",
    "\n",
    "    Parameters\n",
    "    ----------\n",
    "    n_splits : int (default: 3)\n",
    "      KFoldのKに相当。交差検証のためのデータ分割数\n",
    "    random_state : int (default: None)\n",
    "      RandomStateGeneratorの擬似乱数シード\n",
    "    \n",
    "    \"\"\"\n",
    "    def __init__(self, n_splits=3, random_state=None):\n",
    "        self.n_splits = n_splits\n",
    "        self.rng = np.random.RandomState(seed=random_state)\n",
    "        self.random_state = random_state\n",
    "        self.iteration = 0\n",
    "        self.cum_test_nums = 0\n",
    "    \n",
    "    def split(self, X):\n",
    "        \"\"\"\n",
    "        XをK分割するためのインデックス生成用ジェネレータを生成\n",
    "        \n",
    "        Parameters\n",
    "        ----------\n",
    "        X : ndarray, shape (n_samples, n_features)\n",
    "          分割したいデータ\n",
    "        \n",
    "        Yields\n",
    "        ----------\n",
    "        ind_train, ind_test\n",
    "          訓練用のインデックス、テスト用のインデックス\n",
    "        \n",
    "        \"\"\"\n",
    "        # 使用する要素を準備\n",
    "        n_samples = X.shape[0]\n",
    "        \n",
    "        # Xのサンプル数よりn_splitsが多かったら警告\n",
    "        if n_samples < self.n_splits:\n",
    "            raise ValueError(\"n_splits value must be equal to or less than the number of samples (X.shape[0]).\")\n",
    "    \n",
    "        # サンプル数を分割数Kで割り切れない場合、小数点以下切り捨て後に1を加えるかを分割後グループ毎に決める\n",
    "        # まず、各分割グループ内のサンプル数配列を小数点以下切り捨てで生成\n",
    "        continuous = np.full(self.n_splits, n_samples) / self.n_splits\n",
    "        floored = np.floor(continuous)\n",
    "        need_to_add_num = int(n_samples - floored.sum())\n",
    "        # need_to_add_numの数だけ、floored要素の最初から1ずつ加えていく\n",
    "        if need_to_add_num > 0:\n",
    "            ind_add = np.arange(need_to_add_num)\n",
    "            values = np.zeros(self.n_splits)\n",
    "            values[ind_add] += 1\n",
    "            floored = floored + values\n",
    "        test_nums = floored.astype(np.int)\n",
    "    \n",
    "        # shuffle後、splitする\n",
    "        permutation = self.rng.permutation(n_samples)\n",
    "        while True:\n",
    "            permutation_copied = np.copy(permutation)\n",
    "            ind_test = permutation_copied[self.cum_test_nums : self.cum_test_nums + test_nums[self.iteration]]\n",
    "            index = np.arange(test_nums[self.iteration]) + self.cum_test_nums\n",
    "            ind_train = np.delete(permutation_copied, index) # permutation_copiedからindex分を削除した残りをind_trainとする\n",
    "            # ソートして返す\n",
    "            yield (np.sort(ind_train), np.sort(ind_test))\n",
    "            \n",
    "            self.cum_test_nums += test_nums[self.iteration]\n",
    "            self.iteration += 1\n",
    "            if self.iteration > self.n_splits -1:\n",
    "                break    \n",
    "\n",
    "        \n",
    "# テストのためにsk-learn版と比較\n",
    "\n",
    "test_array = np.arange(14)\n",
    "\n",
    "print(\"〜sk-learn〜\")\n",
    "kf = KFold(n_splits=3, random_state=0, shuffle=True)\n",
    "for train_index, test_index in kf.split(test_array):\n",
    "    print(\"------TRAIN------:\\n\", train_index)\n",
    "    print(\"------TEST------:\\n\", test_index)\n",
    "\n",
    "\n",
    "print(\"\\n〜scratch〜\")\n",
    "sskf = Simple_Scratch_KFold(n_splits=3, random_state=0)\n",
    "for train_index, test_index in sskf.split(test_array):\n",
    "    print(\"------TRAIN------:\\n\", train_index)\n",
    "    print(\"------TEST------:\\n\", test_index)"
   ]
  },
  {
   "cell_type": "markdown",
   "metadata": {},
   "source": [
    "scikit_learn版と同一の結果となっているので、Scratch版KFoldでスタッキングを実装する。"
   ]
  },
  {
   "cell_type": "code",
   "execution_count": 187,
   "metadata": {},
   "outputs": [],
   "source": [
    "import numpy as np\n",
    "\n",
    "def reg_stacking_func(X_cval, X_test, y_cval, models_list, K_list, final_model):\n",
    "    \"\"\"\n",
    "    スタッキングの実装クラス（N=2）\n",
    "    \n",
    "    別途定義の_layer_funcをn=0からN-1層まで使用し、N層にて線形回帰で予測する。\n",
    "\n",
    "    Parameters\n",
    "    ----------------\n",
    "    X_cval : ndarray, shape(n_samples, n_features)\n",
    "        訓練・CV用の特徴量データ\n",
    "    X_test : ndarray, shape(n_samples, n_features)\n",
    "        テスト用の特徴量データ\n",
    "    y_cval : ndarray, shape(n_samples,)\n",
    "        訓練・CV用の正解値データ\n",
    "    models_list : double list of model instances\n",
    "        n=0からN-1の各層で交差検証する弱学習器のインスンタスの二重リスト\n",
    "    K_list : list of int\n",
    "        n=0からN-1の各層で交差検証する際のKFoldのKの値\n",
    "    final_model : a model instance\n",
    "        N層(最終層)で学習・予測するモデルのインスタンス\n",
    "    \n",
    "    Returns\n",
    "    ----------------\n",
    "    y_pred : ndarray, shape(n_samples,)\n",
    "        最終予測データ\n",
    "    \"\"\"\n",
    "    # 各層で交差検証を繰り返す\n",
    "    X_cval, X_test = _layer_func(X_cval, X_test, y_cval, models_list[0], K_list[0]) # 第0層\n",
    "    X_cval, X_test = _layer_func(X_cval, X_test, y_cval, models_list[1], K_list[1]) # 第1層\n",
    "    \n",
    "    # 最終評価\n",
    "    final_model.fit(X_cval, y_cval)\n",
    "    return final_model.predict(X_test)\n",
    "\n",
    "\n",
    "def _layer_func(X_cval, X_test, y_cval, models, K):\n",
    "    \"\"\"\n",
    "    スタッキングの途中階層(n=0からN-1)の実装クラス\n",
    "    \n",
    "    交差検証によりX_cvalで学習を行い、\n",
    "    X_cvalによる予測結果が次層の学習データに、\n",
    "    X_testによる予測結果の平均が次層のテストデータになる。\n",
    "    \n",
    "    交差検証のKFoldクラスには別途定義のスクラッチクラスを使用している。\n",
    "\n",
    "    Parameters\n",
    "    ----------------\n",
    "    X_cval : ndarray, shape(n_samples, n_features)\n",
    "        訓練・CV用の特徴量データ\n",
    "    X_test : ndarray, shape(n_samples, n_features)\n",
    "        テスト用の特徴量データ\n",
    "    y_cval : ndarray, shape(n_samples,)\n",
    "        訓練・CV用の正解値データ\n",
    "    models : list of instances\n",
    "        本層で学習する弱学習器のインスンタスのリスト\n",
    "    K : int\n",
    "        本層で学習する際のKFoldのKの値\n",
    "    \n",
    "    Returns\n",
    "    ----------------\n",
    "    X_cval_blend : ndarray, shape(n_samples, n_features)\n",
    "        次層の訓練・CV用の特徴量データ（特徴量数=本層の弱学習器数）\n",
    "    X_test_blend : ndarray, shape(n_samples, n_features)\n",
    "        次層のテスト用の特徴量データ（特徴量数=本層の弱学習器数）\n",
    "    \"\"\"    \n",
    "    # ブレンドデータの空配列を生成\n",
    "    X_cval_blend = np.zeros((X_cval.shape[0], len(models))) # shape: (訓練データ数, 弱学習器数)\n",
    "    X_test_blend = np.zeros((X_test.shape[0], len(models))) # shape: (テストデータ数, 弱学習器数)\n",
    "    \n",
    "    # 弱学習器毎に交差検証回数分で学習し、各回において検証データとテストデータで予測\n",
    "    for j, model in enumerate(models):\n",
    "        # スクラッチしたKFoldクラスを生成\n",
    "        sskf = Simple_Scratch_KFold(n_splits=K, random_state=None)\n",
    "        # 1回毎に交差検証用の空配列を生成\n",
    "        X_test_blend_j = np.zeros((X_test.shape[0], K)) # shape: (テストデータ数, 交差検証数)\n",
    "        for i, (train_index, cval_index) in enumerate(sskf.split(X_cval)):\n",
    "            # 訓練データと交差検証データを生成\n",
    "            X_train = X_cval[train_index]\n",
    "            y_train = y_cval[train_index]\n",
    "            X_val = X_cval[cval_index]\n",
    "            y_val = y_cval[cval_index] # どこにも使用しないが一応生成\n",
    "            \n",
    "            # 学習データでfitting\n",
    "            model.fit(X_train, y_train)\n",
    "            \n",
    "            # 検証データで予測（これが次層における訓練データの一つの特徴量となる）\n",
    "            # KFoldなので、X_valは毎回異なるデータ点であり、for文が終わっても平均をとる必要はない\n",
    "            X_cval_blend[cval_index, j] = model.predict(X_val)\n",
    "            \n",
    "            # テストデータで予測\n",
    "            # 毎回同一のX_testで予測するので、後に全てのfor文が終わったら平均をとり、X_test_blendの該当列に格納する\n",
    "            X_test_blend_j[:, i] = model.predict(X_test)\n",
    "        # 各交差検証におけるX_testの予測値の平均を格納する（これが次層におけるテストデータの一つの特徴量となる）\n",
    "        X_test_blend[:, j] = X_test_blend_j.mean(axis=1)\n",
    "    \n",
    "    return X_cval_blend, X_test_blend\n"
   ]
  },
  {
   "cell_type": "markdown",
   "metadata": {},
   "source": [
    "上記の関数を実際に実行してみる"
   ]
  },
  {
   "cell_type": "code",
   "execution_count": 192,
   "metadata": {},
   "outputs": [
    {
     "name": "stdout",
     "output_type": "stream",
     "text": [
      "Stacking MSE:  0.015641777176465595\n"
     ]
    }
   ],
   "source": [
    "# パラメータ設定\n",
    "# 第0層は4つのモデル、第1層は2つのモデル\n",
    "models_list = [[DecisionTreeRegressor(max_depth=1),\n",
    "               DecisionTreeRegressor(max_depth=2),\n",
    "               DecisionTreeRegressor(max_depth=3),\n",
    "               LinearRegression()], \n",
    "               [LinearRegression(),\n",
    "               DecisionTreeRegressor(max_depth=2)]]\n",
    "# 第0層はK=3、第1層もK=3\n",
    "K_list = [3,3]\n",
    "# 最終評価用のモデル\n",
    "final_model = LinearRegression()\n",
    "\n",
    "# 実際に実行\n",
    "y_pred = reg_stacking_func(X_train, X_val, y_train, models_list, K_list, final_model)\n",
    "mse = mean_squared_error(y_val, y_pred)\n",
    "print(\"Stacking MSE: \", mse)"
   ]
  }
 ],
 "metadata": {
  "kernelspec": {
   "display_name": "Python 3",
   "language": "python",
   "name": "python3"
  },
  "language_info": {
   "codemirror_mode": {
    "name": "ipython",
    "version": 3
   },
   "file_extension": ".py",
   "mimetype": "text/x-python",
   "name": "python",
   "nbconvert_exporter": "python",
   "pygments_lexer": "ipython3",
   "version": "3.6.8"
  }
 },
 "nbformat": 4,
 "nbformat_minor": 2
}
