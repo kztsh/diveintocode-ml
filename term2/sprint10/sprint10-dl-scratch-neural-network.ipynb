{
 "cells": [
  {
   "cell_type": "markdown",
   "metadata": {},
   "source": [
    "# Term1 Sprint10 授業課題 \n",
    "## コーディング課題：ニューラルネットワーク(NN)スクラッチ"
   ]
  },
  {
   "cell_type": "markdown",
   "metadata": {},
   "source": [
    "NumPyなど最低限のライブラリのみを使いアルゴリズムを実装していく。  \n",
    "今回は多クラス分類を行う3層のニューラルネットワークを作成する。  \n",
    "層の数などは固定した上でニューラルネットワークの基本を確認する。  \n",
    "次のSprintで層を自由に変えられる設計にしていく。  \n",
    "\n",
    "**データセットの用意**  \n",
    "MNISTデータセットを使用する。Kerasによりデータセットをダウンロードし、展開まで行う。  \n",
    "\n",
    "**MNISTとは**  \n",
    "画像分類のための定番データセットで、手書き数字認識を行う。  \n",
    "このデータセットには学習用6万枚、テスト用1万枚の28×28ピクセルの白黒画像、およびそれらが0〜9のどの数字であるかが含まれている。\n",
    "\n",
    "**画像データとは**  \n",
    "一般的に白黒画像であればピクセルには0〜255の値が含まれる。  \n",
    "一方、カラー画像であればR（赤）、G（緑）、B（青）それぞれに対応する0〜255の値が含まれる。  \n",
    "機械学習をする上では、この0〜255の値一つひとつが特徴量として扱う。  \n",
    "0〜255は符号なしの8ビット整数で表せる範囲になるため、NumPyであれば「uint8」型の変数として保持できる。  \n",
    "\n",
    "**データセットの確認**  \n",
    "各データは28×28ピクセルの白黒画像となっている。  \n",
    "\n",
    "**平滑化**  \n",
    "(1, 28, 28)の各画像を、(1, 784)に変換する。  \n",
    "これまで学んできた機械学習手法や、今回扱う全結合層のみのニューラルネットワークではこの形で扱う。  \n",
    "全てのピクセルが一列になっていることを、平滑化（flatten）してあると表現する。\n",
    "\n",
    "**補足**  \n",
    "ここまで機械学習を学んでくる中で、特徴量の数を「次元」と呼んできた。  \n",
    "その視点ではMNISTは784次元のデータとなる。  \n",
    "一方で、NumPyのshapeが(784,)の状態を1次元配列とも呼ぶ。  \n",
    "画像としての縦横の情報を持つ（28, 28)の状態であれば、2次元配列となる。この視点では2次元のデータである。  \n",
    "さらに、もしもカラー画像であれば(28, 28, 3)ということになり、3次元配列となる。先ほどの視点では3次元のデータになる。  \n",
    "しかし、白黒でもカラーでも平面画像であり、立体データではないという視点で、2次元のデータである。  \n",
    "画像データを扱う際にはこのように「次元」という言葉が複数の意味合いで使われることに注意する。\n",
    "\n",
    "**画像データの可視化**  \n",
    "plt.imshowに渡す。  \n",
    "[matplotlib.pyplot.imshow — Matplotlib 3.0.2 documentation](https://matplotlib.org/api/_as_gen/matplotlib.pyplot.imshow.html \"matplotlib.pyplot.imshow — Matplotlib 3.0.2 documentation\")\n",
    "\n"
   ]
  },
  {
   "cell_type": "code",
   "execution_count": 15,
   "metadata": {},
   "outputs": [],
   "source": [
    "%matplotlib inline\n",
    "import matplotlib.pyplot as plt\n",
    "import numpy as np\n",
    "import pyprind\n",
    "from keras.datasets import mnist\n",
    "from sklearn.preprocessing import OneHotEncoder\n",
    "from sklearn.model_selection import train_test_split"
   ]
  },
  {
   "cell_type": "code",
   "execution_count": 16,
   "metadata": {},
   "outputs": [
    {
     "name": "stdout",
     "output_type": "stream",
     "text": [
      "X_train.shape:  (60000, 28, 28)\n",
      "X_test.shape:  (10000, 28, 28)\n",
      "X_train[0].dtype:  uint8\n",
      "X_train[0]:  [[  0   0   0   0   0   0   0   0   0   0   0   0   0   0   0   0   0   0\n",
      "    0   0   0   0   0   0   0   0   0   0]\n",
      " [  0   0   0   0   0   0   0   0   0   0   0   0   0   0   0   0   0   0\n",
      "    0   0   0   0   0   0   0   0   0   0]\n",
      " [  0   0   0   0   0   0   0   0   0   0   0   0   0   0   0   0   0   0\n",
      "    0   0   0   0   0   0   0   0   0   0]\n",
      " [  0   0   0   0   0   0   0   0   0   0   0   0   0   0   0   0   0   0\n",
      "    0   0   0   0   0   0   0   0   0   0]\n",
      " [  0   0   0   0   0   0   0   0   0   0   0   0   0   0   0   0   0   0\n",
      "    0   0   0   0   0   0   0   0   0   0]\n",
      " [  0   0   0   0   0   0   0   0   0   0   0   0   3  18  18  18 126 136\n",
      "  175  26 166 255 247 127   0   0   0   0]\n",
      " [  0   0   0   0   0   0   0   0  30  36  94 154 170 253 253 253 253 253\n",
      "  225 172 253 242 195  64   0   0   0   0]\n",
      " [  0   0   0   0   0   0   0  49 238 253 253 253 253 253 253 253 253 251\n",
      "   93  82  82  56  39   0   0   0   0   0]\n",
      " [  0   0   0   0   0   0   0  18 219 253 253 253 253 253 198 182 247 241\n",
      "    0   0   0   0   0   0   0   0   0   0]\n",
      " [  0   0   0   0   0   0   0   0  80 156 107 253 253 205  11   0  43 154\n",
      "    0   0   0   0   0   0   0   0   0   0]\n",
      " [  0   0   0   0   0   0   0   0   0  14   1 154 253  90   0   0   0   0\n",
      "    0   0   0   0   0   0   0   0   0   0]\n",
      " [  0   0   0   0   0   0   0   0   0   0   0 139 253 190   2   0   0   0\n",
      "    0   0   0   0   0   0   0   0   0   0]\n",
      " [  0   0   0   0   0   0   0   0   0   0   0  11 190 253  70   0   0   0\n",
      "    0   0   0   0   0   0   0   0   0   0]\n",
      " [  0   0   0   0   0   0   0   0   0   0   0   0  35 241 225 160 108   1\n",
      "    0   0   0   0   0   0   0   0   0   0]\n",
      " [  0   0   0   0   0   0   0   0   0   0   0   0   0  81 240 253 253 119\n",
      "   25   0   0   0   0   0   0   0   0   0]\n",
      " [  0   0   0   0   0   0   0   0   0   0   0   0   0   0  45 186 253 253\n",
      "  150  27   0   0   0   0   0   0   0   0]\n",
      " [  0   0   0   0   0   0   0   0   0   0   0   0   0   0   0  16  93 252\n",
      "  253 187   0   0   0   0   0   0   0   0]\n",
      " [  0   0   0   0   0   0   0   0   0   0   0   0   0   0   0   0   0 249\n",
      "  253 249  64   0   0   0   0   0   0   0]\n",
      " [  0   0   0   0   0   0   0   0   0   0   0   0   0   0  46 130 183 253\n",
      "  253 207   2   0   0   0   0   0   0   0]\n",
      " [  0   0   0   0   0   0   0   0   0   0   0   0  39 148 229 253 253 253\n",
      "  250 182   0   0   0   0   0   0   0   0]\n",
      " [  0   0   0   0   0   0   0   0   0   0  24 114 221 253 253 253 253 201\n",
      "   78   0   0   0   0   0   0   0   0   0]\n",
      " [  0   0   0   0   0   0   0   0  23  66 213 253 253 253 253 198  81   2\n",
      "    0   0   0   0   0   0   0   0   0   0]\n",
      " [  0   0   0   0   0   0  18 171 219 253 253 253 253 195  80   9   0   0\n",
      "    0   0   0   0   0   0   0   0   0   0]\n",
      " [  0   0   0   0  55 172 226 253 253 253 253 244 133  11   0   0   0   0\n",
      "    0   0   0   0   0   0   0   0   0   0]\n",
      " [  0   0   0   0 136 253 253 253 212 135 132  16   0   0   0   0   0   0\n",
      "    0   0   0   0   0   0   0   0   0   0]\n",
      " [  0   0   0   0   0   0   0   0   0   0   0   0   0   0   0   0   0   0\n",
      "    0   0   0   0   0   0   0   0   0   0]\n",
      " [  0   0   0   0   0   0   0   0   0   0   0   0   0   0   0   0   0   0\n",
      "    0   0   0   0   0   0   0   0   0   0]\n",
      " [  0   0   0   0   0   0   0   0   0   0   0   0   0   0   0   0   0   0\n",
      "    0   0   0   0   0   0   0   0   0   0]]\n"
     ]
    }
   ],
   "source": [
    "# データ生成\n",
    "(X_train, y_train), (X_test, y_test) = mnist.load_data()\n",
    "\n",
    "print(\"X_train.shape: \", X_train.shape) # (60000, 28, 28)\n",
    "print(\"X_test.shape: \", X_test.shape) # (10000, 28, 28)\n",
    "print(\"X_train[0].dtype: \", X_train[0].dtype) # uint8\n",
    "print(\"X_train[0]: \", X_train[0])\n",
    "\n",
    "# 平滑化\n",
    "X_train = X_train.reshape(-1, 784)\n",
    "X_test = X_test.reshape(-1, 784)"
   ]
  },
  {
   "cell_type": "code",
   "execution_count": 17,
   "metadata": {},
   "outputs": [
    {
     "data": {
      "image/png": "[encoded data removed]",
      "text/plain": [
       "<Figure size 432x288 with 1 Axes>"
      ]
     },
     "metadata": {
      "needs_background": "light"
     },
     "output_type": "display_data"
    }
   ],
   "source": [
    "# 画像データの可視化\n",
    "index = 0\n",
    "image = X_train[index].reshape(28,28)\n",
    "# X_train[index]: (784,)\n",
    "# image: (28, 28)\n",
    "plt.imshow(image, 'gray')\n",
    "plt.title('label : {}'.format(y_train[index]))\n",
    "plt.show()"
   ]
  },
  {
   "cell_type": "markdown",
   "metadata": {},
   "source": [
    "**発展的話題**  \n",
    "画像データは符号なし8ビット整数のuint8型で保持されることが一般的だが、plt.imshowはより自由な配列を画像として表示することが可能。例えば、以下のようにマイナスの値を持ったfloat64型の浮動小数点であってもエラーにはならず、先ほどと全く同じように表示される。"
   ]
  },
  {
   "cell_type": "code",
   "execution_count": 18,
   "metadata": {},
   "outputs": [
    {
     "data": {
      "image/png": "[encoded data removed]",
      "text/plain": [
       "<Figure size 432x288 with 1 Axes>"
      ]
     },
     "metadata": {
      "needs_background": "light"
     },
     "output_type": "display_data"
    },
    {
     "name": "stdout",
     "output_type": "stream",
     "text": [
      "[[-105.35 -105.35 -105.35 -105.35 -105.35 -105.35 -105.35 -105.35 -105.35\n",
      "  -105.35 -105.35 -105.35 -105.35 -105.35 -105.35 -105.35 -105.35 -105.35\n",
      "  -105.35 -105.35 -105.35 -105.35 -105.35 -105.35 -105.35 -105.35 -105.35\n",
      "  -105.35]\n",
      " [-105.35 -105.35 -105.35 -105.35 -105.35 -105.35 -105.35 -105.35 -105.35\n",
      "  -105.35 -105.35 -105.35 -105.35 -105.35 -105.35 -105.35 -105.35 -105.35\n",
      "  -105.35 -105.35 -105.35 -105.35 -105.35 -105.35 -105.35 -105.35 -105.35\n",
      "  -105.35]\n",
      " [-105.35 -105.35 -105.35 -105.35 -105.35 -105.35 -105.35 -105.35 -105.35\n",
      "  -105.35 -105.35 -105.35 -105.35 -105.35 -105.35 -105.35 -105.35 -105.35\n",
      "  -105.35 -105.35 -105.35 -105.35 -105.35 -105.35 -105.35 -105.35 -105.35\n",
      "  -105.35]\n",
      " [-105.35 -105.35 -105.35 -105.35 -105.35 -105.35 -105.35 -105.35 -105.35\n",
      "  -105.35 -105.35 -105.35 -105.35 -105.35 -105.35 -105.35 -105.35 -105.35\n",
      "  -105.35 -105.35 -105.35 -105.35 -105.35 -105.35 -105.35 -105.35 -105.35\n",
      "  -105.35]\n",
      " [-105.35 -105.35 -105.35 -105.35 -105.35 -105.35 -105.35 -105.35 -105.35\n",
      "  -105.35 -105.35 -105.35 -105.35 -105.35 -105.35 -105.35 -105.35 -105.35\n",
      "  -105.35 -105.35 -105.35 -105.35 -105.35 -105.35 -105.35 -105.35 -105.35\n",
      "  -105.35]\n",
      " [-105.35 -105.35 -105.35 -105.35 -105.35 -105.35 -105.35 -105.35 -105.35\n",
      "  -105.35 -105.35 -105.35 -102.35  -87.35  -87.35  -87.35   20.65   30.65\n",
      "    69.65  -79.35   60.65  149.65  141.65   21.65 -105.35 -105.35 -105.35\n",
      "  -105.35]\n",
      " [-105.35 -105.35 -105.35 -105.35 -105.35 -105.35 -105.35 -105.35  -75.35\n",
      "   -69.35  -11.35   48.65   64.65  147.65  147.65  147.65  147.65  147.65\n",
      "   119.65   66.65  147.65  136.65   89.65  -41.35 -105.35 -105.35 -105.35\n",
      "  -105.35]\n",
      " [-105.35 -105.35 -105.35 -105.35 -105.35 -105.35 -105.35  -56.35  132.65\n",
      "   147.65  147.65  147.65  147.65  147.65  147.65  147.65  147.65  145.65\n",
      "   -12.35  -23.35  -23.35  -49.35  -66.35 -105.35 -105.35 -105.35 -105.35\n",
      "  -105.35]\n",
      " [-105.35 -105.35 -105.35 -105.35 -105.35 -105.35 -105.35  -87.35  113.65\n",
      "   147.65  147.65  147.65  147.65  147.65   92.65   76.65  141.65  135.65\n",
      "  -105.35 -105.35 -105.35 -105.35 -105.35 -105.35 -105.35 -105.35 -105.35\n",
      "  -105.35]\n",
      " [-105.35 -105.35 -105.35 -105.35 -105.35 -105.35 -105.35 -105.35  -25.35\n",
      "    50.65    1.65  147.65  147.65   99.65  -94.35 -105.35  -62.35   48.65\n",
      "  -105.35 -105.35 -105.35 -105.35 -105.35 -105.35 -105.35 -105.35 -105.35\n",
      "  -105.35]\n",
      " [-105.35 -105.35 -105.35 -105.35 -105.35 -105.35 -105.35 -105.35 -105.35\n",
      "   -91.35 -104.35   48.65  147.65  -15.35 -105.35 -105.35 -105.35 -105.35\n",
      "  -105.35 -105.35 -105.35 -105.35 -105.35 -105.35 -105.35 -105.35 -105.35\n",
      "  -105.35]\n",
      " [-105.35 -105.35 -105.35 -105.35 -105.35 -105.35 -105.35 -105.35 -105.35\n",
      "  -105.35 -105.35   33.65  147.65   84.65 -103.35 -105.35 -105.35 -105.35\n",
      "  -105.35 -105.35 -105.35 -105.35 -105.35 -105.35 -105.35 -105.35 -105.35\n",
      "  -105.35]\n",
      " [-105.35 -105.35 -105.35 -105.35 -105.35 -105.35 -105.35 -105.35 -105.35\n",
      "  -105.35 -105.35  -94.35   84.65  147.65  -35.35 -105.35 -105.35 -105.35\n",
      "  -105.35 -105.35 -105.35 -105.35 -105.35 -105.35 -105.35 -105.35 -105.35\n",
      "  -105.35]\n",
      " [-105.35 -105.35 -105.35 -105.35 -105.35 -105.35 -105.35 -105.35 -105.35\n",
      "  -105.35 -105.35 -105.35  -70.35  135.65  119.65   54.65    2.65 -104.35\n",
      "  -105.35 -105.35 -105.35 -105.35 -105.35 -105.35 -105.35 -105.35 -105.35\n",
      "  -105.35]\n",
      " [-105.35 -105.35 -105.35 -105.35 -105.35 -105.35 -105.35 -105.35 -105.35\n",
      "  -105.35 -105.35 -105.35 -105.35  -24.35  134.65  147.65  147.65   13.65\n",
      "   -80.35 -105.35 -105.35 -105.35 -105.35 -105.35 -105.35 -105.35 -105.35\n",
      "  -105.35]\n",
      " [-105.35 -105.35 -105.35 -105.35 -105.35 -105.35 -105.35 -105.35 -105.35\n",
      "  -105.35 -105.35 -105.35 -105.35 -105.35  -60.35   80.65  147.65  147.65\n",
      "    44.65  -78.35 -105.35 -105.35 -105.35 -105.35 -105.35 -105.35 -105.35\n",
      "  -105.35]\n",
      " [-105.35 -105.35 -105.35 -105.35 -105.35 -105.35 -105.35 -105.35 -105.35\n",
      "  -105.35 -105.35 -105.35 -105.35 -105.35 -105.35  -89.35  -12.35  146.65\n",
      "   147.65   81.65 -105.35 -105.35 -105.35 -105.35 -105.35 -105.35 -105.35\n",
      "  -105.35]\n",
      " [-105.35 -105.35 -105.35 -105.35 -105.35 -105.35 -105.35 -105.35 -105.35\n",
      "  -105.35 -105.35 -105.35 -105.35 -105.35 -105.35 -105.35 -105.35  143.65\n",
      "   147.65  143.65  -41.35 -105.35 -105.35 -105.35 -105.35 -105.35 -105.35\n",
      "  -105.35]\n",
      " [-105.35 -105.35 -105.35 -105.35 -105.35 -105.35 -105.35 -105.35 -105.35\n",
      "  -105.35 -105.35 -105.35 -105.35 -105.35  -59.35   24.65   77.65  147.65\n",
      "   147.65  101.65 -103.35 -105.35 -105.35 -105.35 -105.35 -105.35 -105.35\n",
      "  -105.35]\n",
      " [-105.35 -105.35 -105.35 -105.35 -105.35 -105.35 -105.35 -105.35 -105.35\n",
      "  -105.35 -105.35 -105.35  -66.35   42.65  123.65  147.65  147.65  147.65\n",
      "   144.65   76.65 -105.35 -105.35 -105.35 -105.35 -105.35 -105.35 -105.35\n",
      "  -105.35]\n",
      " [-105.35 -105.35 -105.35 -105.35 -105.35 -105.35 -105.35 -105.35 -105.35\n",
      "  -105.35  -81.35    8.65  115.65  147.65  147.65  147.65  147.65   95.65\n",
      "   -27.35 -105.35 -105.35 -105.35 -105.35 -105.35 -105.35 -105.35 -105.35\n",
      "  -105.35]\n",
      " [-105.35 -105.35 -105.35 -105.35 -105.35 -105.35 -105.35 -105.35  -82.35\n",
      "   -39.35  107.65  147.65  147.65  147.65  147.65   92.65  -24.35 -103.35\n",
      "  -105.35 -105.35 -105.35 -105.35 -105.35 -105.35 -105.35 -105.35 -105.35\n",
      "  -105.35]\n",
      " [-105.35 -105.35 -105.35 -105.35 -105.35 -105.35  -87.35   65.65  113.65\n",
      "   147.65  147.65  147.65  147.65   89.65  -25.35  -96.35 -105.35 -105.35\n",
      "  -105.35 -105.35 -105.35 -105.35 -105.35 -105.35 -105.35 -105.35 -105.35\n",
      "  -105.35]\n",
      " [-105.35 -105.35 -105.35 -105.35  -50.35   66.65  120.65  147.65  147.65\n",
      "   147.65  147.65  138.65   27.65  -94.35 -105.35 -105.35 -105.35 -105.35\n",
      "  -105.35 -105.35 -105.35 -105.35 -105.35 -105.35 -105.35 -105.35 -105.35\n",
      "  -105.35]\n",
      " [-105.35 -105.35 -105.35 -105.35   30.65  147.65  147.65  147.65  106.65\n",
      "    29.65   26.65  -89.35 -105.35 -105.35 -105.35 -105.35 -105.35 -105.35\n",
      "  -105.35 -105.35 -105.35 -105.35 -105.35 -105.35 -105.35 -105.35 -105.35\n",
      "  -105.35]\n",
      " [-105.35 -105.35 -105.35 -105.35 -105.35 -105.35 -105.35 -105.35 -105.35\n",
      "  -105.35 -105.35 -105.35 -105.35 -105.35 -105.35 -105.35 -105.35 -105.35\n",
      "  -105.35 -105.35 -105.35 -105.35 -105.35 -105.35 -105.35 -105.35 -105.35\n",
      "  -105.35]\n",
      " [-105.35 -105.35 -105.35 -105.35 -105.35 -105.35 -105.35 -105.35 -105.35\n",
      "  -105.35 -105.35 -105.35 -105.35 -105.35 -105.35 -105.35 -105.35 -105.35\n",
      "  -105.35 -105.35 -105.35 -105.35 -105.35 -105.35 -105.35 -105.35 -105.35\n",
      "  -105.35]\n",
      " [-105.35 -105.35 -105.35 -105.35 -105.35 -105.35 -105.35 -105.35 -105.35\n",
      "  -105.35 -105.35 -105.35 -105.35 -105.35 -105.35 -105.35 -105.35 -105.35\n",
      "  -105.35 -105.35 -105.35 -105.35 -105.35 -105.35 -105.35 -105.35 -105.35\n",
      "  -105.35]]\n"
     ]
    }
   ],
   "source": [
    "index = 0\n",
    "image = X_train[index].reshape(28,28)\n",
    "image = image.astype(np.float) # float型に変換\n",
    "image -= 105.35 # 意図的に負の小数値を作り出してみる\n",
    "plt.imshow(image, 'gray')\n",
    "plt.title('label : {}'.format(y_train[index]))\n",
    "plt.show()\n",
    "print(image) # 値を確認"
   ]
  },
  {
   "cell_type": "markdown",
   "metadata": {},
   "source": [
    "これは、自動的に値を0〜255の整数に変換して処理するように作られているからである。  \n",
    "uint8型であっても最小値が0、最大値が255でない場合には色合いがおかしくなる。  \n",
    "それを防ぐためには次のように引数を入れる。  \n",
    "画像関係のライブラリではこの自動的なスケーリングが思わぬ結果を生むことがあるので、新しいメソッドを使うときには確認しておく。"
   ]
  },
  {
   "cell_type": "code",
   "execution_count": 19,
   "metadata": {},
   "outputs": [
    {
     "data": {
      "text/plain": [
       "<matplotlib.image.AxesImage at 0xb387933c8>"
      ]
     },
     "execution_count": 19,
     "metadata": {},
     "output_type": "execute_result"
    },
    {
     "data": {
      "image/png": "[encoded data removed]",
      "text/plain": [
       "<Figure size 432x288 with 1 Axes>"
      ]
     },
     "metadata": {
      "needs_background": "light"
     },
     "output_type": "display_data"
    }
   ],
   "source": [
    "plt.imshow(image, 'gray', vmin = 0, vmax = 255)"
   ]
  },
  {
   "cell_type": "markdown",
   "metadata": {},
   "source": [
    "**前処理**  \n",
    "画像は0から255のuint8型で表されるが、機械学習をする上では0から1のfloat型で扱うことになる。  \n",
    "色は理想的には連続値で、それを特徴量とするからであり、以下のコードで変換可能。"
   ]
  },
  {
   "cell_type": "code",
   "execution_count": 20,
   "metadata": {},
   "outputs": [
    {
     "name": "stdout",
     "output_type": "stream",
     "text": [
      "1.0\n",
      "0.0\n"
     ]
    }
   ],
   "source": [
    "X_train = X_train.astype(np.float)\n",
    "X_test = X_test.astype(np.float)\n",
    "X_train /= 255\n",
    "X_test /= 255\n",
    "print(X_train.max()) # 1.0\n",
    "print(X_train.min()) # 0.0"
   ]
  },
  {
   "cell_type": "markdown",
   "metadata": {},
   "source": [
    "また、正解ラベルは0から9の整数だが、ニューラルネットワークで多クラス分類を行う際にはone-hot表現に変換する。  \n",
    "このone-hot表現による値はそのラベルである確率を示していることになるため、float型で扱う。"
   ]
  },
  {
   "cell_type": "code",
   "execution_count": 10,
   "metadata": {},
   "outputs": [
    {
     "name": "stdout",
     "output_type": "stream",
     "text": [
      "(60000,)\n",
      "(60000, 10)\n",
      "float64\n"
     ]
    }
   ],
   "source": [
    "enc = OneHotEncoder(handle_unknown='ignore', sparse=False)\n",
    "y_train_one_hot = enc.fit_transform(y_train[:, np.newaxis])\n",
    "y_test_one_hot = enc.transform(y_test[:, np.newaxis])\n",
    "print(y_train.shape) # (60000,)\n",
    "print(y_train_one_hot.shape) # (60000, 10)\n",
    "print(y_train_one_hot.dtype) # float64"
   ]
  },
  {
   "cell_type": "markdown",
   "metadata": {},
   "source": [
    "さらに、学習用データ6万枚の内2割を検証用データとして分割する。学習用データが48000枚、検証用データが12000枚となる。"
   ]
  },
  {
   "cell_type": "code",
   "execution_count": 21,
   "metadata": {},
   "outputs": [
    {
     "name": "stdout",
     "output_type": "stream",
     "text": [
      "X_train.shape:  (48000, 784)\n",
      "X_val.shape:  (12000, 784)\n"
     ]
    }
   ],
   "source": [
    "X_train, X_val, y_train, y_val = train_test_split(X_train, y_train, test_size=0.2)\n",
    "print(\"X_train.shape: \", X_train.shape) # (48000, 784)\n",
    "print(\"X_val.shape: \", X_val.shape) # (12000, 784)"
   ]
  },
  {
   "cell_type": "markdown",
   "metadata": {},
   "source": [
    "## 1. ニューラルネットワーク分類器のクラスを作成\n",
    "ニューラルネットワーク分類器のクラスScratchSimpleNeuralNetrowkClassifierを作成する。  \n",
    "基本的な構成は機械学習編の線形回帰やロジスティック回帰などと同様なものとなる。"
   ]
  },
  {
   "cell_type": "markdown",
   "metadata": {},
   "source": [
    "**ミニバッチ処理**  \n",
    "これまでの機械学習スクラッチでは、全てのサンプルを一度に計算していた。  \n",
    "しかし、ニューラルネットワークではデータを分割して入力する確率的勾配降下法が一般的。  \n",
    "分割した際のひとかたまりをミニバッチ、そのサンプル数をバッチサイズと呼ぶ。\n",
    "\n",
    "今回はバッチサイズを10とする。今回使う学習用データは48000枚なので、4800回の更新を繰り返すことになる。  \n",
    "ニューラルネットワークではこれを4800回イテレーション（iteration）すると呼ぶ。  \n",
    "学習データを一度全て見ると1回のエポック（epoch）が終わったことになる。  \n",
    "このエポックを複数回繰り返し、学習が完了する。  "
   ]
  },
  {
   "cell_type": "markdown",
   "metadata": {},
   "source": [
    "**フォワードプロパゲーション**  \n",
    "三層のニューラルネットワークのフォワードプロパゲーションを作成する。  \n",
    "以下の説明ではノード数は1層目は400、2層目は200とするが、変更しても構わない。\n",
    "\n",
    "各層の数式を以下に示す。今回はそれぞれの記号が表す配列が、実装上どのようなndarrayのshapeになるかを併記してある。\n",
    "\n",
    "batch_size = 10 # バッチサイズ  \n",
    "n_features = 784 # 特徴量の数  \n",
    "n_nodes1 = 400 # 1層目のノード数  \n",
    "n_nodes2 = 200 # 2層目のノード数  \n",
    "n_output = 10 # 出力のクラス数（3層目のノード数）  \n",
    "\n",
    "「1層目」\n",
    "$$A_1=X \\cdot W_1+B_1$$\n",
    "\n",
    "- $X$ : 特徴量ベクトル (batch_size, n_features)\n",
    "- $W_1$ : 1層目の重み (n_features, n_nodes1)\n",
    "- $B_1$ : 1層目のバイアス (n_nodes1,)\n",
    "- $A_1$ : 出力 (batch_size, n_nodes1)\n",
    "\n",
    "「1層目の活性化関数」\n",
    "$$Z_1=f(A_1)$$\n",
    "- $f()$ : 活性化関数\n",
    "- $Z_1$ : 出力 (batch_size, n_nodes1)\n",
    "\n",
    "「2層目」\n",
    "$$A_2=Z_1 \\cdot W_2+B_2$$\n",
    "- $W_2$ : 2層目の重み (n_nodes1, n_nodes2)\n",
    "- $B_2$ : 2層目のバイアス (n_nodes2,)\n",
    "- $A_2$ : 出力 (batch_size, n_nodes2)\n",
    "\n",
    "「2層目の活性化関数」\n",
    "$$Z_2=f(A_2)$$\n",
    "- $f()$ : 活性化関数\n",
    "- $Z_2$ :  出力 (batch_size, n_nodes2)\n",
    "\n",
    "「3層目（出力層）」\n",
    "$$A_3=Z_2 \\cdot W3+B_3$$\n",
    "- $W_3$ : 3層目の重み (n_nodes2, n_output)\n",
    "- $B_3$ : 3層目のバイアス (n_output,)\n",
    "- $A_3$ : 出力 (batch_size, n_output)\n",
    "\n",
    "「3層目の活性化関数」\n",
    "$$Z_3=softmax(A_3)$$\n",
    "- $softmax()$ : ソフトマックス関数\n",
    "- $Z_3$ : 出力 (batch_size, n_output)\n",
    "\n",
    "$Z_3$は各ラベル（0〜9）に対する確率の配列である。\n",
    "\n",
    "**重みの初期値**  \n",
    "ニューラルネットワークにおいては重みの初期値は重要な要素となる。  \n",
    "様々な方法が提案されているが、今回はガウス分布による単純な初期化を行う。バイアスに関しても同様。  \n",
    "発展的な重みの初期化方法については次のSprintで扱う。"
   ]
  },
  {
   "cell_type": "markdown",
   "metadata": {},
   "source": [
    "**活性化関数（フォワードプロバゲーション）**  \n",
    "活性化関数を作成し、フォワードプロパゲーションの中で使用する。  \n",
    "切り替えられるように実装することを推奨するが、片方でも構わない。\n",
    "\n",
    "「シグモイド関数」  \n",
    "$$f(Z) = sigmoid(A) = \\frac{1}{1+exp(-A)}$$\n",
    "指数関数$exp(−A)$の計算はnp.expを使用する。\n",
    "\n",
    "「ハイパボリックタンジェント関数」  \n",
    "次の数式で表されるが、np.tanhひとつで実現できる。\n",
    "$$f(Z) = tanh(A) = \\frac{exp(A) - exp(-A)}{exp(A) + exp(-A)}$$\n",
    "＊現在ではこれらの代わりにReLUと呼ばれる活性化関数が一般的。次のSprintで扱う。  \n",
    "\n",
    "**ソフトマックス関数**  \n",
    "ソフトマックス関数を作成し、フォワードプロパゲーションの中で使用する。  \n",
    "これも活性化関数の一種だが、多クラス分類の出力層で使われる特性上、区別して扱われることが多い。\n",
    "$$Z_{3\\_k} = \\frac{exp(A_{3\\_k})}{\\sum_{i=1}^{n}exp(A_{3\\_i})}$$\n",
    "\n",
    "- $Z_{3_k}$ : $k$番目のクラスの確率ベクトル (batch_size,)\n",
    "- $A_{3_k}$ : $k$番目のクラスにあたる前の層からのベクトル (batch_size,)\n",
    "- $n$ : クラスの数、n_output。今回のMNISTでは10。\n",
    "\n",
    "分母は全てのクラスに相当する値を指数関数に通した上で足し合わせたもの。  \n",
    "その中で、分子に$k$番目のクラスを持ってくることで、$k$番目のクラスである確率が求まる。  \n",
    "これを10クラス分計算し、合わせたものが$Z_3$。  \n",
    "\n",
    "**交差エントロピー誤差**  \n",
    "目的関数（損失関数）を作成する。  \n",
    "多クラス分類の目的関数である交差エントロピー誤差$L$は次の数式。\n",
    "$$L = - \\sum_{i}^{n}Y_i log(Z_{3\\_i})$$\n",
    "$Y_i$ : $i$番目のクラスの正解ラベル（one-hot表現で0か1）\n",
    "\n",
    "**バックプロパゲーション**  \n",
    "三層のニューラルネットワークのバックプロパゲーションを作成する。確率的勾配降下法を行う部分。\n",
    "\n",
    "まず、$i$層目の重みとバイアスの更新式である。  \n",
    "$W_i$と$B_i$に対し、更新後の$W_i^{\\prime}$と$B_i^{\\prime}$は次の数式で求められる。\n",
    "$$W_i^{\\prime} = W_i - \\alpha E(\\frac{\\partial L}{\\partial W_i})$$\n",
    "$$B_i^{\\prime} = B_i - \\alpha E(\\frac{\\partial L}{\\partial B_i})$$\n",
    "$\\alpha$ : 学習率（層ごとに変えることも可能だが、基本的には全て同じとする）  \n",
    "$\\frac{\\partial L}{\\partial W_i}$ : $W_i$に関する損失$L$の勾配  \n",
    "$\\frac{\\partial L}{\\partial B_i}$ : $B_i$に関する損失$L$の勾配  \n",
    "$E()$ : ミニバッチ方向にベクトルの平均を計算\n",
    "\n",
    "この更新方法はSprint3線形回帰やsprint4ロジスティック回帰における最急降下法と同様。  \n",
    "より効果的な更新方法が知られており、それは次のSprintで扱う。\n",
    "勾配$\\frac{\\partial L}{\\partial W_i}$や$\\frac{\\partial L}{\\partial B_i}$を求めるために、バックプロパゲーションを行う。  \n",
    "ハイパボリックタンジェント関数を使用した例を載せた。シグモイド関数の場合の数式はその後ろにある。\n",
    "\n",
    "「3層目」  \n",
    "$$\\frac{\\partial L}{\\partial A_3} = Z_3 - Y$$\n",
    "$$\\frac{\\partial L}{\\partial B_3} = \\frac{\\partial L}{\\partial A_3}$$\n",
    "$$\\frac{\\partial L}{\\partial W_3} = Z_2^T \\cdot \\frac{\\partial L}{\\partial A_3}$$\n",
    "$$\\frac{\\partial L}{\\partial Z_2} = \\frac{\\partial L}{\\partial A_3} \\cdot W_3^T$$\n",
    "$\\frac{\\partial L}{\\partial A_3}$ : $A_3$に関する損失$L$の勾配 (batch_size, n_output)  \n",
    "$\\frac{\\partial L}{\\partial B_3}$ : $B_3$に関する損失$L$の勾配 (batch_size, n_output)  \n",
    "$\\frac{\\partial L}{\\partial W_3}$ : $W_3$に関する損失$L$の勾配 (n_nodes2, n_output)  \n",
    "$\\frac{\\partial L}{\\partial Z_2}$ : $Z_2$に関する損失$L$の勾配 (batch_size, n_nodes2)  \n",
    "$Z_3$ : フォワードプロパゲーションの出力 (batch_size, n_output)  \n",
    "$Y$ : 正解ラベルのベクトル (batch_size, n_output)  \n",
    "$Z^T_2$ : 転置した2層目の出力 (n_nodes2, batch_size)  \n",
    "$W^T_3$ : 転置した3層目の重み (n_output, n_nodes2)\n",
    "\n",
    "「2層目」  \n",
    "$$\\frac{\\partial L}{\\partial A_2} = \\frac{\\partial L}{\\partial Z_2} * \\{1-tanh^2(A_2)\\}$$\n",
    "$$\\frac{\\partial L}{\\partial B_2} = \\frac{\\partial L}{\\partial A_2}$$\n",
    "$$\\frac{\\partial L}{\\partial W_2} = Z_1^T \\cdot \\frac{\\partial L}{\\partial A_2}$$\n",
    "$$\\frac{\\partial L}{\\partial Z_1} = \\frac{\\partial L}{\\partial A_2} \\cdot W_2^T$$\n",
    "$\\frac{\\partial L}{\\partial A_2}$ : $A_2$に関する損失$L$の勾配 (batch_size, n_nodes2)  \n",
    "$\\frac{\\partial L}{\\partial B_2}$ : $B_2$に関する損失$L$の勾配 (batch_size, n_nodes2)  \n",
    "$\\frac{\\partial L}{\\partial W_2}$ : $W_2$に関する損失$L$の勾配 (n_nodes1, n_nodes2)  \n",
    "$\\frac{\\partial L}{\\partial Z_1}$ : $Z_1$に関する損失$L$の勾配 (batch_size, n_nodes1)\n",
    "\n",
    "「1層目」  \n",
    "$$\\frac{\\partial L}{\\partial A_1} = \\frac{\\partial L}{\\partial Z_1} * \\{1-tanh^2(A_1)\\}$$\n",
    "$$\\frac{\\partial L}{\\partial B_1} = \\frac{\\partial L}{\\partial A_1}$$\n",
    "$$\\frac{\\partial L}{\\partial W_1} = X^T \\cdot \\frac{\\partial L}{\\partial A_1}$$\n",
    "$\\frac{\\partial L}{\\partial A_1}$ : $A_1$に関する損失$L$の勾配 (batch_size, n_nodes1)  \n",
    "$\\frac{\\partial L}{\\partial B_1}$ : $B_1$に関する損失$L$の勾配 (batch_size, n_nodes1)  \n",
    "$\\frac{\\partial L}{\\partial W_1}$ : $W_1$に関する損失$L$の勾配 (n_features, n_nodes1)  \n",
    "$A_1$ : フォワードプロパゲーションの1層目の出力 (batch_size, n_nodes1)  \n",
    "$X^T$ : 転置した特徴量ベクトル (n_feature, batch_size)  \n",
    "$W^T_1$ : 転置した1層目の重み (n_nodes1, n_features)  \n",
    "\n",
    "**補足**  \n",
    "活性化関数にシグモイド関数を使用した場合は、次のようになる。\n",
    "$$\\frac{\\partial L}{\\partial A_2} = \\frac{\\partial L}{\\partial Z_2} *  \\{1-sigmoid(A_2)\\}sigmoid(A_2)$$\n",
    "$$\\frac{\\partial L}{\\partial A_1} = \\frac{\\partial L}{\\partial Z_1} *  \\{1-sigmoid(A_1)\\}sigmoid(A_1)$$\n",
    "\n",
    "**推定**  \n",
    "推定を行うメソッドを作成する。  \n",
    "フォワードプロパゲーションによって出力された10個の確率の中で、最も高いものはどれかを判定する。"
   ]
  },
  {
   "cell_type": "markdown",
   "metadata": {},
   "source": [
    "## 2. 学習曲線のプロット\n",
    "学習曲線をプロットする。  \n",
    "ニューラルネットワークは過学習が発生しやすいため、学習曲線の確認が重要。  \n",
    "trainデータとvalデータに対するエポックごとの損失（交差エントロピー誤差）を記録できるようにする必要がある。"
   ]
  },
  {
   "cell_type": "markdown",
   "metadata": {},
   "source": [
    "## 3. 指標値の算出\n",
    "分類に関する指標値で精度を確認する。"
   ]
  },
  {
   "cell_type": "code",
   "execution_count": 98,
   "metadata": {},
   "outputs": [],
   "source": [
    "%matplotlib inline\n",
    "import matplotlib.pyplot as plt\n",
    "import numpy as np\n",
    "import pyprind\n",
    "from sklearn.preprocessing import OneHotEncoder\n",
    "\n",
    "class ScratchSimpleNeuralNetworkClassifier():\n",
    "    \"\"\"\n",
    "    シンプルな3層(入力層も含めると4層)ニューラルネットワーク分類器\n",
    "\n",
    "    Parameters\n",
    "    ----------\n",
    "    n_nodes1 : int (default : 400)\n",
    "        隠れ層1のノード数\n",
    "    n_nodes2 : int (default : 200)\n",
    "        隠れ層2のノード数\n",
    "    n_epochs : int (default : 10)\n",
    "        エポック回数\n",
    "    alpha : float (default : 0.01)\n",
    "        学習率\n",
    "    batch_size : int (default : 10)\n",
    "        ミニバッチサイズ\n",
    "    sigma : float (default : 0.01)\n",
    "        各層の重み係数の初期値の標準偏差\n",
    "    activation : str (default : \"tanh\")\n",
    "        活性化関数 (\"sigmoid\"か\"tanh\"を選択)\n",
    "    random_seed : int (default : None)\n",
    "        各層の重み係数の初期化および各エポック毎のデータシャッフル用の擬似乱数シード\n",
    "    verbose : bool (default : True)\n",
    "        学習過程を出力しない場合はFalseを設定\n",
    "\n",
    "    Attributes\n",
    "    ----------\n",
    "    self.train_cost_ : list\n",
    "        1エポック毎の訓練データのコスト関数値（交差エントロピー誤差）\n",
    "    self.val_cost_ : list\n",
    "        1エポック毎の検証データのコスト関数値（交差エントロピー誤差）\n",
    "    self.train_accuracy_ : list\n",
    "        1エポック毎の訓練データの正解率\n",
    "    self.val_accuracy_ : list\n",
    "        1エポック毎の検証データの正解率\n",
    "    \"\"\"\n",
    "\n",
    "    def __init__(self, n_nodes1=400, n_nodes2=200, n_epochs=10, alpha=0.01, \n",
    "                 batch_size=10, sigma=0.01, activation=\"tanh\", random_seed=None, verbose=True):\n",
    "        self.n_nodes1 = n_nodes1\n",
    "        self.n_nodes2 = n_nodes2\n",
    "        self.n_epochs = n_epochs\n",
    "        self.alpha = alpha\n",
    "        self.batch_size = batch_size\n",
    "        self.sigma = sigma\n",
    "        self.activation = activation\n",
    "        self.random_seed = random_seed # バッチ学習用\n",
    "        self.random = np.random.RandomState(random_seed) # 重み初期化、各epoch毎のデータシャッフル用\n",
    "        self.verbose = verbose\n",
    "        \n",
    "    def fit(self, X_train, y_train, X_val=None, y_val=None):\n",
    "        \"\"\"\n",
    "        ニューラルネットワーク分類器を学習する。\n",
    "\n",
    "        Parameters\n",
    "        ----------\n",
    "        X_train : 次の形のndarray, shape (n_samples, n_features)\n",
    "            学習用データの特徴量\n",
    "        y_train : 次の形のndarray, shape (n_samples, )\n",
    "            学習用データの正解値\n",
    "        X_val : 次の形のndarray, shape (n_samples, n_features)\n",
    "            検証用データの特徴量\n",
    "        y_val : 次の形のndarray, shape (n_samples, )\n",
    "            検証用データの正解値\n",
    "        \"\"\"\n",
    "        # 出力層のノード数、データの特徴量数\n",
    "        n_out = np.unique(y_train).shape[0]\n",
    "        n_features = X_train.shape[1]\n",
    "        \n",
    "        # 各層の重み係数の初期値\n",
    "        self.b_n1 = np.zeros(self.n_nodes1)\n",
    "        self.w_n1 = self.sigma * self.random.randn(n_features, self.n_nodes1)\n",
    "        \n",
    "        self.b_n2 = np.zeros(self.n_nodes2)\n",
    "        self.w_n2 = self.sigma * self.random.randn(self.n_nodes1, self.n_nodes2)\n",
    "        \n",
    "        self.b_out = np.zeros(n_out)\n",
    "        self.w_out = self.sigma * self.random.randn(self.n_nodes2, n_out)\n",
    "        \n",
    "        # コスト関数値、正解率の空リストを生成\n",
    "        self.train_cost_ = []\n",
    "        self.val_cost_ = []\n",
    "        self.train_accuracy_ = []\n",
    "        self.val_accuracy_ = []\n",
    "        \n",
    "        # yラベルをOneHotEncoding\n",
    "        enc = OneHotEncoder(handle_unknown='ignore', sparse=False)\n",
    "        y_train_onehot = enc.fit_transform(y_train[:, np.newaxis])\n",
    "        y_val_onehot = enc.transform(y_val[:, np.newaxis])\n",
    "        \n",
    "        # 学習の進捗バーを設定\n",
    "        pbar = pyprind.ProgBar(self.n_epochs * (np.ceil(X_train.shape[0] / self.batch_size).astype(np.int)))\n",
    "        \n",
    "        # エポック毎に学習を繰り返す\n",
    "        for i in range(self.n_epochs):\n",
    "            get_mini_batch = GetMiniBatch(X_train, y_train_onehot, \n",
    "                                          batch_size=self.batch_size, seed=self.random_seed)\n",
    "            \n",
    "            # 1エポック毎にバッチデータ生成して学習\n",
    "            for X_train_batch, y_train_batch in get_mini_batch:\n",
    "                \n",
    "                # Forward propagation\n",
    "                z_n1, a_n1, z_n2, a_n2, z_out, a_out = self._forward(X_train_batch)\n",
    "                \n",
    "                # Back propagation(出力層の誤差ベクトル(grad_z_out)から始まる)\n",
    "                # 出力層の勾配算出\n",
    "                grad_z_out  = a_out - y_train_batch # shape: (n_samples, n_out)\n",
    "                grad_b_out = grad_z_out.sum(axis=0) # shape: (n_out,)\n",
    "                grad_w_out = np.dot(a_n2.T, grad_z_out) # shape: (n_nodes2, n_out)\n",
    "                # 出力層の重みの更新\n",
    "                self.w_out -= self.alpha * grad_w_out\n",
    "                self.b_out -= self.alpha * grad_b_out\n",
    "                \n",
    "                # 隠れ層2の勾配算出\n",
    "                grad_a_n2 = np.dot(grad_z_out, self.w_out.T) # shape: (n_samples, n_nodes2)\n",
    "                grad_z_n2  = grad_a_n2 * self._derivative_func(z_n2) # shape: (n_samples, n_nodes2)\n",
    "                grad_b_n2 = grad_z_n2.sum(axis=0) # shape: (n_nodes2,)\n",
    "                grad_w_n2 = np.dot(a_n1.T, grad_z_n2) # shape: (n_nodes1, n_nodes2)\n",
    "                # 隠れ層2の重みの更新\n",
    "                self.w_n2 -= self.alpha * grad_w_n2\n",
    "                self.b_n2 -= self.alpha * grad_b_n2\n",
    "                \n",
    "                # 隠れ層1の勾配算出\n",
    "                grad_a_n1 = np.dot(grad_z_n2, self.w_n2.T) # shape: (n_samples, n_nodes1)\n",
    "                grad_z_n1  = grad_a_n1 * self._derivative_func(z_n1) # shape: (n_samples, n_nodes1)\n",
    "                grad_b_n1 = grad_z_n1.sum(axis=0) # shape: (n_nodes1,)\n",
    "                grad_w_n1 = np.dot(X_train_batch.T, grad_z_n1) # shape: (n_features, n_nodes1)\n",
    "                # 隠れ層1の重みの更新\n",
    "                self.w_n1 -= self.alpha * grad_w_n1\n",
    "                self.b_n1 -= self.alpha * grad_b_n1\n",
    "                \n",
    "                # 進捗バーを更新\n",
    "                pbar.update()\n",
    "            \n",
    "            # 1エポック毎に訓練データのコスト関数値、正解率を記録\n",
    "            z_n1, a_n1, z_n2, a_n2, z_out, a_out = self._forward(X_train)\n",
    "            # コスト関数値\n",
    "            value1 = y_train_onehot * (np.log(a_out + 1e-05)) # ゼロ除算対策\n",
    "            value2 = (1. - y_train_onehot) * np.log(1. - a_out + 1e-05) # ゼロ除算対策\n",
    "            train_cost = -np.sum(value1 + value2)\n",
    "            self.train_cost_.append(train_cost)\n",
    "            # 正解率\n",
    "            y_train_pred = self.predict(X_train)\n",
    "            train_accuracy = (np.sum(y_train == y_train_pred).astype(np.float)) / y_train.shape[0]\n",
    "            self.train_accuracy_.append(train_accuracy)\n",
    "            \n",
    "            # 検証データがあれば同様に記録\n",
    "            if X_val is not None and y_val is not None:\n",
    "                z_n1, a_n1, z_n2, a_n2, z_out, a_out = self._forward(X_val)\n",
    "                # コスト関数値\n",
    "                value1 = y_val_onehot * (np.log(a_out + 1e-05)) # ゼロ除算対策\n",
    "                value2 = (1. - y_val_onehot) * np.log(1. - a_out + 1e-05) # ゼロ除算対策\n",
    "                val_cost = -np.sum(value1 + value2)\n",
    "                self.val_cost_.append(val_cost)\n",
    "                # 正解率\n",
    "                y_val_pred = self.predict(X_val)\n",
    "                val_accuracy = (np.sum(y_val == y_val_pred).astype(np.float)) / y_val.shape[0]\n",
    "                self.val_accuracy_.append(val_accuracy)\n",
    "        \n",
    "        #verboseをTrueにした際は学習過程などを出力する\n",
    "        if self.verbose:\n",
    "            fig, ax = plt.subplots(1, 2, figsize=(20,9))\n",
    "            ax[0].plot(np.arange(1, len(self.train_cost_)+1), self.train_cost_, \n",
    "                       linewidth=2, linestyle=\"-\", marker=\"o\", color=\"steelblue\", label=\"Train\")\n",
    "            ax[0].set_xlabel(\"epoch numbers\")\n",
    "            ax[0].set_ylabel(\"cost value\")\n",
    "            ax[1].plot(np.arange(1, len(self.train_accuracy_)+1), self.train_accuracy_, \n",
    "                       linewidth=2, linestyle=\"-\", marker=\"o\", color=\"steelblue\", label=\"Train\")\n",
    "            ax[1].set_xlabel(\"epoch numbers\")\n",
    "            ax[1].set_ylabel(\"accuracy\")\n",
    "            # 検証データも学習したら可視化する\n",
    "            if len(self.val_cost_) > 0:\n",
    "                ax[0].plot(np.arange(1, len(self.val_cost_)+1), self.val_cost_, \n",
    "                           linewidth=2, linestyle=\"--\", marker=\"o\", color=\"orangered\", label=\"Validation\")\n",
    "                ax[1].plot(np.arange(1, len(self.val_accuracy_)+1), self.val_accuracy_, \n",
    "                       linewidth=2, linestyle=\"--\", marker=\"o\", color=\"orangered\", label=\"Validation\")\n",
    "            ax[0].legend()\n",
    "            ax[1].legend()\n",
    "            plt.show()\n",
    "\n",
    "    def predict(self, X_test):\n",
    "        \"\"\"\n",
    "        ニューラルネットワーク分類器を使い推定する。\n",
    "\n",
    "        Parameters\n",
    "        ----------\n",
    "        X_test : 次の形のndarray, shape (n_samples, n_features)\n",
    "            テスト用データの特徴量\n",
    "\n",
    "        Returns\n",
    "        -------\n",
    "        y_pred : 次の形のndarray, shape (n_samples, 1)\n",
    "            予測ラベル\n",
    "        \"\"\"\n",
    "        z_n1, a_n1, z_n2, a_n2, z_out, a_out = self._forward(X_test)\n",
    "        return np.argmax(z_out, axis=1) # 出力層への入力値で最大のノード位置を出力\n",
    "    \n",
    "    def _forward(self, X_train_batch):\n",
    "        # Forward propagation\n",
    "        z_n1 = np.dot(X_train_batch, self.w_n1) + self.b_n1 # shape: (n_samples, n_nodes1)\n",
    "        a_n1 = self._activation_func(z_n1) # shape: (n_samples, n_nodes1)\n",
    "        z_n2 = np.dot(a_n1, self.w_n2) + self.b_n2 # shape: (n_samples, n_nodes2)\n",
    "        a_n2 = self._activation_func(z_n2) # shape: (n_samples, n_nodes2)\n",
    "        z_out = np.dot(a_n2, self.w_out) + self.b_out # shape: (n_samples, n_out)\n",
    "        a_out = self._softmax_func(z_out) # shape: (n_samples, n_out)\n",
    "        return z_n1, a_n1, z_n2, a_n2, z_out, a_out\n",
    "    \n",
    "    def _softmax_func(self, z):\n",
    "        z_max = np.max(z, axis=1)\n",
    "        exp_z = np.exp(z - z_max.reshape(-1, 1)) # z_maxはオーバーフロー対策\n",
    "        sum_exp_z = np.sum(exp_z, axis=1).reshape(-1, 1)\n",
    "        return exp_z / sum_exp_z\n",
    "    \n",
    "    def _activation_func(self, z_n):\n",
    "        if self.activation == \"tanh\":\n",
    "            return np.tanh(z_n)\n",
    "        elif self.activation == \"sigmoid\":\n",
    "            return 1 / (1 + np.exp(-z_n))\n",
    "        else:\n",
    "            raise ValueError(\"Set \\\"tanh\\\" or \\\"sigmoid\\\".\") \n",
    "    \n",
    "    def _derivative_func(self, z_n):\n",
    "        if self.activation == \"tanh\":\n",
    "            return (1. - (np.tanh(z_n))**2)\n",
    "        elif self.activation == \"sigmoid\":\n",
    "            return z_n * (1. - z_n)\n",
    "        else:\n",
    "            raise ValueError(\"Set \\\"tanh\\\" or \\\"sigmoid\\\".\") \n",
    "\n",
    "\n",
    "class GetMiniBatch:\n",
    "    \"\"\"\n",
    "    ミニバッチを取得するイテレータ\n",
    "    このクラスをニューラルネットワークのクラス内でインスタンス化し、for文を使うことでミニバッチを取り出す\n",
    "\n",
    "    Parameters\n",
    "    ----------\n",
    "    X : 次の形のndarray, shape (n_samples, n_features)\n",
    "      学習データ\n",
    "    y : 次の形のndarray, shape (n_samples, 1)\n",
    "      正解値\n",
    "    batch_size : int\n",
    "      バッチサイズ\n",
    "    seed : int\n",
    "      NumPyの乱数のシード\n",
    "    \"\"\"\n",
    "    def __init__(self, X, y, batch_size=10, seed=0):\n",
    "        self.batch_size = batch_size\n",
    "        np.random.seed(seed)\n",
    "        shuffle_index = np.random.permutation(np.arange(X.shape[0]))\n",
    "        self.X = X[shuffle_index]\n",
    "        self.y = y[shuffle_index]\n",
    "        self._stop = np.ceil(X.shape[0]/self.batch_size).astype(np.int)\n",
    "\n",
    "    # 1エポック内でのイテレーション回数を返す\n",
    "    def __len__(self):\n",
    "        return self._stop\n",
    "\n",
    "    # 各イテレーションで使うバッチデータを返す\n",
    "    def __getitem__(self, item):\n",
    "        p0 = item * self.batch_size\n",
    "        p1 = item * self.batch_size + self.batch_size\n",
    "        return self.X[p0:p1], self.y[p0:p1]        \n",
    "\n",
    "    # イテレーションのカウント数をゼロにする\n",
    "    def __iter__(self):\n",
    "        self._counter = 0\n",
    "        return self\n",
    "\n",
    "    # 次のイテレーションで使うバッチデータを返す\n",
    "    def __next__(self):\n",
    "        if self._counter >= self._stop:\n",
    "            raise StopIteration()\n",
    "        p0 = self._counter * self.batch_size\n",
    "        p1 = self._counter * self.batch_size + self.batch_size\n",
    "        self._counter += 1\n",
    "        return self.X[p0:p1], self.y[p0:p1]\n"
   ]
  },
  {
   "cell_type": "markdown",
   "metadata": {},
   "source": [
    "上記のコードを実際に実行してみる。"
   ]
  },
  {
   "cell_type": "code",
   "execution_count": 99,
   "metadata": {},
   "outputs": [
    {
     "name": "stderr",
     "output_type": "stream",
     "text": [
      "0% [##############################] 100% | ETA: 00:00:00\n",
      "Total time elapsed: 00:58:23\n"
     ]
    },
    {
     "data": {
      "image/png": "[encoded data removed]",
      "text/plain": [
       "<Figure size 1440x648 with 2 Axes>"
      ]
     },
     "metadata": {
      "needs_background": "light"
     },
     "output_type": "display_data"
    }
   ],
   "source": [
    "# 実際に実行\n",
    "scratch_snnc = ScratchSimpleNeuralNetworkClassifier(\n",
    "    n_nodes1=400, n_nodes2=200, n_epochs=100, alpha=2e-4, \n",
    "    batch_size=10, sigma=0.1, activation=\"tanh\", random_seed=0, verbose=True)\n",
    "\n",
    "scratch_snnc.fit(X_train, y_train, X_val, y_val)"
   ]
  },
  {
   "cell_type": "code",
   "execution_count": 121,
   "metadata": {},
   "outputs": [
    {
     "name": "stdout",
     "output_type": "stream",
     "text": [
      "Final train accuracy: 0.9993 (47965/48000)\n",
      "Final validation accuracy: 0.9763 (11716/12000)\n"
     ]
    }
   ],
   "source": [
    "# 最終学習エポックの正解率を出力\n",
    "final_train_accuracy = scratch_snnc.train_accuracy_[-1].round(4)\n",
    "final_val_accuracy = scratch_snnc.val_accuracy_[-1].round(4)\n",
    "\n",
    "# 最終学習エポックの推測ラベルを出力\n",
    "y_train_pred = scratch_snnc.predict(X_train)\n",
    "y_val_pred = scratch_snnc.predict(X_val)\n",
    "\n",
    "# 正解数を算出\n",
    "train_accuracy_num = (y_train == y_train_pred).sum()\n",
    "val_accuracy_num = (y_val == y_val_pred).sum()\n",
    "\n",
    "# 正解率を出力\n",
    "print(\"Final train accuracy: {} ({}/{})\".format(final_train_accuracy, train_accuracy_num, len(y_train)))\n",
    "print(\"Final validation accuracy: {} ({}/{})\".format(final_val_accuracy, val_accuracy_num, len(y_val)))"
   ]
  },
  {
   "cell_type": "markdown",
   "metadata": {},
   "source": [
    "学習率alphaを2e-4から2e-3に変更して再度実行してみる。"
   ]
  },
  {
   "cell_type": "code",
   "execution_count": 116,
   "metadata": {},
   "outputs": [
    {
     "name": "stderr",
     "output_type": "stream",
     "text": [
      "0% [##############################] 100% | ETA: 00:00:00\n",
      "Total time elapsed: 00:45:16\n"
     ]
    },
    {
     "data": {
      "image/png": "[encoded data removed]",
      "text/plain": [
       "<Figure size 1440x648 with 2 Axes>"
      ]
     },
     "metadata": {
      "needs_background": "light"
     },
     "output_type": "display_data"
    }
   ],
   "source": [
    "# 実際に実行\n",
    "scratch_snnc2 = ScratchSimpleNeuralNetworkClassifier(\n",
    "    n_nodes1=400, n_nodes2=200, n_epochs=100, alpha=2e-3, \n",
    "    batch_size=10, sigma=0.1, activation=\"tanh\", random_seed=0, verbose=True)\n",
    "\n",
    "scratch_snnc2.fit(X_train, y_train, X_val, y_val)"
   ]
  },
  {
   "cell_type": "code",
   "execution_count": 120,
   "metadata": {},
   "outputs": [
    {
     "name": "stdout",
     "output_type": "stream",
     "text": [
      "Final train accuracy: 1.0 (48000/48000)\n",
      "Final validation accuracy: 0.9798 (11757/12000)\n"
     ]
    }
   ],
   "source": [
    "# 最終学習エポックの正解率を出力\n",
    "final_train_accuracy = scratch_snnc2.train_accuracy_[-1].round(4)\n",
    "final_val_accuracy = scratch_snnc2.val_accuracy_[-1].round(4)\n",
    "\n",
    "# 最終学習エポックの推測ラベルを出力\n",
    "y_train_pred = scratch_snnc2.predict(X_train)\n",
    "y_val_pred = scratch_snnc2.predict(X_val)\n",
    "\n",
    "# 正解数を算出\n",
    "train_accuracy_num = (y_train == y_train_pred).sum()\n",
    "val_accuracy_num = (y_val == y_val_pred).sum()\n",
    "\n",
    "# 正解率を出力\n",
    "print(\"Final train accuracy: {} ({}/{})\".format(final_train_accuracy, train_accuracy_num, len(y_train)))\n",
    "print(\"Final validation accuracy: {} ({}/{})\".format(final_val_accuracy, val_accuracy_num, len(y_val)))"
   ]
  },
  {
   "cell_type": "markdown",
   "metadata": {},
   "source": [
    "訓練・検証データ両方の正解率が上がった。"
   ]
  },
  {
   "cell_type": "markdown",
   "metadata": {},
   "source": [
    "エポック数を重ねる毎にコスト値（エントロピー誤差）が下がり続けている。今回は重みの初期値を単純な標準正規分布（ガウス分布）に設定しており、改善の余地があると思われる。各層のノード数や学習率の調整も要検討。過学習対策として、隠れ層・ノード数の調整、正則化、ドロップアウト等の対処も必要。今回は取り急ぎ、実装そのものに焦点を当てて理解を深めた。"
   ]
  },
  {
   "cell_type": "markdown",
   "metadata": {},
   "source": [
    "**（オプション）誤分類の確認**  "
   ]
  },
  {
   "cell_type": "code",
   "execution_count": 119,
   "metadata": {},
   "outputs": [
    {
     "data": {
      "image/png": "[encoded data removed]",
      "text/plain": [
       "<Figure size 432x432 with 36 Axes>"
      ]
     },
     "metadata": {},
     "output_type": "display_data"
    }
   ],
   "source": [
    "\"\"\"\n",
    "誤分類結果を並べて表示する。画像の上の表示は「推定結果/正解」である。\n",
    "\n",
    "Parameters:\n",
    "----------\n",
    "X_val : 検証用データの特徴量（n_samples, n_features)\n",
    "y_val : 検証用データの正解ラベル(n_samples,)\n",
    "y_pred : 推定値のndarray (n_samples,)\n",
    "\"\"\"\n",
    "import numpy as np\n",
    "import matplotlib.pyplot as plt\n",
    "\n",
    "y_pred = scratch_snnc2.predict(X_val)\n",
    "\n",
    "num = 36 # いくつ表示するか\n",
    "\n",
    "true_false = y_pred==y_val\n",
    "false_list = np.where(true_false==False)[0].astype(np.int)\n",
    "\n",
    "if false_list.shape[0] < num:\n",
    "    num = false_list.shape[0]\n",
    "fig = plt.figure(figsize=(6, 6))\n",
    "fig.subplots_adjust(left=0, right=0.8,  bottom=0, top=0.8, hspace=1, wspace=0.5)\n",
    "for i in range(num):\n",
    "    ax = fig.add_subplot(6, 6, i + 1, xticks=[], yticks=[])\n",
    "    ax.set_title(\"{} / {}\".format(y_pred[false_list[i]], y_val[false_list[i]]))\n",
    "    ax.imshow(X_val.reshape(-1, 28, 28)[false_list[i]], cmap='gray')\n"
   ]
  },
  {
   "cell_type": "code",
   "execution_count": null,
   "metadata": {},
   "outputs": [],
   "source": []
  }
 ],
 "metadata": {
  "kernelspec": {
   "display_name": "Python 3",
   "language": "python",
   "name": "python3"
  },
  "language_info": {
   "codemirror_mode": {
    "name": "ipython",
    "version": 3
   },
   "file_extension": ".py",
   "mimetype": "text/x-python",
   "name": "python",
   "nbconvert_exporter": "python",
   "pygments_lexer": "ipython3",
   "version": "3.6.8"
  }
 },
 "nbformat": 4,
 "nbformat_minor": 2
}
