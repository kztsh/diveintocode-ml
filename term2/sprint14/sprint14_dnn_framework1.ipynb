{
 "cells": [
  {
   "cell_type": "markdown",
   "metadata": {
    "colab_type": "text",
    "id": "xJ2HBqPMKmft"
   },
   "source": [
    "# Term2 Sprint14 授業課題 \n",
    "## コーディング課題：ディープラーニングフレームワーク1 (Tensorflow)"
   ]
  },
  {
   "cell_type": "code",
   "execution_count": 1,
   "metadata": {
    "colab": {
     "base_uri": "https://localhost:8080/",
     "height": 34
    },
    "colab_type": "code",
    "id": "2yPFqh0tKtMk",
    "outputId": "e9d18c41-05be-4b89-e1b8-39a9d71e545f"
   },
   "outputs": [
    {
     "name": "stdout",
     "output_type": "stream",
     "text": [
      "Drive already mounted at /content/gdrive; to attempt to forcibly remount, call drive.mount(\"/content/gdrive\", force_remount=True).\n"
     ]
    }
   ],
   "source": [
    "from google.colab import drive\n",
    "drive.mount('/content/gdrive')\n",
    "!cd gdrive"
   ]
  },
  {
   "cell_type": "markdown",
   "metadata": {
    "colab_type": "text",
    "id": "8NQb2h-bKmfw"
   },
   "source": [
    "**まずはロジスティック回帰を実装**"
   ]
  },
  {
   "cell_type": "code",
   "execution_count": 0,
   "metadata": {
    "colab": {},
    "colab_type": "code",
    "id": "A5KHYa0aKmfy"
   },
   "outputs": [],
   "source": [
    "import numpy as np\n",
    "import tensorflow as tf"
   ]
  },
  {
   "cell_type": "markdown",
   "metadata": {
    "colab_type": "text",
    "id": "rkMuMTJ0Kmf2"
   },
   "source": [
    "計算グラフの構築"
   ]
  },
  {
   "cell_type": "code",
   "execution_count": 3,
   "metadata": {
    "colab": {
     "base_uri": "https://localhost:8080/",
     "height": 88
    },
    "colab_type": "code",
    "id": "UbjQqrwwKmf3",
    "outputId": "fe8ddb2e-953a-4305-fbc4-7dc91cfc61fa"
   },
   "outputs": [
    {
     "name": "stdout",
     "output_type": "stream",
     "text": [
      "WARNING:tensorflow:From /usr/local/lib/python3.6/dist-packages/tensorflow/python/framework/op_def_library.py:263: colocate_with (from tensorflow.python.framework.ops) is deprecated and will be removed in a future version.\n",
      "Instructions for updating:\n",
      "Colocations handled automatically by placer.\n"
     ]
    }
   ],
   "source": [
    "# データ生成\n",
    "x_train = np.array([[0,0],[0,1],[1,0],[1,1]])\n",
    "y_train = np.array([[0],[0],[0],[1]])\n",
    "\n",
    "# 学習データを入力するためのplaceholderを生成\n",
    "x = tf.placeholder(dtype=tf.float32, shape=[None, 2])\n",
    "t = tf.placeholder(dtype=tf.float32, shape=[None, 1])\n",
    "\n",
    "# 重みとバイアスの変数Variableを指定(初期値0)\n",
    "W = tf.Variable(tf.zeros([2,1]))\n",
    "b = tf.Variable(tf.zeros([1]))\n",
    "\n",
    "# モデル出力yと目的関数を定義\n",
    "y = tf.sigmoid(tf.matmul(x, W) + b)\n",
    "cross_entropy = tf.reduce_sum(-t * tf.log(y) - (1 - t) * tf.log(1 - y))\n",
    "\n",
    "# 目的関数を勾配降下法の最適化インスタンスに渡す\n",
    "train_step = tf.train.GradientDescentOptimizer(learning_rate=0.1).minimize(cross_entropy)\n",
    "\n",
    "# 正解の判定と正解率も計算グラフとして定義\n",
    "correct_prediction = tf.equal(tf.sign(y - 0.5), tf.sign(t - 0.5)) # 返り値はBool\n",
    "accuracy = tf.reduce_mean(tf.cast(correct_prediction, tf.float32)) # castでBoolを0, 1に変換して平均化"
   ]
  },
  {
   "cell_type": "markdown",
   "metadata": {
    "colab_type": "text",
    "id": "ZPvKEGQxKmf9"
   },
   "source": [
    "セッションを準備してパラメータを最適化"
   ]
  },
  {
   "cell_type": "code",
   "execution_count": 4,
   "metadata": {
    "colab": {
     "base_uri": "https://localhost:8080/",
     "height": 187
    },
    "colab_type": "code",
    "id": "KBdkAWxPKmf-",
    "outputId": "f18da392-700b-4c7a-d7e1-65cb0f17d21e"
   },
   "outputs": [
    {
     "name": "stdout",
     "output_type": "stream",
     "text": [
      "epoch: 0, Accuracy: 0.750000\n",
      "epoch: 100, Accuracy: 1.000000\n",
      "epoch: 200, Accuracy: 1.000000\n",
      "epoch: 300, Accuracy: 1.000000\n",
      "epoch: 400, Accuracy: 1.000000\n",
      "epoch: 500, Accuracy: 1.000000\n",
      "epoch: 600, Accuracy: 1.000000\n",
      "epoch: 700, Accuracy: 1.000000\n",
      "epoch: 800, Accuracy: 1.000000\n",
      "epoch: 900, Accuracy: 1.000000\n"
     ]
    }
   ],
   "source": [
    "# セッションのインスタンスを生成して初期化\n",
    "sess = tf.Session()\n",
    "sess.run(tf.global_variables_initializer())\n",
    "\n",
    "# 1000回学習\n",
    "for epoch in range(1000):\n",
    "    sess.run(train_step, feed_dict={x:x_train, t:y_train})\n",
    "    \n",
    "# 100回ごとに正解率を表示\n",
    "    if epoch % 100 == 0:\n",
    "        acc_val = sess.run(accuracy, feed_dict={x:x_train, t:y_train})\n",
    "        print ('epoch: %d, Accuracy: %f' % (epoch, acc_val))\n"
   ]
  },
  {
   "cell_type": "markdown",
   "metadata": {
    "colab_type": "text",
    "id": "PNgtOO9SKmgE"
   },
   "source": [
    "各サンプルの計算結果を確認"
   ]
  },
  {
   "cell_type": "code",
   "execution_count": 5,
   "metadata": {
    "colab": {
     "base_uri": "https://localhost:8080/",
     "height": 187
    },
    "colab_type": "code",
    "id": "r_eJj9NtKmgF",
    "outputId": "19a2dde3-3d98-42e7-ccde-3c9cee59006a"
   },
   "outputs": [
    {
     "name": "stdout",
     "output_type": "stream",
     "text": [
      "------分類が正しければサンプルごとにTrue------\n",
      " [[ True]\n",
      " [ True]\n",
      " [ True]\n",
      " [ True]]\n",
      "------モデル出力yの値------\n",
      " [[1.9648671e-04]\n",
      " [4.9049795e-02]\n",
      " [4.9049795e-02]\n",
      " [9.3120372e-01]]\n"
     ]
    }
   ],
   "source": [
    "# 学習結果が正しいか確認\n",
    "classified = sess.run(correct_prediction, feed_dict={x:x_train, t:y_train})\n",
    "\n",
    "#出力yの確認\n",
    "prob = sess.run(y, feed_dict={x:x_train, t:y_train})\n",
    "\n",
    "print(\"------分類が正しければサンプルごとにTrue------\\n\", classified)\n",
    "print(\"------モデル出力yの値------\\n\", prob)\n"
   ]
  },
  {
   "cell_type": "markdown",
   "metadata": {
    "colab_type": "text",
    "id": "3kTAtkrIKmgJ"
   },
   "source": [
    "学習後のWとbの値を確認"
   ]
  },
  {
   "cell_type": "code",
   "execution_count": 6,
   "metadata": {
    "colab": {
     "base_uri": "https://localhost:8080/",
     "height": 68
    },
    "colab_type": "code",
    "id": "s-4IXNuhKmgK",
    "outputId": "fce23433-b6ba-4c45-ce0a-af5a165fb645"
   },
   "outputs": [
    {
     "name": "stdout",
     "output_type": "stream",
     "text": [
      "W: [[5.569954]\n",
      " [5.569954]]\n",
      "b: [-8.534579]\n"
     ]
    }
   ],
   "source": [
    "print('W:', sess.run(W))\n",
    "print('b:', sess.run(b))"
   ]
  },
  {
   "cell_type": "markdown",
   "metadata": {
    "colab_type": "text",
    "id": "3tMbU6TMKmgP"
   },
   "source": [
    "最後にセッションを終了"
   ]
  },
  {
   "cell_type": "code",
   "execution_count": 0,
   "metadata": {
    "colab": {},
    "colab_type": "code",
    "id": "lfQeDeneKmgQ"
   },
   "outputs": [],
   "source": [
    "sess.close()"
   ]
  },
  {
   "cell_type": "markdown",
   "metadata": {
    "colab_type": "text",
    "id": "-7B3MyOzKmgT"
   },
   "source": [
    "## 1. スクラッチを振り返る\n",
    "ここまでのスクラッチを振り返り、ディープラーニングを実装するためにはどのようなものが必要だったかを列挙する。\n",
    "\n",
    "- 重みの初期化\n",
    "- エポックのループ\n",
    "- 各層のインスタンス化\n",
    "- コスト関数値の最適化\n",
    "- Forward, Backwardの実装など\n",
    "\n",
    "**データセットの用意**  \n",
    "以前から使用しているIrisデータセットを使用。\n",
    "\n",
    "[Iris Species](https://www.kaggle.com/uciml/iris/data \"Iris Species\")\n",
    "\n",
    "目的変数はSpeciesだが、3種類ある中から以下の2種類のみを取り出して使用する。\n",
    "\n",
    "- Iris-versicolor\n",
    "- Iris-virginica"
   ]
  },
  {
   "cell_type": "markdown",
   "metadata": {
    "colab_type": "text",
    "id": "EXmt3G04KmgU"
   },
   "source": [
    "## 2. スクラッチとTensorFlowの対応を考える\n",
    "1.で列挙した「ディープラーニングを実装するために必要なもの」がTensorFlowではどう実装されているかを確認し、まとめる。"
   ]
  },
  {
   "cell_type": "code",
   "execution_count": 9,
   "metadata": {
    "colab": {
     "base_uri": "https://localhost:8080/",
     "height": 204
    },
    "colab_type": "code",
    "id": "1a0VmzgyKmgV",
    "outputId": "edb9ecc3-094a-4de8-ff91-3004e3bdee52"
   },
   "outputs": [
    {
     "name": "stdout",
     "output_type": "stream",
     "text": [
      "Epoch 0, loss : 136.5925, val_loss : 64.4405, acc : 0.250, val_acc : 0.625\n",
      "Epoch 1, loss : 21.2192, val_loss : 42.7912, acc : 0.750, val_acc : 0.375\n",
      "Epoch 2, loss : 13.8468, val_loss : 13.4117, acc : 0.500, val_acc : 0.625\n",
      "Epoch 3, loss : 5.2373, val_loss : 8.9091, acc : 0.750, val_acc : 0.562\n",
      "Epoch 4, loss : 0.0439, val_loss : 3.1901, acc : 1.000, val_acc : 0.875\n",
      "Epoch 5, loss : 0.0008, val_loss : 2.3204, acc : 1.000, val_acc : 0.750\n",
      "Epoch 6, loss : 0.0000, val_loss : 0.4958, acc : 1.000, val_acc : 0.938\n",
      "Epoch 7, loss : 0.0000, val_loss : 0.0001, acc : 1.000, val_acc : 1.000\n",
      "Epoch 8, loss : 0.0000, val_loss : 0.0001, acc : 1.000, val_acc : 1.000\n",
      "Epoch 9, loss : 0.0000, val_loss : 0.0000, acc : 1.000, val_acc : 1.000\n",
      "test_acc : 0.900\n"
     ]
    }
   ],
   "source": [
    "\"\"\"\n",
    "TensorFlowで実装したニューラルネットワークを使いIrisデータセットを2値分類する\n",
    "\"\"\"\n",
    "import pandas as pd\n",
    "import numpy as np\n",
    "from sklearn.model_selection import train_test_split\n",
    "import tensorflow as tf\n",
    "\n",
    "# データセットの読み込み\n",
    "dataset_path =\"Iris.csv\"\n",
    "df = pd.read_csv(dataset_path)\n",
    "# データフレームから条件抽出\n",
    "df = df[(df[\"Species\"] == \"Iris-versicolor\")|(df[\"Species\"] == \"Iris-virginica\")]\n",
    "y = df[\"Species\"]\n",
    "X = df.loc[:, [\"SepalLengthCm\", \"SepalWidthCm\", \"PetalLengthCm\", \"PetalWidthCm\"]]\n",
    "y = np.array(y)\n",
    "X = np.array(X)\n",
    "# ラベルを数値に変換\n",
    "y[y=='Iris-versicolor'] = 0\n",
    "y[y=='Iris-virginica'] = 1\n",
    "y = y.astype(np.int)[:, np.newaxis]\n",
    "\n",
    "# trainとtestに分割\n",
    "X_train, X_test, y_train, y_test = train_test_split(X, y, test_size=0.2, random_state=0)\n",
    "# さらにtrainとvalに分割\n",
    "X_train, X_val, y_train, y_val = train_test_split(X_train, y_train, test_size=0.2, random_state=0)\n",
    "\n",
    "class GetMiniBatch:\n",
    "    \"\"\"\n",
    "    ミニバッチを取得するイテレータ\n",
    "\n",
    "    Parameters\n",
    "    ----------\n",
    "    X : 次の形のndarray, shape (n_samples, n_features)\n",
    "      学習データ\n",
    "    y : 次の形のndarray, shape (n_samples, 1)\n",
    "      正解値\n",
    "    batch_size : int\n",
    "      バッチサイズ\n",
    "    seed : int\n",
    "      NumPyの乱数のシード\n",
    "    \"\"\"\n",
    "    def __init__(self, X, y, batch_size = 10, seed=0):\n",
    "        self.batch_size = batch_size\n",
    "        np.random.seed(seed)\n",
    "        shuffle_index = np.random.permutation(np.arange(X.shape[0]))\n",
    "        self.X = X[shuffle_index]\n",
    "        self.y = y[shuffle_index]\n",
    "        self._stop = np.ceil(X.shape[0]/self.batch_size).astype(np.int)\n",
    "    \n",
    "    # 1エポック内でのイテレーション回数を返す\n",
    "    def __len__(self):\n",
    "        return self._stop\n",
    "    \n",
    "    # 各イテレーションで使うバッチデータを返す\n",
    "    def __getitem__(self,item):\n",
    "        p0 = item*self.batch_size\n",
    "        p1 = item*self.batch_size + self.batch_size\n",
    "        return self.X[p0:p1], self.y[p0:p1]\n",
    "    \n",
    "    # イテレーションのカウント数をゼロにする\n",
    "    def __iter__(self):\n",
    "        self._counter = 0\n",
    "        return self\n",
    "    \n",
    "    # 次のイテレーションで使うバッチデータを返す\n",
    "    def __next__(self):\n",
    "        if self._counter >= self._stop:\n",
    "            raise StopIteration()\n",
    "        p0 = self._counter*self.batch_size\n",
    "        p1 = self._counter*self.batch_size + self.batch_size\n",
    "        self._counter += 1\n",
    "        return self.X[p0:p1], self.y[p0:p1]\n",
    "\n",
    "# ハイパーパラメータの設定\n",
    "learning_rate = 0.01\n",
    "batch_size = 10\n",
    "num_epochs = 10\n",
    "\n",
    "n_hidden1 = 50\n",
    "n_hidden2 = 100\n",
    "n_input = X_train.shape[1]\n",
    "n_samples = X_train.shape[0]\n",
    "n_classes = 1\n",
    "\n",
    "# 計算グラフに渡す引数の形を決める\n",
    "X = tf.placeholder(dtype=\"float\", shape=[None, n_input])\n",
    "Y = tf.placeholder(dtype=\"float\", shape=[None, n_classes])\n",
    "\n",
    "# trainのミニバッチイテレータ\n",
    "get_mini_batch_train = GetMiniBatch(X_train, y_train, batch_size=batch_size)\n",
    "\n",
    "def example_net(x):\n",
    "    \"\"\"\n",
    "    単純な3層ニューラルネットワーク\n",
    "    \"\"\"\n",
    "\n",
    "    # 重みとバイアスの宣言\n",
    "    weights = {\n",
    "        'w1': tf.Variable(tf.random_normal([n_input, n_hidden1])),\n",
    "        'w2': tf.Variable(tf.random_normal([n_hidden1, n_hidden2])),\n",
    "        'w3': tf.Variable(tf.random_normal([n_hidden2, n_classes]))\n",
    "    }\n",
    "    biases = {\n",
    "        'b1': tf.Variable(tf.random_normal([n_hidden1])),\n",
    "        'b2': tf.Variable(tf.random_normal([n_hidden2])),\n",
    "        'b3': tf.Variable(tf.random_normal([n_classes]))\n",
    "    }\n",
    "\n",
    "    layer_1 = tf.add(tf.matmul(x, weights['w1']), biases['b1'])\n",
    "    layer_1 = tf.nn.relu(layer_1)\n",
    "    layer_2 = tf.add(tf.matmul(layer_1, weights['w2']), biases['b2'])\n",
    "    layer_2 = tf.nn.relu(layer_2)\n",
    "    layer_output = tf.matmul(layer_2, weights['w3']) + biases['b3'] # tf.addと+は等価である\n",
    "    return layer_output\n",
    "\n",
    "# ネットワーク構造の読み込み                               \n",
    "logits = example_net(X)\n",
    "\n",
    "# 目的関数\n",
    "loss_op = tf.reduce_mean(tf.nn.sigmoid_cross_entropy_with_logits(labels=Y, logits=logits))\n",
    "# 最適化手法\n",
    "optimizer = tf.train.AdamOptimizer(learning_rate=learning_rate)\n",
    "train_op = optimizer.minimize(loss_op)\n",
    "\n",
    "# 推定結果\n",
    "correct_pred = tf.equal(tf.sign(Y - 0.5), tf.sign(tf.sigmoid(logits) - 0.5))\n",
    "# 指標値計算\n",
    "accuracy = tf.reduce_mean(tf.cast(correct_pred, tf.float32))\n",
    "\n",
    "# variableの初期化\n",
    "init = tf.global_variables_initializer()\n",
    "\n",
    "\n",
    "# 計算グラフの実行\n",
    "with tf.Session() as sess:\n",
    "    sess.run(init)\n",
    "    for epoch in range(num_epochs):\n",
    "        # エポックごとにループ\n",
    "        total_batch = np.ceil(X_train.shape[0]/batch_size).astype(np.int)\n",
    "        total_loss = 0\n",
    "        total_acc = 0\n",
    "        for i, (mini_batch_x, mini_batch_y) in enumerate(get_mini_batch_train):\n",
    "            # ミニバッチごとにループ\n",
    "            sess.run(train_op, feed_dict={X: mini_batch_x, Y: mini_batch_y})\n",
    "            loss, acc = sess.run([loss_op, accuracy], feed_dict={X: mini_batch_x, Y: mini_batch_y})\n",
    "            total_loss += loss\n",
    "            total_acc += acc\n",
    "        total_loss /= n_samples\n",
    "        total_acc /= n_samples\n",
    "        val_loss, val_acc = sess.run([loss_op, accuracy], feed_dict={X: X_val, Y: y_val})\n",
    "        print(\"Epoch {}, loss : {:.4f}, val_loss : {:.4f}, acc : {:.3f}, val_acc : {:.3f}\".format(\n",
    "            epoch, loss, val_loss, acc, val_acc))\n",
    "    test_acc = sess.run(accuracy, feed_dict={X: X_test, Y: y_test})\n",
    "    print(\"test_acc : {:.3f}\".format(test_acc))"
   ]
  },
  {
   "cell_type": "markdown",
   "metadata": {
    "colab_type": "text",
    "id": "lXp8mOMPKmgZ"
   },
   "source": [
    "Tensorflowでは以下のように実装されている。\n",
    "\n",
    "- 重みの初期化: tf.global_variables_initializer()\n",
    "- エポックのループ: tf.Session()の中で実行\n",
    "- 各層のインスタンス化: tf.Variable()で定義した変数にてtf.matmul, tf.add, tf.nn.reluを用いて層を形成\n",
    "- Forward, Backwardの実装: tf.train.AdamOptimizer\n",
    "- コスト関数値の最適化: tf.train.AdamOptimizer.minimizeで最適化手法により最小化していく"
   ]
  },
  {
   "cell_type": "markdown",
   "metadata": {
    "colab_type": "text",
    "id": "VGUFXCJkKmga"
   },
   "source": [
    "## 3. 3種類全ての目的変数を使用したIrisのモデルを作成\n",
    "[Iris Species](https://www.kaggle.com/uciml/iris/data \"Iris Species\")\n",
    "\n",
    "上記リンク先のiris.csvを使用する。  \n",
    "目的変数はSpeciesに含まれる3種類全てを使う。\n",
    "\n",
    "2クラスの分類と3クラス以上の分類の違いを考慮する。\n",
    "\n",
    "それがTensorFlowでどのように書き換えられるかを公式ドキュメントなどを参考に調べる。"
   ]
  },
  {
   "cell_type": "code",
   "execution_count": 10,
   "metadata": {
    "colab": {
     "base_uri": "https://localhost:8080/",
     "height": 204
    },
    "colab_type": "code",
    "id": "-PtQHZTTKmgb",
    "outputId": "7f7cc668-e678-4276-cc1b-aec7beb3537b"
   },
   "outputs": [
    {
     "name": "stdout",
     "output_type": "stream",
     "text": [
      "Epoch 0, loss : 41.7363, val_loss : 99.4315, acc : 0.667, val_acc : 0.292\n",
      "Epoch 1, loss : 58.3206, val_loss : 29.9967, acc : 0.333, val_acc : 0.708\n",
      "Epoch 2, loss : 7.2275, val_loss : 8.4700, acc : 0.333, val_acc : 0.708\n",
      "Epoch 3, loss : 0.0000, val_loss : 1.2194, acc : 1.000, val_acc : 0.917\n",
      "Epoch 4, loss : 0.0000, val_loss : 1.0825, acc : 1.000, val_acc : 0.792\n",
      "Epoch 5, loss : 1.1150, val_loss : 6.7111, acc : 0.833, val_acc : 0.667\n",
      "Epoch 6, loss : 3.0603, val_loss : 12.6693, acc : 0.833, val_acc : 0.625\n",
      "Epoch 7, loss : 0.0001, val_loss : 4.4025, acc : 1.000, val_acc : 0.708\n",
      "Epoch 8, loss : 0.0000, val_loss : 2.1470, acc : 1.000, val_acc : 0.917\n",
      "Epoch 9, loss : 0.0000, val_loss : 3.0222, acc : 1.000, val_acc : 0.917\n",
      "test_acc : 0.833\n"
     ]
    }
   ],
   "source": [
    "import numpy as np\n",
    "import pandas as pd\n",
    "import tensorflow as tf\n",
    "from sklearn.model_selection import train_test_split\n",
    "from sklearn.preprocessing import OneHotEncoder\n",
    "\n",
    "# データセットの読み込み\n",
    "dataset_path =\"Iris.csv\"\n",
    "df = pd.read_csv(dataset_path)\n",
    "# データフレームから条件抽出\n",
    "X = df.loc[:, [\"SepalLengthCm\", \"SepalWidthCm\", \"PetalLengthCm\", \"PetalWidthCm\"]]\n",
    "y = df[\"Species\"]\n",
    "X = np.array(X)\n",
    "y = np.array(y)\n",
    "# ラベルを数値に変換\n",
    "y[y=='Iris-setosa'] = 0\n",
    "y[y=='Iris-versicolor'] = 1\n",
    "y[y=='Iris-virginica'] = 2\n",
    "y = y.astype(np.int)[:, np.newaxis]\n",
    "\n",
    "# yをOneHotEncoding\n",
    "enc = OneHotEncoder(handle_unknown='ignore', sparse=False)\n",
    "y = enc.fit_transform(y)\n",
    "\n",
    "# trainとtestに分割\n",
    "X_train, X_test, y_train, y_test = train_test_split(X, y, test_size=0.2, random_state=0)\n",
    "# さらにtrainとvalに分割\n",
    "X_train, X_val, y_train, y_val = train_test_split(X_train, y_train, test_size=0.2, random_state=0)\n",
    "\n",
    "class GetMiniBatch:\n",
    "    \"\"\"\n",
    "    ミニバッチを取得するイテレータ\n",
    "\n",
    "    Parameters\n",
    "    ----------\n",
    "    X : 次の形のndarray, shape (n_samples, n_features)\n",
    "      学習データ\n",
    "    y : 次の形のndarray, shape (n_samples, n_classes)\n",
    "      正解値\n",
    "    batch_size : int\n",
    "      バッチサイズ\n",
    "    seed : int\n",
    "      NumPyの乱数のシード\n",
    "    \"\"\"\n",
    "    def __init__(self, X, y, batch_size = 10, seed=0):\n",
    "        self.batch_size = batch_size\n",
    "        np.random.seed(seed)\n",
    "        shuffle_index = np.random.permutation(np.arange(X.shape[0]))\n",
    "        self.X = X[shuffle_index]\n",
    "        self.y = y[shuffle_index]\n",
    "        self._stop = np.ceil(X.shape[0]/self.batch_size).astype(np.int)\n",
    "    \n",
    "    # 1エポック内でのイテレーション回数を返す\n",
    "    def __len__(self):\n",
    "        return self._stop\n",
    "    \n",
    "    # 各イテレーションで使うバッチデータを返す\n",
    "    def __getitem__(self,item):\n",
    "        p0 = item*self.batch_size\n",
    "        p1 = item*self.batch_size + self.batch_size\n",
    "        return self.X[p0:p1], self.y[p0:p1]\n",
    "    \n",
    "    # イテレーションのカウント数をゼロにする\n",
    "    def __iter__(self):\n",
    "        self._counter = 0\n",
    "        return self\n",
    "    \n",
    "    # 次のイテレーションで使うバッチデータを返す\n",
    "    def __next__(self):\n",
    "        if self._counter >= self._stop:\n",
    "            raise StopIteration()\n",
    "        p0 = self._counter*self.batch_size\n",
    "        p1 = self._counter*self.batch_size + self.batch_size\n",
    "        self._counter += 1\n",
    "        return self.X[p0:p1], self.y[p0:p1]\n",
    "\n",
    "# ハイパーパラメータの設定\n",
    "learning_rate = 0.01\n",
    "batch_size = 10\n",
    "num_epochs = 10\n",
    "\n",
    "n_hidden1 = 50\n",
    "n_hidden2 = 100\n",
    "n_input = X_train.shape[1]\n",
    "n_samples = X_train.shape[0]\n",
    "n_classes = 3\n",
    "\n",
    "# 計算グラフに渡す引数の形を決める\n",
    "X = tf.placeholder(dtype=tf.float32, shape=[None, n_input])\n",
    "Y = tf.placeholder(dtype=tf.int32, shape=[None, n_classes])\n",
    "\n",
    "# trainのミニバッチイテレータ\n",
    "get_mini_batch_train = GetMiniBatch(X_train, y_train, batch_size=batch_size)\n",
    "\n",
    "def example_net(x):\n",
    "    \"\"\"\n",
    "    単純な3層ニューラルネットワーク\n",
    "    \"\"\"\n",
    "\n",
    "    # 重みとバイアスの宣言\n",
    "    weights = {\n",
    "        'w1': tf.Variable(tf.random_normal([n_input, n_hidden1])),\n",
    "        'w2': tf.Variable(tf.random_normal([n_hidden1, n_hidden2])),\n",
    "        'w3': tf.Variable(tf.random_normal([n_hidden2, n_classes]))\n",
    "    }\n",
    "    biases = {\n",
    "        'b1': tf.Variable(tf.random_normal([n_hidden1])),\n",
    "        'b2': tf.Variable(tf.random_normal([n_hidden2])),\n",
    "        'b3': tf.Variable(tf.random_normal([n_classes]))\n",
    "    }\n",
    "\n",
    "    layer_1 = tf.add(tf.matmul(x, weights['w1']), biases['b1'])\n",
    "    layer_1 = tf.nn.relu(layer_1)\n",
    "    layer_2 = tf.add(tf.matmul(layer_1, weights['w2']), biases['b2'])\n",
    "    layer_2 = tf.nn.relu(layer_2)\n",
    "    layer_output = tf.matmul(layer_2, weights['w3']) + biases['b3'] # tf.addと+は等価である\n",
    "    return layer_output\n",
    "\n",
    "# ネットワーク構造の読み込み                               \n",
    "logits = example_net(X)\n",
    "\n",
    "# 目的関数(3値分類)\n",
    "loss_op = tf.reduce_mean(tf.nn.softmax_cross_entropy_with_logits_v2(labels=Y, logits=logits))\n",
    "# 最適化手法\n",
    "optimizer = tf.train.AdamOptimizer(learning_rate=learning_rate)\n",
    "train_op = optimizer.minimize(loss_op)\n",
    "\n",
    "# 推定結果\n",
    "correct_pred = tf.equal(tf.argmax(Y, 1), tf.argmax(logits, 1))\n",
    "# correct_pred = tf.argmax(tf.nn.softmax(logits), axis=1)\n",
    "# 指標値計算\n",
    "accuracy = tf.reduce_mean(tf.cast(correct_pred, tf.float32))\n",
    "\n",
    "# variableの初期化\n",
    "init = tf.global_variables_initializer()\n",
    "\n",
    "\n",
    "# 計算グラフの実行\n",
    "with tf.Session() as sess:\n",
    "    sess.run(init)\n",
    "    for epoch in range(num_epochs):\n",
    "        # エポックごとにループ\n",
    "        total_batch = np.ceil(X_train.shape[0]/batch_size).astype(np.int)\n",
    "        total_loss = 0\n",
    "        total_acc = 0\n",
    "        for i, (mini_batch_x, mini_batch_y) in enumerate(get_mini_batch_train):\n",
    "            # ミニバッチごとにループ\n",
    "            sess.run(train_op, feed_dict={X: mini_batch_x, Y: mini_batch_y})\n",
    "            loss, acc = sess.run([loss_op, accuracy], feed_dict={X: mini_batch_x, Y: mini_batch_y})\n",
    "            total_loss += loss\n",
    "            total_acc += acc\n",
    "        total_loss /= n_samples\n",
    "        total_acc /= n_samples\n",
    "        val_loss, val_acc = sess.run([loss_op, accuracy], feed_dict={X: X_val, Y: y_val})\n",
    "        print(\"Epoch {}, loss : {:.4f}, val_loss : {:.4f}, acc : {:.3f}, val_acc : {:.3f}\".format(\n",
    "            epoch, loss, val_loss, acc, val_acc))\n",
    "    test_acc = sess.run(accuracy, feed_dict={X: X_test, Y: y_test})\n",
    "    print(\"test_acc : {:.3f}\".format(test_acc))"
   ]
  },
  {
   "cell_type": "markdown",
   "metadata": {
    "colab_type": "text",
    "id": "D5qGz-FaKmgg"
   },
   "source": [
    "## 4. House Pricesのモデルを作成\n",
    "回帰問題のデータセットであるHouse Pricesを使用したモデルを作成する。\n",
    "\n",
    "[House Prices: Advanced Regression Techniques](https://www.kaggle.com/c/house-prices-advanced-regression-techniques/data \"House Prices: Advanced Regression Techniques\")\n",
    "\n",
    "この中のtrain.csvをダウンロードし、目的変数としてSalePrice、説明変数として、GrLivAreaとYearBuiltを使う。  \n",
    "説明変数はさらに増やしても構わない。\n",
    "\n",
    "分類問題と回帰問題の違いを考慮する。"
   ]
  },
  {
   "cell_type": "code",
   "execution_count": 12,
   "metadata": {
    "colab": {
     "base_uri": "https://localhost:8080/",
     "height": 589
    },
    "colab_type": "code",
    "id": "43qxd74nKmgm",
    "outputId": "d3896438-1bbb-4910-c842-a6ca7bb799a1"
   },
   "outputs": [
    {
     "data": {
      "image/png": "[encoded data removed]",
      "text/plain": [
       "<Figure size 432x288 with 1 Axes>"
      ]
     },
     "metadata": {
      "tags": []
     },
     "output_type": "display_data"
    },
    {
     "name": "stdout",
     "output_type": "stream",
     "text": [
      "目的変数の尖度 6.536281860064529\n",
      "目的変数の歪度 1.8828757597682129\n"
     ]
    },
    {
     "data": {
      "image/png": "[encoded data removed]",
      "text/plain": [
       "<Figure size 432x288 with 1 Axes>"
      ]
     },
     "metadata": {
      "tags": []
     },
     "output_type": "display_data"
    },
    {
     "name": "stdout",
     "output_type": "stream",
     "text": [
      "目的変数（logスケール）の尖度 0.8095319958036296\n",
      "目的変数（logスケール）の歪度 0.12133506220520406\n"
     ]
    }
   ],
   "source": [
    "import numpy as np\n",
    "import pandas as pd\n",
    "import seaborn as sns\n",
    "import matplotlib.pyplot as plt\n",
    "import tensorflow as tf\n",
    "from sklearn.model_selection import train_test_split\n",
    "from sklearn.preprocessing import StandardScaler\n",
    "\n",
    "# データセットの読み込み\n",
    "df = pd.read_csv(\"train.csv\")\n",
    "# データフレームから条件抽出\n",
    "X = df.loc[:, [\"GrLivArea\", \"YearBuilt\"]]\n",
    "y = df[\"SalePrice\"]\n",
    "X = np.array(X).astype(np.float64)\n",
    "y = np.array(y).astype(np.float64)\n",
    "\n",
    "# 目的変数の分布、尖度、歪度\n",
    "sns.distplot(y)\n",
    "plt.show()\n",
    "print(\"目的変数の尖度\", pd.Series(y).kurt())\n",
    "print(\"目的変数の歪度\", pd.Series(y).skew())\n",
    "\n",
    "# 目的変数を対数変換\n",
    "y = np.log(y)\n",
    "\n",
    "# 目的変数（logスケール）の分布、尖度、歪度\n",
    "sns.distplot(y, color=\"g\")\n",
    "plt.show()\n",
    "print(\"目的変数（logスケール）の尖度\", pd.Series(y).kurt())\n",
    "print(\"目的変数（logスケール）の歪度\", pd.Series(y).skew())\n",
    "\n",
    "# trainとtestに分割\n",
    "X_train, X_test, y_train, y_test = train_test_split(X, y, test_size=0.2, random_state=0)\n",
    "\n",
    "# 標準化\n",
    "sc_X = StandardScaler()\n",
    "X_train = sc_X.fit_transform(X_train)\n",
    "X_test = sc_X.transform(X_test)\n",
    "sc_y = StandardScaler()\n",
    "y_train = sc_y.fit_transform(y_train[:, np.newaxis]).flatten()\n",
    "y_test = sc_y.transform(y_test[:, np.newaxis]).flatten()\n",
    "\n",
    "# さらにtrainとvalに分割\n",
    "X_train, X_val, y_train, y_val = train_test_split(X_train, y_train, test_size=0.2, random_state=0)\n"
   ]
  },
  {
   "cell_type": "code",
   "execution_count": 0,
   "metadata": {
    "colab": {},
    "colab_type": "code",
    "id": "ZqXLL0f4Kmgt"
   },
   "outputs": [],
   "source": [
    "class Tf_nn:\n",
    "    \"\"\"\n",
    "    Tensorflowを使った単純なニューラルネットワーク(House prices用)\n",
    "    \n",
    "    \"\"\"\n",
    "    def __init__(self, n_features, n_hidden1, n_hidden2, learning_rate=0.01, random_seed=None):\n",
    "        self.n_features = n_features\n",
    "        self.learning_rate = learning_rate\n",
    "        self.g = tf.Graph()\n",
    "        \n",
    "        # 計算グラフを構築\n",
    "        with self.g.as_default():\n",
    "            # 計算グラフ内の乱数シードを設定\n",
    "            tf.set_random_seed(random_seed)\n",
    "            \n",
    "            # 入力値のplaceholderを作成\n",
    "            self.X = tf.placeholder(\n",
    "                dtype=tf.float32, shape=(None, self.n_features), name='x_input')\n",
    "            self.y = tf.placeholder(\n",
    "                dtype=tf.float32, shape=(None), name='y_input')\n",
    "            \n",
    "            # 重みとバイアスの宣言\n",
    "            weights = {\n",
    "                'w1': tf.Variable(tf.random_normal([n_features, n_hidden1])),\n",
    "                'w2': tf.Variable(tf.random_normal([n_hidden1, n_hidden2])),\n",
    "                'w3': tf.Variable(tf.random_normal([n_hidden2, 1]))\n",
    "            }\n",
    "            biases = {\n",
    "                'b1': tf.Variable(tf.random_normal([n_hidden1])),\n",
    "                'b2': tf.Variable(tf.random_normal([n_hidden2])),\n",
    "                'b3': tf.Variable(tf.random_normal([1]))\n",
    "            }\n",
    "            \n",
    "            layer_1 = tf.add(tf.matmul(self.X, weights['w1']), biases['b1'])\n",
    "            layer_1 = tf.nn.relu(layer_1)\n",
    "            layer_2 = tf.add(tf.matmul(layer_1, weights['w2']), biases['b2'])\n",
    "            layer_2 = tf.nn.relu(layer_2)\n",
    "            self.prediction = tf.matmul(layer_2, weights['w3']) + biases['b3']\n",
    "            \n",
    "            # 最小２乗誤差を定義\n",
    "            sqr_errors = tf.square(self.y - self.prediction, name='sqr_errors')\n",
    "            self.mean_cost = tf.reduce_mean(sqr_errors, name='mean_cost')\n",
    "            \n",
    "            # 最適化手法を定義\n",
    "            optimizer = tf.train.AdamOptimizer(\n",
    "                learning_rate=self.learning_rate, name='AdamOptimizer')\n",
    "            self.train_op = optimizer.minimize(loss=self.mean_cost)\n",
    "            \n",
    "            # 最適化手法のInitializerを生成\n",
    "            self.init_op = tf.global_variables_initializer()\n",
    "    \n",
    "\n",
    "class GetMiniBatch:\n",
    "    \"\"\"\n",
    "    ミニバッチを取得するイテレータ\n",
    "\n",
    "    Parameters\n",
    "    ----------\n",
    "    X : 次の形のndarray, shape (n_samples, n_features)\n",
    "      学習データ\n",
    "    y : 次の形のndarray, shape (n_samples, n_classes)\n",
    "      正解値\n",
    "    batch_size : int\n",
    "      バッチサイズ\n",
    "    seed : int\n",
    "      NumPyの乱数のシード\n",
    "    \"\"\"\n",
    "    def __init__(self, X, y, batch_size = 10, seed=0):\n",
    "        self.batch_size = batch_size\n",
    "        np.random.seed(seed)\n",
    "        shuffle_index = np.random.permutation(np.arange(X.shape[0]))\n",
    "        self.X = X[shuffle_index]\n",
    "        self.y = y[shuffle_index]\n",
    "        self._stop = np.ceil(X.shape[0]/self.batch_size).astype(np.int)\n",
    "    \n",
    "    # 1エポック内でのイテレーション回数を返す\n",
    "    def __len__(self):\n",
    "        return self._stop\n",
    "    \n",
    "    # 各イテレーションで使うバッチデータを返す\n",
    "    def __getitem__(self,item):\n",
    "        p0 = item*self.batch_size\n",
    "        p1 = item*self.batch_size + self.batch_size\n",
    "        return self.X[p0:p1], self.y[p0:p1]\n",
    "    \n",
    "    # イテレーションのカウント数をゼロにする\n",
    "    def __iter__(self):\n",
    "        self._counter = 0\n",
    "        return self\n",
    "    \n",
    "    # 次のイテレーションで使うバッチデータを返す\n",
    "    def __next__(self):\n",
    "        if self._counter >= self._stop:\n",
    "            raise StopIteration()\n",
    "        p0 = self._counter*self.batch_size\n",
    "        p1 = self._counter*self.batch_size + self.batch_size\n",
    "        self._counter += 1\n",
    "        return self.X[p0:p1], self.y[p0:p1]\n",
    "\n",
    "\n",
    "def train_func(sess, model, X_train, y_train, \n",
    "               X_val=None, y_val=None, num_epochs=10, batch_size=10):\n",
    "    \"\"\"\n",
    "    Tensorflowを使ったモデルで学習するための関数\n",
    "    \n",
    "    \"\"\"\n",
    "    # パラメータ係数の初期化\n",
    "    sess.run(model.init_op)\n",
    "    # コスト関数値を格納する空リストを作成\n",
    "    train_costs = []\n",
    "    val_costs = []\n",
    "    \n",
    "    # trainのミニバッチイテレータ\n",
    "    get_mini_batch_train = GetMiniBatch(X_train, y_train, batch_size=batch_size)\n",
    "    # エポック回数で学習\n",
    "    for i in range(num_epochs):\n",
    "        # バッチデータ毎に学習\n",
    "        total_cost = 0.\n",
    "        for i, (mini_batch_x, mini_batch_y) in enumerate(get_mini_batch_train):\n",
    "            # 訓練データで学習\n",
    "            _, batch_cost = sess.run([model.train_op, model.mean_cost], \n",
    "                               feed_dict={model.X:mini_batch_x, model.y:mini_batch_y})\n",
    "            total_cost += batch_cost\n",
    "        # 訓練データのコスト関数値を格納\n",
    "        total_batch = np.ceil(X_train.shape[0]/batch_size).astype(np.int)\n",
    "        train_costs.append(total_cost / total_batch)\n",
    "        # 検証データがあれば、そのコスト関数値も格納\n",
    "        if X_val is not None and y_val is not None:\n",
    "            val_cost = sess.run(model.mean_cost, \n",
    "                                feed_dict={model.X:X_val, model.y:y_val})\n",
    "            val_costs.append(val_cost)    \n",
    "    \n",
    "    return train_costs, val_costs\n"
   ]
  },
  {
   "cell_type": "code",
   "execution_count": 18,
   "metadata": {
    "colab": {
     "base_uri": "https://localhost:8080/",
     "height": 656
    },
    "colab_type": "code",
    "id": "vTqXOE5-Kmgx",
    "outputId": "24137ccd-4334-4964-e6c3-c676aa740cf3"
   },
   "outputs": [
    {
     "data": {
      "image/png": "[encoded data removed]",
      "text/plain": [
       "<Figure size 1440x648 with 2 Axes>"
      ]
     },
     "metadata": {
      "tags": []
     },
     "output_type": "display_data"
    }
   ],
   "source": [
    "# 必要な値を用意\n",
    "n_hidden1 = 50\n",
    "n_hidden2 = 100\n",
    "n_samples = X_train.shape[0]\n",
    "n_features = X_train.shape[1]\n",
    "learning_rate = 0.1\n",
    "random_seed = 123\n",
    "\n",
    "# モデルのインスタンスを生成\n",
    "nnmodel = Tf_nn(n_features, n_hidden1, n_hidden2, learning_rate, random_seed)\n",
    "\n",
    "# セッション開始\n",
    "with tf.Session(graph=nnmodel.g) as sess:\n",
    "    # 訓練データで学習(検証データもあれば引数として渡す)\n",
    "    train_costs, val_costs = train_func(\n",
    "        sess, nnmodel, X_train, y_train, X_val, y_val, num_epochs=10, batch_size=10)\n",
    "    # train_costs, _ = train_func(sess, nnmodel, X_train, y_train, num_epochs=100)\n",
    "    \n",
    "    # 訓練データとテストデータで予測\n",
    "    y_train_pred = sess.run(\n",
    "        nnmodel.prediction, feed_dict={nnmodel.X:X_train}).flatten()\n",
    "    y_test_pred = sess.run(\n",
    "        nnmodel.prediction, feed_dict={nnmodel.X:X_test}).flatten()\n",
    "    \n",
    "    # 学習曲線と残差プロットを可視化\n",
    "    plt.rcParams[\"font.size\"] = 20\n",
    "    fig, ax = plt.subplots(1,2,figsize=(20,9))\n",
    "    # 学習曲線\n",
    "    plt.subplot(1,2,1)\n",
    "    plt.plot(range(1,len(train_costs) + 1), train_costs, \n",
    "             marker=\"o\", color=\"steelblue\", label=\"Train\")\n",
    "    plt.plot(range(1,len(val_costs) + 1), val_costs, \n",
    "             marker=\"o\", color=\"orangered\", label=\"Validation\")\n",
    "    plt.xlabel('Epoch')\n",
    "    plt.ylabel('Cost Value')\n",
    "    plt.legend(loc=\"best\")\n",
    "    plt.tight_layout()\n",
    "    # 残差プロット\n",
    "    plt.subplot(1,2,2)\n",
    "    plt.scatter(y_train_pred,  y_train_pred - y_train, \n",
    "                c='steelblue', marker='o', edgecolor='white', label='Train')\n",
    "    plt.scatter(y_test_pred,  y_test_pred - y_test,\n",
    "                c='limegreen', marker='s', edgecolor='white', label='Test')\n",
    "    plt.xlabel('Predicted values')\n",
    "    plt.ylabel('Residuals')\n",
    "    train_max = max(y_train_pred)\n",
    "    train_min = min(y_train_pred)\n",
    "    test_max = max(y_test_pred)\n",
    "    test_min = min(y_test_pred)\n",
    "    plt.hlines(y=0, xmin=min(train_min, test_min), \n",
    "               xmax=max(train_max, test_max), color='black', lw=2)\n",
    "    plt.legend(loc='best')\n",
    "    plt.tight_layout()\n",
    "    plt.show()\n"
   ]
  },
  {
   "cell_type": "markdown",
   "metadata": {
    "colab_type": "text",
    "id": "ikvdIfJGQ1S6"
   },
   "source": [
    "特徴量を4つに増やして同様に実行してみる。"
   ]
  },
  {
   "cell_type": "code",
   "execution_count": 0,
   "metadata": {
    "colab": {},
    "colab_type": "code",
    "id": "gQRO63QmKmg2"
   },
   "outputs": [],
   "source": [
    "# データフレームから条件抽出\n",
    "X = df.loc[:, [\"GrLivArea\", \"YearBuilt\", \"OverallQual\", \"GarageArea\"]]\n",
    "y = df[\"SalePrice\"]\n",
    "X = np.array(X).astype(np.float64)\n",
    "y = np.array(y).astype(np.float64)\n",
    "\n",
    "# 目的変数を対数変換\n",
    "y = np.log(y)\n",
    "\n",
    "# trainとtestに分割\n",
    "X_train, X_test, y_train, y_test = train_test_split(X, y, test_size=0.2, random_state=0)\n",
    "\n",
    "# 標準化\n",
    "sc_X = StandardScaler()\n",
    "X_train = sc_X.fit_transform(X_train)\n",
    "X_test = sc_X.transform(X_test)\n",
    "sc_y = StandardScaler()\n",
    "y_train = sc_y.fit_transform(y_train[:, np.newaxis]).flatten()\n",
    "y_test = sc_y.transform(y_test[:, np.newaxis]).flatten()\n",
    "\n",
    "# さらにtrainとvalに分割\n",
    "X_train, X_val, y_train, y_val = train_test_split(X_train, y_train, test_size=0.2, random_state=0)\n"
   ]
  },
  {
   "cell_type": "code",
   "execution_count": 20,
   "metadata": {
    "colab": {
     "base_uri": "https://localhost:8080/",
     "height": 656
    },
    "colab_type": "code",
    "id": "IhmIGliYRQ4z",
    "outputId": "e5515887-365c-45a2-cf06-bbc9e16bac5a"
   },
   "outputs": [
    {
     "data": {
      "image/png": "[encoded data removed]",
      "text/plain": [
       "<Figure size 1440x648 with 2 Axes>"
      ]
     },
     "metadata": {
      "tags": []
     },
     "output_type": "display_data"
    }
   ],
   "source": [
    "# 必要な値を用意\n",
    "n_hidden1 = 50\n",
    "n_hidden2 = 100\n",
    "n_samples = X_train.shape[0]\n",
    "n_features = X_train.shape[1]\n",
    "learning_rate = 0.1\n",
    "random_seed = 123\n",
    "\n",
    "# モデルのインスタンスを生成\n",
    "nnmodel = Tf_nn(n_features, n_hidden1, n_hidden2, learning_rate, random_seed)\n",
    "\n",
    "# セッション開始\n",
    "with tf.Session(graph=nnmodel.g) as sess:\n",
    "    # 訓練データで学習(検証データもあれば引数として渡す)\n",
    "    train_costs, val_costs = train_func(\n",
    "        sess, nnmodel, X_train, y_train, X_val, y_val, num_epochs=10, batch_size=10)\n",
    "    # train_costs, _ = train_func(sess, nnmodel, X_train, y_train, num_epochs=100)\n",
    "    \n",
    "    # 訓練データとテストデータで予測\n",
    "    y_train_pred = sess.run(\n",
    "        nnmodel.prediction, feed_dict={nnmodel.X:X_train}).flatten()\n",
    "    y_test_pred = sess.run(\n",
    "        nnmodel.prediction, feed_dict={nnmodel.X:X_test}).flatten()\n",
    "    \n",
    "    # 学習曲線と残差プロットを可視化\n",
    "    plt.rcParams[\"font.size\"] = 20\n",
    "    fig, ax = plt.subplots(1,2,figsize=(20,9))\n",
    "    # 学習曲線\n",
    "    plt.subplot(1,2,1)\n",
    "    plt.plot(range(1,len(train_costs) + 1), train_costs, \n",
    "             marker=\"o\", color=\"steelblue\", label=\"Train\")\n",
    "    plt.plot(range(1,len(val_costs) + 1), val_costs, \n",
    "             marker=\"o\", color=\"orangered\", label=\"Validation\")\n",
    "    plt.xlabel('Epoch')\n",
    "    plt.ylabel('Cost Value')\n",
    "    plt.legend(loc=\"best\")\n",
    "    plt.tight_layout()\n",
    "    # 残差プロット\n",
    "    plt.subplot(1,2,2)\n",
    "    plt.scatter(y_train_pred,  y_train_pred - y_train, \n",
    "                c='steelblue', marker='o', edgecolor='white', label='Train')\n",
    "    plt.scatter(y_test_pred,  y_test_pred - y_test,\n",
    "                c='limegreen', marker='s', edgecolor='white', label='Test')\n",
    "    plt.xlabel('Predicted values')\n",
    "    plt.ylabel('Residuals')\n",
    "    train_max = max(y_train_pred)\n",
    "    train_min = min(y_train_pred)\n",
    "    test_max = max(y_test_pred)\n",
    "    test_min = min(y_test_pred)\n",
    "    plt.hlines(y=0, xmin=min(train_min, test_min), \n",
    "               xmax=max(train_max, test_max), color='black', lw=2)\n",
    "    plt.legend(loc='best')\n",
    "    plt.tight_layout()\n",
    "    plt.show()\n"
   ]
  },
  {
   "cell_type": "markdown",
   "metadata": {
    "colab_type": "text",
    "id": "IZShfRT9SXWw"
   },
   "source": [
    "## 5. MNISTのモデルを作成\n",
    "ニューラルネットワークのスクラッチで使用したMNISTを分類するモデルを作成する。\n",
    "\n",
    "3クラス以上の分類という点ではひとつ前のIrisと同様。  \n",
    "入力が画像であるという点で異なる。\n",
    "\n",
    "スクラッチで実装したモデルの再現を目指す。"
   ]
  },
  {
   "cell_type": "code",
   "execution_count": 47,
   "metadata": {
    "colab": {
     "base_uri": "https://localhost:8080/",
     "height": 173
    },
    "colab_type": "code",
    "id": "4okoDLiKS4dv",
    "outputId": "a2233955-c020-4bab-8c1d-a2a103625975"
   },
   "outputs": [
    {
     "name": "stdout",
     "output_type": "stream",
     "text": [
      "Collecting pyprind\n",
      "  Downloading https://files.pythonhosted.org/packages/1e/30/e76fb0c45da8aef49ea8d2a90d4e7a6877b45894c25f12fb961f009a891e/PyPrind-2.11.2-py3-none-any.whl\n",
      "Installing collected packages: pyprind\n",
      "Successfully installed pyprind-2.11.2\n",
      "X_train.shape:  (48000, 28, 28, 1)\n",
      "X_val.shape:  (12000, 28, 28, 1)\n",
      "y_train.shape:  (48000,)\n",
      "y_val.shape:  (12000,)\n"
     ]
    }
   ],
   "source": [
    "!pip install pyprind\n",
    "import pyprind\n",
    "from keras.datasets import mnist\n",
    "\n",
    "# データ生成\n",
    "(X_train, y_train), (X_test, y_test) = mnist.load_data()\n",
    "\n",
    "# (n_samples, n_channels, height, width)のNCHWに次元整形\n",
    "# 今回はモノクロなのでチャンネル数は1(サンプル数, 高さ, 幅, チャンネル数)\n",
    "X_train = X_train.reshape(-1, 28, 28, 1)\n",
    "X_test = X_test.reshape(-1, 28, 28, 1)\n",
    "\n",
    "# 正規化\n",
    "X_train = X_train.astype(np.float)\n",
    "X_test = X_test.astype(np.float)\n",
    "X_train /= 255\n",
    "X_test /= 255\n",
    "\n",
    "# 訓練データから更に検証データを生成\n",
    "X_train, X_val, y_train, y_val = train_test_split(X_train, y_train, test_size=0.2)\n",
    "print(\"X_train.shape: \", X_train.shape)\n",
    "print(\"X_val.shape: \", X_val.shape)\n",
    "print(\"y_train.shape: \", y_train.shape)\n",
    "print(\"y_val.shape: \", y_val.shape)"
   ]
  },
  {
   "cell_type": "code",
   "execution_count": 0,
   "metadata": {
    "colab": {},
    "colab_type": "code",
    "id": "idUVpZvjRWEr"
   },
   "outputs": [],
   "source": [
    "class Tf_cnn:\n",
    "    \"\"\"\n",
    "    Tensorflowを使ったニューラルネットワーク(MNIST用)\n",
    "    \n",
    "    \"\"\"\n",
    "    def __init__(self, learning_rate=0.01, random_seed=None):\n",
    "        self.g = tf.Graph()\n",
    "        \n",
    "        # 計算グラフを構築\n",
    "        with self.g.as_default():\n",
    "            # 計算グラフ内の乱数シードを設定\n",
    "            tf.set_random_seed(random_seed)\n",
    "            \n",
    "            self.X = tf.placeholder(tf.float32, shape=[None, 28, 28, 1], name='X_input')\n",
    "            self.y = tf.placeholder(tf.int32, shape=[None], name='y_input')\n",
    "\n",
    "            # One-hot encoding:\n",
    "            y_onehot = tf.one_hot(\n",
    "                indices=self.y, depth=10, dtype=tf.float32, name='tf_y_onehot')\n",
    "\n",
    "            # 畳み込み層、プーリング層の2セットを定義\n",
    "            h1 = self._conv_layer(self.X, name='conv_1', \n",
    "                             kernel_size=(5, 5), padding_mode='VALID', n_output_channels=32)\n",
    "            h1_pool = tf.nn.max_pool(\n",
    "                h1, ksize=[1, 2, 2, 1], strides=[1, 2, 2, 1], padding='SAME')\n",
    "            h2 = self._conv_layer(h1_pool, name='conv_2', \n",
    "                             kernel_size=(5, 5), padding_mode='VALID', n_output_channels=64)\n",
    "            h2_pool = tf.nn.max_pool(\n",
    "                h2, ksize=[1, 2, 2, 1], strides=[1, 2, 2, 1], padding='SAME')\n",
    "            \n",
    "            # 全結合層を定義\n",
    "            h3 = self._fullconn_layer(\n",
    "                h2_pool, name='fc_3', n_output_units=1024, activation_func=tf.nn.relu)\n",
    "\n",
    "            # ドロップアウト層を定義\n",
    "            self.keep_prob = tf.placeholder(tf.float32, name='fc_keep_prob')\n",
    "            h3_drop = tf.nn.dropout(h3, keep_prob=self.keep_prob, name='dropout_layer')\n",
    "            \n",
    "            # 出力層を定義\n",
    "            h4 = self._fullconn_layer(\n",
    "                h3_drop, name='fc_4', n_output_units=10, activation_func=None)\n",
    "\n",
    "            # 予測\n",
    "            self.predictions = {\n",
    "                'probabilities' : tf.nn.softmax(h4, name='probabilities'),\n",
    "                'labels' : tf.cast(tf.argmax(h4, axis=1), tf.int32, name='labels')\n",
    "            }\n",
    "\n",
    "            # 損失関数\n",
    "            self.cross_entropy_loss = tf.reduce_mean(\n",
    "                tf.nn.softmax_cross_entropy_with_logits_v2(\n",
    "                    logits=h4, labels=y_onehot), name='cross_entropy_loss')\n",
    "            \n",
    "            # 最適化手法を定義\n",
    "            optimizer = tf.train.AdamOptimizer(learning_rate)\n",
    "            self.train_op = optimizer.minimize(self.cross_entropy_loss, name='train_op')\n",
    "\n",
    "            # 正解率を定義\n",
    "            correct_predictions = tf.equal(\n",
    "                self.predictions['labels'], self.y, name='correct_preds')\n",
    "            self.accuracy = tf.reduce_mean(\n",
    "                tf.cast(correct_predictions, tf.float32), name='accuracy')\n",
    "            \n",
    "            # 全変数のInitializerを生成\n",
    "            self.init_op = tf.global_variables_initializer()\n",
    "    \n",
    "    def _conv_layer(self, input_tensor, name, kernel_size, \n",
    "                    n_output_channels, padding_mode='SAME', strides=(1, 1, 1, 1)):\n",
    "      \"\"\"\n",
    "      畳み込み層構築用のラッパー関数\n",
    "      \n",
    "      input_tensor: 入力テンソル(バッチ数, 高さ, 幅, 入力チャンネル数)\n",
    "      name: 層の名前(スコープ名)\n",
    "      kernel_size: フィルターを構成するカーネルのサイズ(高さと幅のリストまたはタプル)\n",
    "      n_output_channels: 出力チャンネル数\n",
    "      padding_mode: パディングの種類(default: 入力ベクトルと同じにする\"SAME\")\n",
    "      strides: ストライド数のタプル(default: (1,1,1,1))\n",
    "      \n",
    "      \"\"\"\n",
    "      # 変数管理用のスコープ定義\n",
    "      with tf.variable_scope(name):\n",
    "        \n",
    "        # 入力チャンネル数を取得\n",
    "        input_shape = input_tensor.get_shape().as_list()\n",
    "        n_input_channels = input_shape[-1]\n",
    "        # 重みwとバイアスbを定義\n",
    "        weights_shape = (list(kernel_size) + [n_input_channels, n_output_channels])\n",
    "        weights = tf.get_variable(name='_weights', shape=weights_shape)\n",
    "        biases = tf.get_variable(name='_biases', \n",
    "                                 initializer=tf.zeros(shape=[n_output_channels]))\n",
    "\n",
    "        # 入力テンソルとフィルターで畳み込み\n",
    "        conv = tf.nn.conv2d(\n",
    "            input=input_tensor, filter=weights, strides=strides, padding=padding_mode)\n",
    "        # バイアスbを加算\n",
    "        conv = tf.nn.bias_add(conv, biases, name='net_pre-activation')\n",
    "        # ReLUで活性化\n",
    "        conv = tf.nn.relu(conv, name='activation')\n",
    "\n",
    "        return conv\n",
    "    \n",
    "    def _fullconn_layer(self, input_tensor, name, n_output_units, activation_func=None):\n",
    "      \"\"\"\n",
    "      全結合層構築用のラッパー関数\n",
    "      \n",
    "      input: 入力テンソル(バッチ数, 高さ, 幅, 入力チャンネル数)\n",
    "      name: 層の名前(スコープ名)\n",
    "      n_output_units: 出力ユニット数\n",
    "      activation_func: 活性化関数(default: None)\n",
    "      \n",
    "      \"\"\"\n",
    "      # 変数管理用のスコープ定義\n",
    "      with tf.variable_scope(name):\n",
    "        \n",
    "        # 1サンプルあたりの要素の総数を計算(配列要素の積)\n",
    "        input_shape = input_tensor.get_shape().as_list()[1:]\n",
    "        n_input_units = np.prod(input_shape)\n",
    "        # 畳み込み層からの入力の場合は平滑化する\n",
    "        if len(input_shape) > 1:\n",
    "          input_tensor = tf.reshape(input_tensor, shape=(-1, n_input_units))\n",
    "        \n",
    "        # 重みwとバイアスbを定義\n",
    "        weights_shape = [n_input_units, n_output_units]\n",
    "        weights = tf.get_variable(name='_weights', shape=weights_shape)\n",
    "        biases = tf.get_variable(\n",
    "            name='_biases', initializer=tf.zeros(shape=[n_output_units]))\n",
    "        \n",
    "        # 入力テンソルと重みとの内積\n",
    "        layer = tf.matmul(input_tensor, weights)\n",
    "        # バイアスbを加算\n",
    "        layer = tf.nn.bias_add(layer, biases, name='net_pre-activation')\n",
    "        \n",
    "        # 出力層の場合は活性化しない\n",
    "        if activation_func is None:\n",
    "          return layer\n",
    "        \n",
    "        # 隠れ層の場合は活性化\n",
    "        layer = activation_func(layer, name='activation')\n",
    "        return layer\n",
    "    \n",
    "\n",
    "class GetMiniBatch:\n",
    "    \"\"\"\n",
    "    ミニバッチを取得するイテレータ\n",
    "\n",
    "    Parameters\n",
    "    ----------\n",
    "    X : 次の形のndarray, shape (n_samples, n_features)\n",
    "      学習データ\n",
    "    y : 次の形のndarray, shape (n_samples, n_classes)\n",
    "      正解値\n",
    "    batch_size : int\n",
    "      バッチサイズ\n",
    "    seed : int\n",
    "      NumPyの乱数のシード\n",
    "    \"\"\"\n",
    "    def __init__(self, X, y, batch_size = 10, seed=0):\n",
    "        self.batch_size = batch_size\n",
    "        np.random.seed(seed)\n",
    "        shuffle_index = np.random.permutation(np.arange(X.shape[0]))\n",
    "        self.X = X[shuffle_index]\n",
    "        self.y = y[shuffle_index]\n",
    "        self._stop = np.ceil(X.shape[0]/self.batch_size).astype(np.int)\n",
    "    \n",
    "    # 1エポック内でのイテレーション回数を返す\n",
    "    def __len__(self):\n",
    "        return self._stop\n",
    "    \n",
    "    # 各イテレーションで使うバッチデータを返す\n",
    "    def __getitem__(self,item):\n",
    "        p0 = item*self.batch_size\n",
    "        p1 = item*self.batch_size + self.batch_size\n",
    "        return self.X[p0:p1], self.y[p0:p1]\n",
    "    \n",
    "    # イテレーションのカウント数をゼロにする\n",
    "    def __iter__(self):\n",
    "        self._counter = 0\n",
    "        return self\n",
    "    \n",
    "    # 次のイテレーションで使うバッチデータを返す\n",
    "    def __next__(self):\n",
    "        if self._counter >= self._stop:\n",
    "            raise StopIteration()\n",
    "        p0 = self._counter*self.batch_size\n",
    "        p1 = self._counter*self.batch_size + self.batch_size\n",
    "        self._counter += 1\n",
    "        return self.X[p0:p1], self.y[p0:p1]\n",
    "\n",
    "\n",
    "def train_func(sess, model, X_train, y_train, \n",
    "               X_val=None, y_val=None, num_epochs=10, batch_size=10, dropout=0.5):\n",
    "    \"\"\"\n",
    "    Tensorflowを使ったモデルで学習するための関数\n",
    "    \n",
    "    \"\"\"\n",
    "    # パラメータ係数の初期化\n",
    "    sess.run(model.init_op)\n",
    "    # コスト関数値を格納する空リストを作成\n",
    "    train_costs = []\n",
    "    val_costs = []\n",
    "    \n",
    "    # trainのミニバッチイテレータを生成\n",
    "    get_mini_batch_train = GetMiniBatch(X_train, y_train, batch_size=batch_size)\n",
    "    \n",
    "    # 学習の進捗バーを設定\n",
    "    pbar = pyprind.ProgBar(\n",
    "        num_epochs * (np.ceil(X_train.shape[0] / batch_size).astype(np.int)))\n",
    "    \n",
    "    # エポック回数で学習\n",
    "    for i in range(num_epochs):\n",
    "        # バッチデータ毎に学習\n",
    "        total_cost = 0.\n",
    "        for i, (mini_batch_x, mini_batch_y) in enumerate(get_mini_batch_train):\n",
    "            # 訓練データで学習\n",
    "            feed = {model.X:mini_batch_x, model.y:mini_batch_y, model.keep_prob:dropout}\n",
    "            _, batch_cost = sess.run(\n",
    "                [model.train_op, model.cross_entropy_loss], feed_dict=feed)\n",
    "            total_cost += batch_cost\n",
    "            # 進捗バーを更新\n",
    "            pbar.update()\n",
    "        # 訓練データのコスト関数値を格納\n",
    "        total_batch = np.ceil(X_train.shape[0]/batch_size).astype(np.int)\n",
    "        train_costs.append(total_cost / total_batch)\n",
    "        # 検証データがあれば、そのコスト関数値も格納\n",
    "        if X_val is not None and y_val is not None:\n",
    "          feed = {model.X:X_val, model.y:y_val, model.keep_prob:1.0}\n",
    "          val_cost = sess.run(model.cross_entropy_loss, feed_dict=feed)\n",
    "          val_costs.append(val_cost)    \n",
    "    \n",
    "    return train_costs, val_costs\n"
   ]
  },
  {
   "cell_type": "code",
   "execution_count": 49,
   "metadata": {
    "colab": {
     "base_uri": "https://localhost:8080/",
     "height": 352
    },
    "colab_type": "code",
    "id": "EwPovx4eIqNz",
    "outputId": "1f38b10a-d9fa-4f8a-f282-4e9cd135e4a9"
   },
   "outputs": [
    {
     "name": "stderr",
     "output_type": "stream",
     "text": [
      "0% [##############################] 100% | ETA: 00:00:00\n",
      "Total time elapsed: 00:00:52\n"
     ]
    },
    {
     "name": "stdout",
     "output_type": "stream",
     "text": [
      "Train accuracy: 0.9987\n",
      "Test accuracy: 0.9921\n"
     ]
    },
    {
     "data": {
      "image/png": "[encoded data removed]",
      "text/plain": [
       "<Figure size 432x288 with 1 Axes>"
      ]
     },
     "metadata": {
      "tags": []
     },
     "output_type": "display_data"
    }
   ],
   "source": [
    "# 必要な値を用意\n",
    "learning_rate = 0.0001\n",
    "random_seed = 123\n",
    "\n",
    "# モデルのインスタンスを生成\n",
    "cnn_model = Tf_cnn(learning_rate, random_seed)\n",
    "\n",
    "# セッション開始\n",
    "with tf.Session(graph=cnn_model.g) as sess:\n",
    "    # 訓練データで学習(検証データもあれば引数として渡す)\n",
    "    train_costs, val_costs = train_func(\n",
    "        sess, cnn_model, X_train, y_train, X_val, y_val, \n",
    "        num_epochs=20, batch_size=50, dropout=0.5)\n",
    "    # train_costs, _ = train_func(sess, nnmodel, X_train, y_train, num_epochs=100)\n",
    "    \n",
    "    # 正解率を算出\n",
    "    train_accuracy = sess.run(\n",
    "        cnn_model.accuracy, \n",
    "        feed_dict={cnn_model.X:X_train, cnn_model.y:y_train, cnn_model.keep_prob:1.0})\n",
    "    test_accuracy = sess.run(\n",
    "        cnn_model.accuracy, \n",
    "        feed_dict={cnn_model.X:X_test, cnn_model.y:y_test, cnn_model.keep_prob:1.0})\n",
    "    print(\"Train accuracy: {:.4f}\".format(train_accuracy))\n",
    "    print(\"Test accuracy: {:.4f}\".format(test_accuracy))\n",
    "    \n",
    "    # 学習曲線を可視化\n",
    "    plt.rcParams[\"font.size\"] = 16\n",
    "    plt.plot(range(1,len(train_costs) + 1), train_costs, \n",
    "             marker=\"o\", color=\"steelblue\", label=\"Train\")\n",
    "    plt.plot(range(1,len(val_costs) + 1), val_costs, \n",
    "             marker=\"o\", color=\"orangered\", label=\"Validation\")\n",
    "    plt.xlabel('Epochs')\n",
    "    plt.ylabel('Cost Value')\n",
    "    plt.legend(loc=\"best\")\n",
    "    plt.tight_layout()\n",
    "    plt.show()\n"
   ]
  },
  {
   "cell_type": "code",
   "execution_count": 0,
   "metadata": {
    "colab": {},
    "colab_type": "code",
    "id": "iPddHVQoZrzW"
   },
   "outputs": [],
   "source": []
  }
 ],
 "metadata": {
  "accelerator": "GPU",
  "colab": {
   "collapsed_sections": [],
   "name": "sprint14-dnn-framework1.ipynb",
   "provenance": [],
   "version": "0.3.2"
  },
  "kernelspec": {
   "display_name": "Python 3",
   "language": "python",
   "name": "python3"
  },
  "language_info": {
   "codemirror_mode": {
    "name": "ipython",
    "version": 3
   },
   "file_extension": ".py",
   "mimetype": "text/x-python",
   "name": "python",
   "nbconvert_exporter": "python",
   "pygments_lexer": "ipython3",
   "version": "3.6.8"
  }
 },
 "nbformat": 4,
 "nbformat_minor": 1
}
