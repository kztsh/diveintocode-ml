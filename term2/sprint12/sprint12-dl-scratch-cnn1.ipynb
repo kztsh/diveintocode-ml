{
 "cells": [
  {
   "cell_type": "markdown",
   "metadata": {},
   "source": [
    "# Term1 Sprint12 授業課題 \n",
    "## コーディング課題：畳み込みニューラルネットワーク(CNN)スクラッチ1"
   ]
  },
  {
   "cell_type": "markdown",
   "metadata": {},
   "source": [
    "NumPyなど最低限のライブラリのみを使いアルゴリズムを実装していく。\n",
    "\n",
    "Sprint11で作成したディープニューラルネットワークのクラスを拡張する形でCNNを作成する。  \n",
    "まず、Sprint12で1次元畳み込み層を作成し、畳み込みの基礎を理解することを目指す。  \n",
    "そして、Sprint13で一般的に画像に対して使われる2次元畳み込み層とプーリング層を作成する。\n",
    "\n",
    "**1次元畳み込み層**  \n",
    "畳み込みニューラルネットワークは画像に対して使われる2次元畳み込みが代表的だが、理解を容易にするためにまずは1次元畳み込みを実装する。  \n",
    "1次元畳み込みは系列データで使われることが多い。  \n",
    "畳み込みは任意の次元に対して考えることができ、立体データに対しての3次元畳み込みまでがフレームワークで一般的に用意されている。\n",
    "\n",
    "**データセットの用意**  \n",
    "引き続きMNISTデータセットを使用する。  \n",
    "1次元畳み込みでは全結合のニューラルネットワークと同様に平滑化されたものを入力する。\n",
    "\n",
    "**CNN分類器クラスの作成**  \n",
    "1次元畳み込みニューラルネットワークモデルのクラスScratch1dCNNClassifierを作成する。  \n",
    "Sprint11で作成したScratchDeepNeuralNetrowkClassifierを元にする。"
   ]
  },
  {
   "cell_type": "markdown",
   "metadata": {},
   "source": [
    "## 1. チャンネル数を1に限定した1次元畳み込み層クラスの作成\n",
    "チャンネル数を1に限定した1次元畳み込み層のクラスSimpleConv1dを作成する。  \n",
    "基本構造はsprint11で作成したFCクラスと同じになる。  \n",
    "なお、重みの初期化に関するクラスは必要に応じて作り変える。Xavierの初期値などを使う点は全結合層と同様。\n",
    "\n",
    "ここではパディングは考えず、ストライドも1に固定する。  \n",
    "また、複数のデータを同時に処理することも考えなくて良く、バッチサイズは1のみに対応する。  \n",
    "この部分の拡張はアドバンス課題とする。\n",
    "\n",
    "フォワードプロパゲーションの数式は以下のようになる。\n",
    "$$a_i = \\sum_{s=0}^{F-1}x_{(i+s)}w_s+b$$\n",
    "$a_i$ : 出力される配列のi番目の値  \n",
    "$F$ : フィルタのサイズ  \n",
    "$x_{(i+s)}$ : 入力の配列の(i+s)番目の値  \n",
    "$w_s$ : 重みの配列のs番目の値\n",
    "$b$ : バイアス項\n",
    "\n",
    "全てスカラーとなる。\n",
    "\n",
    "次に更新式は以下のようになる。ここがAdaGradなどに置き換えられる点は全結合層と同様。\n",
    "$$w_s^{\\prime} = w_s - \\alpha \\frac{\\partial L}{\\partial w_s}$$\n",
    "\n",
    "$$b^{\\prime} = b - \\alpha \\frac{\\partial L}{\\partial b}$$\n",
    "\n",
    "$\\alpha$ : 学習率\n",
    "$\\frac{\\partial L}{\\partial w_s}$ : $w_s$に関する損失$L$の勾配\n",
    "$\\frac{\\partial L}{\\partial b}$ : $b$に関する損失$L$の勾配\n",
    "\n",
    "勾配$\\frac{\\partial L}{\\partial w_s}$や$\\frac{\\partial L}{\\partial b}$を求めるためのバックプロパゲーションの数式は以下の通り。\n",
    "$$\\frac{\\partial L}{\\partial w_s} = \\sum_{i=0}^{N_{out}-1} \\frac{\\partial L}{\\partial a_i}x_{(i+s)}$$\n",
    "\n",
    "$$\\frac{\\partial L}{\\partial b} = \\sum_{i=0}^{N_{out}-1} \\frac{\\partial L}{\\partial a_i}$$\n",
    "\n",
    "$\\frac{\\partial L}{\\partial a_i}$ : 勾配の配列の$i$番目の値\n",
    "$N_{out}$ : 出力のサイズ\n",
    "\n",
    "前の層に流す誤差の数式は以下の通り。\n",
    "$$\\frac{\\partial L}{\\partial x_j} = \\sum_{s=0}^{F-1} \\frac{\\partial L}{\\partial a_{(j-s)}}w_s$$\n",
    "\n",
    "$\\frac{\\partial L}{\\partial x_j}$ : 前の層に流す誤差の配列の$j$番目の値\n",
    "\n",
    "ただし、$j−s<0$または$j−s>N_{out}−1$のとき$\\frac{\\partial L}{\\partial a_{(j-s)}}=0$となる。\n",
    "\n",
    "全結合層との大きな違いは、重みが複数の特徴量に対して共有されていること。  \n",
    "この場合は共有されている分の誤差を全て足すことで勾配を求める。  \n",
    "計算グラフ上での分岐はバックプロパゲーションの際に誤差の足し算をすれば良いことになる。"
   ]
  },
  {
   "cell_type": "markdown",
   "metadata": {},
   "source": [
    "## 2. 1次元畳み込み後の出力サイズの計算\n",
    "畳み込みを行うと特徴量の数が変化する。どのように変化するかは以下の数式から求められる。  \n",
    "パディングやストライドも含めている。この計算を行う関数を作成する。\n",
    "\n",
    "$$N_{out} =  \\frac{N_{in}+2P-F}{S} + 1$$\n",
    "\n",
    "$N_{out}$ : 出力のサイズ（特徴量の数）  \n",
    "$N_{in}$ : 入力のサイズ（特徴量の数）  \n",
    "$P$ : ある方向へのパディングの数  \n",
    "$F$ : フィルタのサイズ  \n",
    "$S$ : ストライドのサイズ"
   ]
  },
  {
   "cell_type": "markdown",
   "metadata": {},
   "source": [
    "## 3. 小さな配列での1次元畳み込み層の実験\n",
    "次に示す小さな配列でフォワードプロパゲーションとバックプロパゲーションが正しく行えているか確認する。  \n",
    "入力$x$、重み$w$、バイアス$b$を次のようにする。\n"
   ]
  },
  {
   "cell_type": "code",
   "execution_count": null,
   "metadata": {},
   "outputs": [],
   "source": []
  }
 ],
 "metadata": {
  "kernelspec": {
   "display_name": "Python 3",
   "language": "python",
   "name": "python3"
  },
  "language_info": {
   "codemirror_mode": {
    "name": "ipython",
    "version": 3
   },
   "file_extension": ".py",
   "mimetype": "text/x-python",
   "name": "python",
   "nbconvert_exporter": "python",
   "pygments_lexer": "ipython3",
   "version": "3.6.8"
  }
 },
 "nbformat": 4,
 "nbformat_minor": 2
}
