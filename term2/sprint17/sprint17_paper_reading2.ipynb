{
 "cells": [
  {
   "cell_type": "markdown",
   "metadata": {},
   "source": [
    "# Term2 Sprint17 授業課題 \n",
    "## 論文紹介"
   ]
  },
  {
   "cell_type": "markdown",
   "metadata": {},
   "source": [
    "- 関連づいた論文を複数選び、特定の問いを用いて要旨をまとめる\n",
    "- 共通の観点に基づき短い時間で関心分野の研究動向をつかむ\n",
    "- 聞いた人がその分野について何らかの傾向をつかめる発表にする。\n",
    "- 論文の選定理由を答えられるようにする。"
   ]
  },
  {
   "cell_type": "markdown",
   "metadata": {},
   "source": [
    "[paper_sumarry](https://www.slideshare.net/KazutoshiArimoto/sprint17-159092579 \"paper_summary\")"
   ]
  },
  {
   "cell_type": "code",
   "execution_count": null,
   "metadata": {},
   "outputs": [],
   "source": []
  }
 ],
 "metadata": {
  "kernelspec": {
   "display_name": "Python 3",
   "language": "python",
   "name": "python3"
  },
  "language_info": {
   "codemirror_mode": {
    "name": "ipython",
    "version": 3
   },
   "file_extension": ".py",
   "mimetype": "text/x-python",
   "name": "python",
   "nbconvert_exporter": "python",
   "pygments_lexer": "ipython3",
   "version": "3.7.1"
  }
 },
 "nbformat": 4,
 "nbformat_minor": 2
}
