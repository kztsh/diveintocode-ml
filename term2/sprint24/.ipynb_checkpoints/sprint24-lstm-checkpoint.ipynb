{
 "cells": [
  {
   "cell_type": "markdown",
   "metadata": {},
   "source": [
    "# Term2 Sprint24 授業課題 \n",
    "## コーディング課題：ゲート付きRNN"
   ]
  },
  {
   "cell_type": "markdown",
   "metadata": {},
   "source": [
    "Kerasには複数のRecurrentレイヤーが用意されている。  \n",
    "今回のSprintではこれら全てを動かし、それらを理解し区別できる状態を目指す。\n",
    "\n",
    "以下のドキュメントにまとめられている。\n",
    "\n",
    "[Recurrentレイヤー - Keras Documentation](https://keras.io/ja/layers/recurrent/ \"Recurrentレイヤー - Keras Documentation\")\n",
    "\n",
    "次の11個の項目がある。\n",
    "\n",
    "- RNN\n",
    "- SimpleRNN\n",
    "- GRU\n",
    "- LSTM\n",
    "- ConvLSTM2D\n",
    "- SimpleRNNCell\n",
    "- GRUCell\n",
    "- LSTMCell\n",
    "- StackedRNNCells\n",
    "- CuDNNGRU\n",
    "- CuDNNLSTM"
   ]
  },
  {
   "cell_type": "markdown",
   "metadata": {},
   "source": [
    "## 1. 各種手法の実行\n",
    "Keras公式のサンプルをスタートコードとする。これを元に、上記11個の項目全てを使用する。\n",
    "\n",
    "例えばこの中でSimpleRNNとLSTMなどは並列関係であり、精度の比較が行える。  \n",
    "そういった関係を見つけて比較をする。\n",
    "\n",
    "なおConvLSTM2Dのみ2次元配列を受け付ける手法であり、他と単純な精度の比較はできない。\n",
    "\n",
    "**LSTMのサンプルコード**\n",
    "\n",
    "[keras/imdb_lstm.py at master · keras-team/keras](https://github.com/keras-team/keras/blob/master/examples/imdb_lstm.py \"keras/imdb_lstm.py at master · keras-team/keras\")\n",
    "\n",
    "**ConvLSTM2Dのサンプルコード**\n",
    "\n",
    "[keras/conv_lstm.py at master · keras-team/keras](https://github.com/keras-team/keras/blob/master/examples/conv_lstm.py \"keras/conv_lstm.py at master · keras-team/keras\")\n",
    "\n",
    "このサンプルコードをそのまま使う必要はなく、ノード数やエポックなどは変更して構わない。  \n",
    "全て実行する上での実行時間を考慮した数に設定する。"
   ]
  },
  {
   "cell_type": "code",
   "execution_count": null,
   "metadata": {},
   "outputs": [],
   "source": []
  },
  {
   "cell_type": "markdown",
   "metadata": {},
   "source": [
    "## 2. 比較結果の説明\n",
    "11の項目それぞれがどういうものなのかを説明する。  \n",
    "また、比較した結果を表やグラフで載せ、説明する。  \n",
    "今回は「RNNはそれほど詳しくないがタスクで必要になったためKerasのドキュメントを見た」という仮定を置く。\n",
    "\n",
    "- RNN\n",
    "- SimpleRNN\n",
    "- GRU\n",
    "- LSTM\n",
    "- ConvLSTM2D\n",
    "- SimpleRNNCell\n",
    "- GRUCell\n",
    "- LSTMCell\n",
    "- StackedRNNCells\n",
    "- CuDNNGRU\n",
    "- CuDNNLSTM"
   ]
  },
  {
   "cell_type": "markdown",
   "metadata": {},
   "source": [
    "## 3. 複数のデータセット間での比較（アドバンス課題）\n",
    "単一のデータセットでの実験に留めず、他のデータセットでも実験してみる。\n",
    "\n",
    "[データセット - Keras Documentation](https://keras.io/ja/datasets/#_5 \"データセット - Keras Documentation\")\n",
    "\n",
    "Kerasで簡単に利用できる自然言語データセットとしてロイターのニュースワイヤー トピックス分類がある。  \n",
    "IMDBは2値分類であったが、こちらは46値分類の問題となる。"
   ]
  },
  {
   "cell_type": "code",
   "execution_count": null,
   "metadata": {},
   "outputs": [],
   "source": []
  }
 ],
 "metadata": {
  "kernelspec": {
   "display_name": "Python 3",
   "language": "python",
   "name": "python3"
  },
  "language_info": {
   "codemirror_mode": {
    "name": "ipython",
    "version": 3
   },
   "file_extension": ".py",
   "mimetype": "text/x-python",
   "name": "python",
   "nbconvert_exporter": "python",
   "pygments_lexer": "ipython3",
   "version": "3.7.1"
  }
 },
 "nbformat": 4,
 "nbformat_minor": 2
}
