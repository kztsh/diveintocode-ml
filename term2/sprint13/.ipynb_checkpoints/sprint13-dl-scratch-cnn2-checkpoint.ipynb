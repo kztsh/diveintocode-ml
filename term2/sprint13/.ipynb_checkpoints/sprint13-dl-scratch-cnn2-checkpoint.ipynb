{
 "cells": [
  {
   "cell_type": "markdown",
   "metadata": {},
   "source": [
    "# Term1 Sprint13 授業課題 \n",
    "## コーディング課題：畳み込みニューラルネットワーク(CNN)スクラッチ2"
   ]
  },
  {
   "cell_type": "markdown",
   "metadata": {},
   "source": [
    "NumPyなど最低限のライブラリのみを使いアルゴリズムを実装していく。\n",
    "\n",
    "Sprint12では1次元畳み込み層を実装したが、Sprint13では画像に対して一般的に使われる2次元畳み込み層を実装する。  \n",
    "また、プーリング層なども作成することで、CNNの基本形を完成させる。  \n",
    "\n",
    "**データセットの用意**  \n",
    "引き続きMNISTデータセットを使用する。2次元畳み込み層へは、28×28の状態で入力する。\n",
    "\n",
    "今回は白黒画像であるからチャンネルは1つしかないが、チャンネル方向の軸は用意しておく必要がある。\n",
    "\n",
    "(n_samples, n_channels, height, width)のNCHWまたは(n_samples, height, width, n_channels)のNHWCどちらかの形にする。\n",
    "\n",
    "**CNN分類器クラスの作成**  \n",
    "2次元畳み込みニューラルネットワークモデルのクラスScratch2dCNNClassifierを作成する。"
   ]
  },
  {
   "cell_type": "markdown",
   "metadata": {},
   "source": [
    "## 1. 2次元畳み込み層の作成\n",
    "Sprint12で作成した1次元畳み込み層を発展させ、2次元畳み込み層のクラスConv2dを作成する。  \n",
    "\n",
    "フォワードプロパゲーションの数式は以下のようになる。\n",
    "$$a_{i,j,m} = \\sum_{k=0}^{K-1}\\sum_{s=0}^{F_{h}-1}\\sum_{t=0}^{F_{w}-1}x_{(i+s),(j+t),k}w_{s,t,k,m}+b_{m}$$\n",
    "\n",
    "$a_{i,j,m}$ : 出力される配列の$i$行j列、$m$チャンネルの値  \n",
    "$i$ : 配列の行方向のインデックス  \n",
    "$j$ : 配列の列方向のインデックス  \n",
    "$m$ : 出力チャンネルのインデックス  \n",
    "$K$ : 入力チャンネル数  \n",
    "$F_h,F_w$ : 高さ方向$（h）$と幅方向$（w）$のフィルタのサイズ  \n",
    "$x_{(i+s),(j+t),k}$ : 入力の配列の$(i+s)$行$(j+t)$列、$k$チャンネルの値  \n",
    "$w_{s,t,k,m}$ : 重みの配列の$s$行$t$列目。$k$チャンネルの入力に対して、$m$チャンネルへ出力する重み  \n",
    "$b_m$ : $m$チャンネルへの出力のバイアス項  \n",
    "\n",
    "全てスカラー量となる。\n",
    "\n",
    "次に更新式は、1次元畳み込み層や全結合層と同じ形である。\n",
    "$$w_{s,t,k,m}^{\\prime} = w_{s,t,k,m} - \\alpha \\frac{\\partial L}{\\partial w_{s,t,k,m}}$$\n",
    "\n",
    "$$b_{m}^{\\prime} = b_{m} - \\alpha \\frac{\\partial L}{\\partial b_{m}}$$\n",
    "\n",
    "$\\alpha$ : 学習率  \n",
    "$\\frac{\\partial L}{\\partial w_{s,t,k,m}}$ : $w_{s,t,k,m}$に関する損失$L$の勾配  \n",
    "$\\frac{\\partial L}{\\partial b_m}$ : $b_m$に関する損失$L$の勾配  \n",
    "勾配$\\frac{\\partial L}{\\partial w_{s,t,k,m}}$や$\\frac{\\partial L}{\\partial b_m}$を求めるためのバックプロパゲーションの数式は以下の通り。\n",
    "\n",
    "$$\\frac{\\partial L}{\\partial w_{s,t,k,m}} = \\sum_{i=0}^{N_{out,h}-1}\\sum_{j=0}^{N_{out,w}-1} \\frac{\\partial L}{\\partial a_{i,j,m}}x_{(i+s)(j+t),k}$$\n",
    "\n",
    "$$\\frac{\\partial L}{\\partial b_{m}} = \\sum_{i=0}^{N_{out,h}-1}\\sum_{j=0}^{N_{out,w}-1}\\frac{\\partial L}{\\partial a_{i,j,m}}$$\n",
    "\n",
    "$\\frac{\\partial L}{\\partial a_i}$ : 勾配の配列の$i$行$j$列、$m$チャンネルの値  \n",
    "$N_{out,h},N_{out,w}$ : 高さ方向$（h）$と幅方向$（w）$の出力のサイズ  \n",
    "\n",
    "前の層に流す誤差の数式は以下の通り。\n",
    "$$\\frac{\\partial L}{\\partial x_{i,j,k}} = \\sum_{m=0}^{M-1}\\sum_{s=0}^{F_{h}-1}\\sum_{t=0}^{F_{w}-1} \\frac{\\partial L}{\\partial a_{(i-s),(j-t),m}}w_{s,t,k,m}$$\n",
    "\n",
    "$\\frac{\\partial L}{\\partial x_{i,j,k}}$ : 前の層に流す誤差の配列の$i$列$j$行、$k$チャンネルの値  \n",
    "$M$ : 出力チャンネル数  \n",
    "\n",
    "ただし、$i−s<0$または$i−s>N_{out,h}−1$または$j−t<0$または$j−t>N_{out,w}−1$のとき$\\frac{\\partial L}{\\partial a_{(i−s),(j−t),m}}=0$となる。"
   ]
  },
  {
   "cell_type": "markdown",
   "metadata": {},
   "source": [
    "## 2. 2次元畳み込み後の出力サイズ\n",
    "畳み込みを行うと特徴マップのサイズが変化する。  \n",
    "どのように変化するかは以下の数式から求められる。この計算を行う関数を作成する。\n",
    "\n",
    "$$N_{h,out} =  \\frac{N_{h,in}+2P_{h}-F_{h}}{S_{h}} + 1$$\n",
    "\n",
    "$$N_{w,out} =  \\frac{N_{w,in}+2P_{w}-F_{w}}{S_{w}} + 1$$\n",
    "\n",
    "$N_{out}$ : 出力のサイズ（特徴量の数）  \n",
    "$N_{in}$ : 入力のサイズ（特徴量の数）  \n",
    "$P$ : ある方向へのパディングの数  \n",
    "$F$ : フィルタのサイズ  \n",
    "$S$ : ストライドのサイズ  \n",
    "$h$が高さ方向、$w$が幅方向である。"
   ]
  },
  {
   "cell_type": "markdown",
   "metadata": {},
   "source": [
    "## 3. 最大プーリング層の作成\n",
    "最大プーリング層のクラスMaxPool2Dを作成する。  \n",
    "プーリング層は数式で表さない方が分かりやすい部分もあるが、フォワードプロパゲーションの数式は以下のようになる。\n",
    "\n",
    "$$a_{i,j,k} = \\max_{(p,q)\\in P_{i,j}}x_{p,q,k}$$\n",
    "\n",
    "$P_{i,j}$ : $i$行$j$列への出力する場合の入力配列のインデックスの集合。$S_h*S_w$の範囲内の行$（p）$と列$（q）$  \n",
    "$S_h,S_w$ : 高さ方向$（h）$と幅方向$（w）$のストライドのサイズ  \n",
    "$(p,q) \\in P_{i,j}$ : $P_{i,j}$に含まれる行$（p）$と列$（q）$のインデックス  \n",
    "$a_{i,j,m}$ : 出力される配列の$i$行$j$列、$k$チャンネルの値  \n",
    "$x_{p,q,k} : 入力の配列の$p$行$q$列、$k$チャンネルの値  \n",
    "\n",
    "ある範囲の中でチャンネル方向の軸は残したまま最大値を計算することになる。\n",
    "\n",
    "バックプロパゲーションのためには、フォワードプロパゲーションのときの最大値のインデックス$(p,q)$を保持しておく必要がある。  \n",
    "フォワード時に最大値を持っていた箇所にそのままの誤差を流し、そこ以外には0を入れるためである。\n"
   ]
  },
  {
   "cell_type": "markdown",
   "metadata": {},
   "source": [
    "## 4. 平滑化\n",
    "平滑化するためのクラスFlatten()を作成する。\n",
    "\n",
    "フォワードのときはチャンネル、高さ、幅の3次元を1次元にreshapeする。  \n",
    "その値は記録しておき、バックワードのときに再びreshapeによって形を戻す。"
   ]
  },
  {
   "cell_type": "markdown",
   "metadata": {},
   "source": [
    "## 5. 学習・推定\n",
    "作成したConv2dを使用してMNISTの分類を学習・推定する。\n",
    "\n",
    "この段階では精度は気にせず、動くことを確認する。"
   ]
  },
  {
   "cell_type": "markdown",
   "metadata": {},
   "source": [
    "## 6. LeNet（アドバンス課題）\n",
    "CNNで画像認識を行う際は、フィルタサイズや層の数などを１から考えるのではなく、有名な構造を利用することが一般的。\n",
    "\n",
    "現在では実用的に使われることはないが、歴史的に重要なのは1998年のLeNetである。この構造を再現して動かしてみる。\n",
    "\n",
    "[Y. LeCun, L. Bottou, Y. Bengio, and P. Haffner. Gradient-based learning applied to document recognition. Proceedings of the IEEE, 86(11):2278–2324, 1998.](http://yann.lecun.com/exdb/publis/pdf/lecun-98.pdf \"Y. LeCun, L. Bottou, Y. Bengio, and P. Haffner. Gradient-based learning applied to document recognition. Proceedings of the IEEE, 86(11):2278–2324, 1998.\")\n",
    "\n",
    "サブサンプリングとは現在のプーリングに相当するもの。現代風に以下のように作ってみる。活性化関数も当時はシグモイド関数だが、ReLUとする。\n",
    "\n",
    "- 畳み込み層　出力チャンネル数6、フィルタサイズ5×5、ストライド1\n",
    "- ReLU\n",
    "- 最大プーリング\n",
    "- 畳み込み層　出力チャンネル数16、フィルタサイズ5×5、ストライド1\n",
    "- ReLU\n",
    "- 最大プーリング\n",
    "- 平滑化\n",
    "- 全結合層　出力ノード数120\n",
    "- ReLU\n",
    "- 全結合層　出力ノード数84\n",
    "- ReLU\n",
    "- 全結合層　出力ノード数10\n",
    "- ソフトマックス関数"
   ]
  },
  {
   "cell_type": "markdown",
   "metadata": {},
   "source": [
    "## 7. 有名な画像認識モデルの調査（アドバンス課題）\n",
    "CNNの代表的な構造としてはAlexNet(2012)、VGG16(2014)などがある。  \n",
    "こういったものはフレームワークで既に用意されていることも多い。\n",
    "\n",
    "どういったものがあるか簡単に調べてまとめる。名前だけでも見ておくと良い。\n",
    "\n",
    "**参考**  \n",
    "[Applications - Keras Documentation](https://keras.io/ja/applications/ \"Applications - Keras Documentation\")\n"
   ]
  },
  {
   "cell_type": "markdown",
   "metadata": {},
   "source": [
    "## 8. 平均プーリングの作成（アドバンス課題）\n",
    "平均プーリング層のクラスAveragePool2Dを作成する。\n",
    "\n",
    "範囲内の最大値ではなく、平均値を出力とするプーリング層のこと。\n",
    "\n",
    "画像認識関係では最大プーリング層が一般的で、平均プーリングはあまり使われない。"
   ]
  },
  {
   "cell_type": "markdown",
   "metadata": {},
   "source": [
    "## 9. 出力サイズとパラメータ数の計算\n",
    "CNNモデルを構築する際には、全結合層に入力する段階で特徴量がいくつになっているかを事前に計算する必要がある。\n",
    "\n",
    "また、巨大なモデルを扱うようになると、メモリや計算速度の関係でパラメータ数の計算は必須になってくる。  \n",
    "フレームワークでは各層のパラメータ数を表示させることが可能だが、意味を理解していないと適切な調整が行えない。\n",
    "\n",
    "以下の3つの畳み込み層の出力サイズとパラメータ数を計算する。  \n",
    "パラメータ数についてはバイアス項も考える。\n",
    "\n",
    "1.\n",
    "- 入力サイズ : 144×144, 3チャンネル\n",
    "- フィルタサイズ : 3×3, 6チャンネル\n",
    "- ストライド : 1\n",
    "- パディング : なし\n",
    "\n",
    "2.\n",
    "- 入力サイズ : 60×60, 24チャンネル\n",
    "- フィルタサイズ : 3×3, 48チャンネル\n",
    "- ストライド　: 1\n",
    "- パディング : なし\n",
    "\n",
    "3.\n",
    "- 入力サイズ : 20×20, 10チャンネル\n",
    "- フィルタサイズ: 3×3, 20チャンネル\n",
    "- ストライド : 2\n",
    "- パディング : なし\n",
    "\n",
    "＊最後の例は丁度良く畳み込みをすることができない場合である。  \n",
    "フレームワークでは余ったピクセルを見ないという処理が行われることがあるので、その場合を考えて計算する。  \n",
    "端が欠けてしまうので、こういった設定は好ましくないという例である。"
   ]
  },
  {
   "cell_type": "markdown",
   "metadata": {},
   "source": [
    "## 10. フィルタサイズに関する調査（アドバンス課題）\n",
    "畳み込み層にはフィルタサイズというハイパーパラメータがあるが、2次元畳み込み層において現在では3×3と1×1の使用が大半。  \n",
    "以下のそれぞれを調べたり、自分なりに考えて説明する。\n",
    "\n",
    "- 7×7などの大きめのものではなく、3×3のフィルタが一般的に使われる理由\n",
    "- 高さや幅方向を持たない1×1のフィルタの効果"
   ]
  },
  {
   "cell_type": "code",
   "execution_count": null,
   "metadata": {},
   "outputs": [],
   "source": []
  }
 ],
 "metadata": {
  "kernelspec": {
   "display_name": "Python 3",
   "language": "python",
   "name": "python3"
  },
  "language_info": {
   "codemirror_mode": {
    "name": "ipython",
    "version": 3
   },
   "file_extension": ".py",
   "mimetype": "text/x-python",
   "name": "python",
   "nbconvert_exporter": "python",
   "pygments_lexer": "ipython3",
   "version": "3.6.8"
  }
 },
 "nbformat": 4,
 "nbformat_minor": 2
}
